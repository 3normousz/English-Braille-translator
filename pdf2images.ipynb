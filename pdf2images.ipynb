{
 "cells": [
  {
   "cell_type": "code",
   "id": "initial_id",
   "metadata": {
    "collapsed": true,
    "ExecuteTime": {
     "end_time": "2024-11-16T09:43:01.020376Z",
     "start_time": "2024-11-16T09:43:01.011751Z"
    }
   },
   "source": [
    "from pdf2image import convert_from_path\n",
    "import os"
   ],
   "outputs": [],
   "execution_count": 7
  },
  {
   "metadata": {
    "ExecuteTime": {
     "end_time": "2024-11-16T09:43:01.034036Z",
     "start_time": "2024-11-16T09:43:01.027395Z"
    }
   },
   "cell_type": "code",
   "source": [
    "def pdf_to_images(pdf_dir, output_base_dir, dpi=300):\n",
    "    \"\"\"\n",
    "    Converts all PDF files in a directory to images and saves them in subdirectories.\n",
    "    \n",
    "    Args:\n",
    "        pdf_dir (str): Path to the directory containing PDF files.\n",
    "        output_base_dir (str): Base directory to save the output images.\n",
    "        dpi (int): Resolution of the output images in dots per inch (default=300).\n",
    "    \"\"\"\n",
    "    # Ensure the output base directory exists\n",
    "    os.makedirs(output_base_dir, exist_ok=True)\n",
    "\n",
    "    # Get a list of PDF files in the directory\n",
    "    pdf_files = [f for f in os.listdir(pdf_dir) if f.endswith('.pdf')]\n",
    "\n",
    "    # Process each PDF file\n",
    "    for idx, pdf_file in enumerate(pdf_files):\n",
    "        pdf_path = os.path.join(pdf_dir, pdf_file)\n",
    "        output_dir = os.path.join(output_base_dir, str(idx))  # Subdirectory for each PDF\n",
    "        os.makedirs(output_dir, exist_ok=True)\n",
    "\n",
    "        print(f\"Processing {pdf_file}...\")\n",
    "\n",
    "        # Convert PDF to images\n",
    "        try:\n",
    "            pages = convert_from_path(pdf_path, dpi=dpi)\n",
    "            for page_num, page in enumerate(pages):\n",
    "                image_path = os.path.join(output_dir, f\"page_{page_num + 1}.png\")\n",
    "                page.save(image_path, \"PNG\")\n",
    "                print(f\"Saved: {image_path}\")\n",
    "        except Exception as e:\n",
    "            print(f\"Error processing {pdf_file}: {e}\")"
   ],
   "id": "a36f2e667f7ceebf",
   "outputs": [],
   "execution_count": 8
  },
  {
   "metadata": {
    "ExecuteTime": {
     "end_time": "2024-11-16T09:43:10.734444Z",
     "start_time": "2024-11-16T09:43:01.043494Z"
    }
   },
   "cell_type": "code",
   "source": [
    "pdf_dir = \"data/raw/pdf/\"\n",
    "output_base_dir = \"data/processed/\"\n",
    "pdf_to_images(pdf_dir, output_base_dir)"
   ],
   "id": "979a5da18af2cb8c",
   "outputs": [
    {
     "name": "stdout",
     "output_type": "stream",
     "text": [
      "Processing UEB-Sample-1-PDF-file1.pdf...\n",
      "Saved: data/processed/0\\page_1.png\n",
      "Saved: data/processed/0\\page_2.png\n",
      "Processing UEB-Sample-2-PDF-file.pdf...\n",
      "Saved: data/processed/1\\page_1.png\n",
      "Saved: data/processed/1\\page_2.png\n",
      "Processing UEB-Sample-3-PDF-file.pdf...\n",
      "Saved: data/processed/2\\page_1.png\n",
      "Saved: data/processed/2\\page_2.png\n",
      "Saved: data/processed/2\\page_3.png\n",
      "Processing UEB-Sample-4-PDF-file.pdf...\n",
      "Saved: data/processed/3\\page_1.png\n",
      "Saved: data/processed/3\\page_2.png\n",
      "Processing UEB-Sample-5-PDF-file.pdf...\n",
      "Saved: data/processed/4\\page_1.png\n",
      "Saved: data/processed/4\\page_2.png\n",
      "Saved: data/processed/4\\page_3.png\n",
      "Processing UEB-Sample-6-PDF-file.pdf...\n",
      "Saved: data/processed/5\\page_1.png\n",
      "Processing UEB-Sample-7-PDF-file.pdf...\n",
      "Saved: data/processed/6\\page_1.png\n",
      "Saved: data/processed/6\\page_2.png\n",
      "Saved: data/processed/6\\page_3.png\n",
      "Processing UEB-Sample-7a-PDF-file.pdf...\n",
      "Saved: data/processed/7\\page_1.png\n",
      "Saved: data/processed/7\\page_2.png\n",
      "Processing UEB-Sample-8-PDF-file.pdf...\n",
      "Saved: data/processed/8\\page_1.png\n"
     ]
    }
   ],
   "execution_count": 9
  }
 ],
 "metadata": {
  "kernelspec": {
   "display_name": "Python 3",
   "language": "python",
   "name": "python3"
  },
  "language_info": {
   "codemirror_mode": {
    "name": "ipython",
    "version": 2
   },
   "file_extension": ".py",
   "mimetype": "text/x-python",
   "name": "python",
   "nbconvert_exporter": "python",
   "pygments_lexer": "ipython2",
   "version": "2.7.6"
  }
 },
 "nbformat": 4,
 "nbformat_minor": 5
}
