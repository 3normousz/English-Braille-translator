{
 "cells": [
  {
   "cell_type": "code",
   "id": "initial_id",
   "metadata": {
    "collapsed": true,
    "ExecuteTime": {
     "end_time": "2024-11-16T08:42:30.262341Z",
     "start_time": "2024-11-16T08:42:30.257842Z"
    }
   },
   "source": [
    "import os\n",
    "import cv2\n",
    "import numpy as np\n",
    "import matplotlib.pyplot as plt\n",
    "\n",
    "\n",
    "from sklearn.preprocessing import LabelEncoder\n",
    "from sklearn.utils import shuffle\n",
    "\n",
    "from tensorflow import keras\n",
    "from keras.models import Sequential\n",
    "from keras.layers import Conv2D, Flatten, MaxPooling2D, Dense"
   ],
   "outputs": [],
   "execution_count": 20
  },
  {
   "metadata": {
    "ExecuteTime": {
     "end_time": "2024-11-16T08:42:33.140199Z",
     "start_time": "2024-11-16T08:42:32.071113Z"
    }
   },
   "cell_type": "code",
   "source": [
    "le = LabelEncoder()\n",
    "images = []\n",
    "labels = []\n",
    "\n",
    "training_path = 'data/raw/character_set1/training_data/'\n",
    "testing_path = 'data/raw/character_set1/testing_data/'\n"
   ],
   "id": "43859993d48bf350",
   "outputs": [],
   "execution_count": 21
  },
  {
   "metadata": {
    "ExecuteTime": {
     "end_time": "2024-11-16T08:42:44.134995Z",
     "start_time": "2024-11-16T08:42:33.927582Z"
    }
   },
   "cell_type": "code",
   "source": [
    "dir_list = os.listdir(training_path)\n",
    "for i in dir_list:\n",
    "  dir = os.path.join(training_path, i)\n",
    "  file_list = os.listdir(dir)\n",
    "  for j in file_list:\n",
    "    files = os.path.join(dir, j)\n",
    "    img = cv2.imread(files)\n",
    "    img = cv2.resize(img, (64,64))\n",
    "    img = np.array(img, dtype=np.float32)\n",
    "    img = img/255\n",
    "    images.append(img)\n",
    "    labels.append(i)"
   ],
   "id": "43bc146db7c198a7",
   "outputs": [],
   "execution_count": 22
  },
  {
   "metadata": {},
   "cell_type": "markdown",
   "source": "## Print out details of X and y",
   "id": "30e963705255a7dd"
  },
  {
   "metadata": {
    "ExecuteTime": {
     "end_time": "2024-11-16T08:42:49.100372Z",
     "start_time": "2024-11-16T08:42:44.996056Z"
    }
   },
   "cell_type": "code",
   "source": [
    "X = np.array(images)\n",
    "print(\"len(X): \",len(X))\n",
    "print(\"X.shape: \", X.shape)\n",
    "\n",
    "y = np.array(labels)\n",
    "print(\"len(y): \",len(y))\n",
    "print(\"y.shape: \", y.shape)\n"
   ],
   "id": "7f793a21829d226d",
   "outputs": [
    {
     "name": "stdout",
     "output_type": "stream",
     "text": [
      "len(X):  20628\n",
      "X.shape:  (20628, 64, 64, 3)\n",
      "len(y):  20628\n",
      "y.shape:  (20628,)\n"
     ]
    }
   ],
   "execution_count": 23
  },
  {
   "metadata": {
    "ExecuteTime": {
     "end_time": "2024-11-16T08:42:54.310010Z",
     "start_time": "2024-11-16T08:42:54.049587Z"
    }
   },
   "cell_type": "code",
   "source": [
    "le = LabelEncoder()\n",
    "y = le.fit_transform(y)\n",
    "X_sh, y_sh = shuffle(X, y, random_state=42)"
   ],
   "id": "5bd15726c2948ad5",
   "outputs": [],
   "execution_count": 24
  },
  {
   "metadata": {},
   "cell_type": "markdown",
   "source": [
    "# Create Keras model\n",
    "create a neural network model"
   ],
   "id": "cc09ffaf114d8e14"
  },
  {
   "metadata": {
    "ExecuteTime": {
     "end_time": "2024-11-16T08:42:56.627907Z",
     "start_time": "2024-11-16T08:42:56.621382Z"
    }
   },
   "cell_type": "code",
   "source": "model = Sequential()",
   "id": "6550f3e6e93b5b",
   "outputs": [],
   "execution_count": 25
  },
  {
   "metadata": {
    "ExecuteTime": {
     "end_time": "2024-11-16T08:42:58.358101Z",
     "start_time": "2024-11-16T08:42:58.268180Z"
    }
   },
   "cell_type": "code",
   "source": [
    "model.add(Conv2D(filters=16, kernel_size=(3,3), activation='relu', input_shape=(64,64,3)))\n",
    "model.add(MaxPooling2D())\n",
    "model.add(Conv2D(filters=32, kernel_size=(3,3),  activation='relu'))\n",
    "model.add(MaxPooling2D())\n",
    "model.add(Conv2D(filters=64, kernel_size=(3,3),  activation='relu'))\n",
    "model.add(MaxPooling2D())\n",
    "model.add(Conv2D(filters=128, kernel_size=(3,3), activation='relu'))\n",
    "model.add(Flatten())\n",
    "model.add(Dense(units=128, activation='relu'))\n",
    "model.add(Dense(units=64, activation='relu'))\n",
    "model.add(Dense(units=36, activation='softmax'))"
   ],
   "id": "8a831ac19fad1390",
   "outputs": [
    {
     "name": "stderr",
     "output_type": "stream",
     "text": [
      "C:\\Users\\Dell G3\\English-Braille-translator\\venv\\Lib\\site-packages\\keras\\src\\layers\\convolutional\\base_conv.py:107: UserWarning: Do not pass an `input_shape`/`input_dim` argument to a layer. When using Sequential models, prefer using an `Input(shape)` object as the first layer in the model instead.\n",
      "  super().__init__(activity_regularizer=activity_regularizer, **kwargs)\n"
     ]
    }
   ],
   "execution_count": 26
  },
  {
   "metadata": {
    "ExecuteTime": {
     "end_time": "2024-11-16T08:43:00.378903Z",
     "start_time": "2024-11-16T08:43:00.371263Z"
    }
   },
   "cell_type": "code",
   "source": "model.compile(optimizer='adam', loss='sparse_categorical_crossentropy', metrics = ['accuracy'])\n",
   "id": "f94e867168d5fe06",
   "outputs": [],
   "execution_count": 27
  },
  {
   "metadata": {
    "ExecuteTime": {
     "end_time": "2024-11-16T08:44:16.966129Z",
     "start_time": "2024-11-16T08:43:02.380803Z"
    }
   },
   "cell_type": "code",
   "source": [
    "history = model.fit(X_sh, y_sh ,validation_split=0.2, batch_size=25, epochs=10)\n",
    "\n",
    "plt.plot(history.history['loss'])\n",
    "plt.plot(history.history['val_loss'])\n",
    "plt.legend(['loss', 'val_loss'])\n",
    "plt.show()"
   ],
   "id": "f2ebe91b9921e0b6",
   "outputs": [
    {
     "name": "stdout",
     "output_type": "stream",
     "text": [
      "Epoch 1/10\n",
      "\u001B[1m661/661\u001B[0m \u001B[32m━━━━━━━━━━━━━━━━━━━━\u001B[0m\u001B[37m\u001B[0m \u001B[1m9s\u001B[0m 11ms/step - accuracy: 0.5147 - loss: 1.8127 - val_accuracy: 0.9125 - val_loss: 0.3150\n",
      "Epoch 2/10\n",
      "\u001B[1m661/661\u001B[0m \u001B[32m━━━━━━━━━━━━━━━━━━━━\u001B[0m\u001B[37m\u001B[0m \u001B[1m7s\u001B[0m 10ms/step - accuracy: 0.9314 - loss: 0.2294 - val_accuracy: 0.9261 - val_loss: 0.2504\n",
      "Epoch 3/10\n",
      "\u001B[1m661/661\u001B[0m \u001B[32m━━━━━━━━━━━━━━━━━━━━\u001B[0m\u001B[37m\u001B[0m \u001B[1m7s\u001B[0m 10ms/step - accuracy: 0.9497 - loss: 0.1517 - val_accuracy: 0.9365 - val_loss: 0.2077\n",
      "Epoch 4/10\n",
      "\u001B[1m661/661\u001B[0m \u001B[32m━━━━━━━━━━━━━━━━━━━━\u001B[0m\u001B[37m\u001B[0m \u001B[1m7s\u001B[0m 11ms/step - accuracy: 0.9629 - loss: 0.1107 - val_accuracy: 0.9464 - val_loss: 0.1955\n",
      "Epoch 5/10\n",
      "\u001B[1m661/661\u001B[0m \u001B[32m━━━━━━━━━━━━━━━━━━━━\u001B[0m\u001B[37m\u001B[0m \u001B[1m7s\u001B[0m 11ms/step - accuracy: 0.9662 - loss: 0.0921 - val_accuracy: 0.9479 - val_loss: 0.2006\n",
      "Epoch 6/10\n",
      "\u001B[1m661/661\u001B[0m \u001B[32m━━━━━━━━━━━━━━━━━━━━\u001B[0m\u001B[37m\u001B[0m \u001B[1m7s\u001B[0m 11ms/step - accuracy: 0.9660 - loss: 0.0983 - val_accuracy: 0.9530 - val_loss: 0.1849\n",
      "Epoch 7/10\n",
      "\u001B[1m661/661\u001B[0m \u001B[32m━━━━━━━━━━━━━━━━━━━━\u001B[0m\u001B[37m\u001B[0m \u001B[1m7s\u001B[0m 11ms/step - accuracy: 0.9733 - loss: 0.0709 - val_accuracy: 0.9535 - val_loss: 0.1749\n",
      "Epoch 8/10\n",
      "\u001B[1m661/661\u001B[0m \u001B[32m━━━━━━━━━━━━━━━━━━━━\u001B[0m\u001B[37m\u001B[0m \u001B[1m7s\u001B[0m 11ms/step - accuracy: 0.9772 - loss: 0.0565 - val_accuracy: 0.9535 - val_loss: 0.1947\n",
      "Epoch 9/10\n",
      "\u001B[1m661/661\u001B[0m \u001B[32m━━━━━━━━━━━━━━━━━━━━\u001B[0m\u001B[37m\u001B[0m \u001B[1m8s\u001B[0m 11ms/step - accuracy: 0.9796 - loss: 0.0508 - val_accuracy: 0.9457 - val_loss: 0.1995\n",
      "Epoch 10/10\n",
      "\u001B[1m661/661\u001B[0m \u001B[32m━━━━━━━━━━━━━━━━━━━━\u001B[0m\u001B[37m\u001B[0m \u001B[1m8s\u001B[0m 12ms/step - accuracy: 0.9826 - loss: 0.0447 - val_accuracy: 0.9513 - val_loss: 0.2135\n"
     ]
    },
    {
     "data": {
      "text/plain": [
       "<Figure size 640x480 with 1 Axes>"
      ],
      "image/png": "[encoded data removed]"
     },
     "metadata": {},
     "output_type": "display_data"
    }
   ],
   "execution_count": 28
  },
  {
   "metadata": {
    "ExecuteTime": {
     "end_time": "2024-11-16T08:44:21.369194Z",
     "start_time": "2024-11-16T08:44:20.688340Z"
    }
   },
   "cell_type": "code",
   "source": [
    "test_images = []\n",
    "test_labels = []\n",
    "\n",
    "dir_list = os.listdir(testing_path)\n",
    "for i in dir_list:\n",
    "  dir = os.path.join(testing_path, i)\n",
    "  file_list = os.listdir(dir)\n",
    "  for j in file_list:\n",
    "    files = os.path.join(dir, j)\n",
    "    img = cv2.imread(files)\n",
    "    img = cv2.resize(img, (64,64))\n",
    "    img = np.array(img, dtype=np.float32)\n",
    "    img = img/255\n",
    "    test_images.append(img)\n",
    "    test_labels.append(i)"
   ],
   "id": "c314eb075e9928a6",
   "outputs": [],
   "execution_count": 29
  },
  {
   "metadata": {
    "ExecuteTime": {
     "end_time": "2024-11-16T08:44:22.970310Z",
     "start_time": "2024-11-16T08:44:22.949147Z"
    }
   },
   "cell_type": "code",
   "source": [
    "X_test = np.array(test_images)\n",
    "y_test = np.array(test_labels)\n",
    "le = LabelEncoder()\n",
    "y_test = le.fit_transform(y_test) "
   ],
   "id": "41e7cd2e62b3b13b",
   "outputs": [],
   "execution_count": 30
  },
  {
   "metadata": {
    "ExecuteTime": {
     "end_time": "2024-11-16T08:44:24.766814Z",
     "start_time": "2024-11-16T08:44:24.530101Z"
    }
   },
   "cell_type": "code",
   "source": [
    "test_loss, test_accuracy = model.evaluate(X_test, y_test)\n",
    "print(test_loss,test_accuracy )"
   ],
   "id": "cbb0c61f777ab153",
   "outputs": [
    {
     "name": "stdout",
     "output_type": "stream",
     "text": [
      "\u001B[1m32/32\u001B[0m \u001B[32m━━━━━━━━━━━━━━━━━━━━\u001B[0m\u001B[37m\u001B[0m \u001B[1m0s\u001B[0m 5ms/step - accuracy: 0.9205 - loss: 0.1228\n",
      "0.0396316796541214 0.9771825671195984\n"
     ]
    }
   ],
   "execution_count": 31
  }
 ],
 "metadata": {
  "kernelspec": {
   "display_name": "Python 3",
   "language": "python",
   "name": "python3"
  },
  "language_info": {
   "codemirror_mode": {
    "name": "ipython",
    "version": 2
   },
   "file_extension": ".py",
   "mimetype": "text/x-python",
   "name": "python",
   "nbconvert_exporter": "python",
   "pygments_lexer": "ipython2",
   "version": "2.7.6"
  }
 },
 "nbformat": 4,
 "nbformat_minor": 5
}
