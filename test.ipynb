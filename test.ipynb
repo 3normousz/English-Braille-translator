{
 "cells": [
  {
   "cell_type": "code",
   "id": "initial_id",
   "metadata": {
    "collapsed": true,
    "ExecuteTime": {
     "end_time": "2024-11-21T05:22:02.714187Z",
     "start_time": "2024-11-21T05:21:53.208966Z"
    }
   },
   "source": [
    "import os\n",
    "import cv2\n",
    "import numpy as np\n",
    "import matplotlib.pyplot as plt\n",
    "\n",
    "import pytesseract\n",
    "from pytesseract import Output\n",
    "\n",
    "from sklearn.preprocessing import LabelEncoder\n",
    "from sklearn.utils import shuffle\n",
    "from sklearn.model_selection import train_test_split\n",
    "\n",
    "from tensorflow import keras\n",
    "from tensorflow.keras.preprocessing.image import ImageDataGenerator\n",
    "from keras.models import Sequential\n",
    "from keras.layers import Conv2D, Flatten, MaxPooling2D, Dense, Dropout\n"
   ],
   "outputs": [],
   "execution_count": 1
  },
  {
   "cell_type": "code",
   "id": "43859993d48bf350",
   "metadata": {
    "ExecuteTime": {
     "end_time": "2024-11-21T05:22:16.164507Z",
     "start_time": "2024-11-21T05:22:16.160126Z"
    }
   },
   "source": [
    "le = LabelEncoder()\n",
    "images = []\n",
    "labels = []\n",
    "\n",
    "training_paths = ['data/raw/character_set1/training_data/',\n",
    "                 'data/raw/character_set3/training_data/', ]\n",
    "#testing_path = 'data/raw/character_set1/testing_data/'\n"
   ],
   "outputs": [],
   "execution_count": 2
  },
  {
   "cell_type": "code",
   "id": "43bc146db7c198a7",
   "metadata": {
    "ExecuteTime": {
     "end_time": "2024-11-21T05:23:17.554261Z",
     "start_time": "2024-11-21T05:22:18.576406Z"
    }
   },
   "source": [
    "for training_path in training_paths:\n",
    "    dir_list = os.listdir(training_path)\n",
    "    for i in dir_list:\n",
    "        print(f\"Processing label: {i}\")  # Add this line to check labels\n",
    "        dir = os.path.join(training_path, i)\n",
    "        file_list = os.listdir(dir)\n",
    "        for j in file_list:\n",
    "            files = os.path.join(dir, j)\n",
    "            img = cv2.imread(files, cv2.IMREAD_GRAYSCALE)\n",
    "            if img is None:\n",
    "                print(f\"Warning: Unable to read image {files}. Skipping.\")\n",
    "                continue\n",
    "            img = cv2.resize(img, (64, 64))\n",
    "            img = np.expand_dims(img, axis=-1)  # Add channel dimension\n",
    "            img = img.astype('float32') / 255.0\n",
    "            images.append(img)\n",
    "            labels.append(i)"
   ],
   "outputs": [
    {
     "name": "stdout",
     "output_type": "stream",
     "text": [
      "Processing label: 0\n",
      "Processing label: 1\n",
      "Processing label: 2\n",
      "Processing label: 3\n",
      "Processing label: 4\n",
      "Processing label: 5\n",
      "Processing label: 6\n",
      "Processing label: 7\n",
      "Processing label: 8\n",
      "Processing label: 9\n",
      "Processing label: A\n",
      "Processing label: B\n",
      "Processing label: C\n",
      "Processing label: D\n",
      "Processing label: E\n",
      "Processing label: F\n",
      "Processing label: G\n",
      "Processing label: H\n",
      "Processing label: I\n",
      "Processing label: J\n",
      "Processing label: K\n",
      "Processing label: L\n",
      "Processing label: M\n",
      "Processing label: N\n",
      "Processing label: O\n",
      "Processing label: P\n",
      "Processing label: Q\n",
      "Processing label: R\n",
      "Processing label: S\n",
      "Processing label: T\n",
      "Processing label: U\n",
      "Processing label: V\n",
      "Processing label: W\n",
      "Processing label: X\n",
      "Processing label: Y\n",
      "Processing label: Z\n",
      "Processing label: a\n",
      "Processing label: b\n",
      "Processing label: c\n",
      "Processing label: d\n",
      "Processing label: e\n",
      "Processing label: f\n",
      "Processing label: g\n",
      "Processing label: h\n",
      "Processing label: i\n",
      "Processing label: j\n",
      "Processing label: k\n",
      "Processing label: l\n",
      "Processing label: m\n",
      "Processing label: n\n",
      "Processing label: o\n",
      "Processing label: p\n",
      "Processing label: q\n",
      "Processing label: r\n",
      "Processing label: s\n",
      "Processing label: t\n",
      "Processing label: u\n",
      "Processing label: v\n",
      "Processing label: w\n",
      "Processing label: x\n",
      "Processing label: y\n",
      "Processing label: z\n"
     ]
    }
   ],
   "execution_count": 3
  },
  {
   "cell_type": "markdown",
   "id": "30e963705255a7dd",
   "metadata": {},
   "source": [
    "## Print out details of X and y"
   ]
  },
  {
   "cell_type": "code",
   "id": "7f793a21829d226d",
   "metadata": {
    "ExecuteTime": {
     "end_time": "2024-11-21T05:23:44.455034Z",
     "start_time": "2024-11-21T05:23:42.722564Z"
    }
   },
   "source": [
    "X = np.array(images)\n",
    "print(\"len(X): \",len(X))\n",
    "print(\"X.shape: \", X.shape)\n",
    "\n",
    "y = np.array(labels)\n",
    "print(\"len(y): \",len(y))\n",
    "print(\"y.shape: \", y.shape)"
   ],
   "outputs": [
    {
     "name": "stdout",
     "output_type": "stream",
     "text": [
      "len(X):  105770\n",
      "X.shape:  (105770, 64, 64, 1)\n",
      "len(y):  105770\n",
      "y.shape:  (105770,)\n"
     ]
    }
   ],
   "execution_count": 4
  },
  {
   "cell_type": "code",
   "id": "5bd15726c2948ad5",
   "metadata": {
    "ExecuteTime": {
     "end_time": "2024-11-21T05:24:41.421024Z",
     "start_time": "2024-11-21T05:24:37.376430Z"
    }
   },
   "source": [
    "le = LabelEncoder()\n",
    "y = le.fit_transform(y)\n",
    "print(\"Classes:\", le.classes_)\n",
    "X_sh, y_sh = shuffle(X, y, random_state=42)"
   ],
   "outputs": [
    {
     "name": "stdout",
     "output_type": "stream",
     "text": [
      "Classes: ['0' '1' '2' '3' '4' '5' '6' '7' '8' '9' 'A' 'B' 'C' 'D' 'E' 'F' 'G' 'H'\n",
      " 'I' 'J' 'K' 'L' 'M' 'N' 'O' 'P' 'Q' 'R' 'S' 'T' 'U' 'V' 'W' 'X' 'Y' 'Z'\n",
      " 'a' 'b' 'c' 'd' 'e' 'f' 'g' 'h' 'i' 'j' 'k' 'l' 'm' 'n' 'o' 'p' 'q' 'r'\n",
      " 's' 't' 'u' 'v' 'w' 'x' 'y' 'z']\n"
     ]
    }
   ],
   "execution_count": 5
  },
  {
   "cell_type": "code",
   "id": "2836a9999f9df7d5",
   "metadata": {
    "ExecuteTime": {
     "end_time": "2024-11-21T05:24:47.363071Z",
     "start_time": "2024-11-21T05:24:44.066264Z"
    }
   },
   "source": [
    "# Split the data: 80% training, 20% testing\n",
    "X_train, X_test, y_train, y_test = train_test_split(\n",
    "    X_sh, y_sh, test_size=0.2, random_state=42, stratify=y_sh\n",
    ")\n",
    "\n",
    "print(\"Training samples:\", len(X_train))\n",
    "print(\"Testing samples:\", len(X_test))"
   ],
   "outputs": [
    {
     "name": "stdout",
     "output_type": "stream",
     "text": [
      "Training samples: 84616\n",
      "Testing samples: 21154\n"
     ]
    }
   ],
   "execution_count": 6
  },
  {
   "cell_type": "markdown",
   "id": "cc09ffaf114d8e14",
   "metadata": {},
   "source": [
    "# Create Keras model\n",
    "create a neural network model"
   ]
  },
  {
   "cell_type": "code",
   "id": "8a831ac19fad1390",
   "metadata": {
    "ExecuteTime": {
     "end_time": "2024-11-21T05:25:07.313754Z",
     "start_time": "2024-11-21T05:25:06.364139Z"
    }
   },
   "source": [
    "model = Sequential([\n",
    "    Conv2D(filters=32, kernel_size=(3,3), activation='relu', input_shape=(64,64,1)),\n",
    "    MaxPooling2D(),\n",
    "    Dropout(0.25),\n",
    "    Conv2D(filters=64, kernel_size=(3,3), activation='relu'),\n",
    "    MaxPooling2D(),\n",
    "    Dropout(0.25),\n",
    "    Flatten(),\n",
    "    Dense(units=256, activation='relu'),\n",
    "    Dropout(0.5),\n",
    "    Dense(units=len(le.classes_), activation='softmax')\n",
    "])"
   ],
   "outputs": [
    {
     "name": "stderr",
     "output_type": "stream",
     "text": [
      "C:\\Users\\Dell G3\\English-Braille-translator\\venv\\Lib\\site-packages\\keras\\src\\layers\\convolutional\\base_conv.py:107: UserWarning: Do not pass an `input_shape`/`input_dim` argument to a layer. When using Sequential models, prefer using an `Input(shape)` object as the first layer in the model instead.\n",
      "  super().__init__(activity_regularizer=activity_regularizer, **kwargs)\n"
     ]
    }
   ],
   "execution_count": 7
  },
  {
   "cell_type": "code",
   "id": "f94e867168d5fe06",
   "metadata": {
    "ExecuteTime": {
     "end_time": "2024-11-21T05:25:24.445348Z",
     "start_time": "2024-11-21T05:25:24.419224Z"
    }
   },
   "source": [
    "model.compile(optimizer='adam', loss='sparse_categorical_crossentropy', metrics = ['accuracy'])"
   ],
   "outputs": [],
   "execution_count": 8
  },
  {
   "cell_type": "code",
   "id": "f2ebe91b9921e0b6",
   "metadata": {
    "ExecuteTime": {
     "end_time": "2024-11-21T05:28:40.921538Z",
     "start_time": "2024-11-21T05:25:56.719099Z"
    }
   },
   "source": [
    "datagen = ImageDataGenerator(\n",
    "    rotation_range=10,\n",
    "    zoom_range=0.1,\n",
    "    width_shift_range=0.1,\n",
    "    height_shift_range=0.1\n",
    ")\n",
    "\n",
    "# Fit the data generator\n",
    "datagen.fit(X_train)\n",
    "\n",
    "# Use the generator in model training\n",
    "history = model.fit(datagen.flow(X_train, y_train, batch_size=25),\n",
    "                    validation_data=(X_test, y_test), epochs=1)\n",
    "\n",
    "\n",
    "plt.plot(history.history['loss'])\n",
    "plt.plot(history.history['val_loss'])\n",
    "plt.legend(['loss', 'val_loss'])\n",
    "plt.show()"
   ],
   "outputs": [
    {
     "name": "stderr",
     "output_type": "stream",
     "text": [
      "C:\\Users\\Dell G3\\English-Braille-translator\\venv\\Lib\\site-packages\\keras\\src\\trainers\\data_adapters\\py_dataset_adapter.py:122: UserWarning: Your `PyDataset` class should call `super().__init__(**kwargs)` in its constructor. `**kwargs` can include `workers`, `use_multiprocessing`, `max_queue_size`. Do not pass these arguments to `fit()`, as they will be ignored.\n",
      "  self._warn_if_super_not_called()\n"
     ]
    },
    {
     "name": "stdout",
     "output_type": "stream",
     "text": [
      "\u001B[1m3385/3385\u001B[0m \u001B[32m━━━━━━━━━━━━━━━━━━━━\u001B[0m\u001B[37m\u001B[0m \u001B[1m162s\u001B[0m 47ms/step - accuracy: 0.3670 - loss: 2.3314 - val_accuracy: 0.9033 - val_loss: 0.3894\n"
     ]
    },
    {
     "data": {
      "text/plain": [
       "<Figure size 640x480 with 1 Axes>"
      ],
      "image/png": "[encoded data removed]"
     },
     "metadata": {},
     "output_type": "display_data"
    }
   ],
   "execution_count": 9
  },
  {
   "cell_type": "code",
   "id": "c314eb075e9928a6",
   "metadata": {
    "ExecuteTime": {
     "end_time": "2024-11-21T05:29:32.801001Z",
     "start_time": "2024-11-21T05:29:14.326521Z"
    }
   },
   "source": [
    "# Evaluate the model on the testing set\n",
    "test_loss, test_accuracy = model.evaluate(X_test, y_test)\n",
    "print(f\"Test Loss: {test_loss:.4f}\")\n",
    "print(f\"Test Accuracy: {test_accuracy:.4f}\")\n",
    "\n",
    "# Evaluate the model on the testing set\n",
    "test_loss, test_accuracy = model.evaluate(X_test, y_test)\n",
    "print(f\"Test Loss: {test_loss:.4f}\")\n",
    "print(f\"Test Accuracy: {test_accuracy:.4f}\")\n",
    "\n",
    "# Separate Evaluation for Uppercase and Lowercase Characters\n",
    "\n",
    "# Determine the number of uppercase letters\n",
    "# This assumes that the first 'num_uppercase' classes are uppercase letters\n",
    "# Adjust 'num_uppercase' based on your actual label encoding\n",
    "num_uppercase = 26  # Typically, A-Z\n",
    "\n",
    "# Find indices for uppercase and lowercase characters\n",
    "uppercase_indices = np.where(y_test < num_uppercase)\n",
    "lowercase_indices = np.where(y_test >= num_uppercase)\n",
    "\n",
    "# Evaluate the model on uppercase characters\n",
    "test_loss_upper, test_acc_upper = model.evaluate(X_test[uppercase_indices], y_test[uppercase_indices], verbose=0)\n",
    "print(f\"Uppercase Test Loss: {test_loss_upper:.4f}\")\n",
    "print(f\"Uppercase Test Accuracy: {test_acc_upper:.4f}\")\n",
    "\n",
    "# Evaluate the model on lowercase characters\n",
    "test_loss_lower, test_acc_lower = model.evaluate(X_test[lowercase_indices], y_test[lowercase_indices], verbose=0)\n",
    "print(f\"Lowercase Test Loss: {test_loss_lower:.4f}\")\n",
    "print(f\"Lowercase Test Accuracy: {test_acc_lower:.4f}\")\n",
    "\n"
   ],
   "outputs": [
    {
     "name": "stdout",
     "output_type": "stream",
     "text": [
      "\u001B[1m662/662\u001B[0m \u001B[32m━━━━━━━━━━━━━━━━━━━━\u001B[0m\u001B[37m\u001B[0m \u001B[1m6s\u001B[0m 9ms/step - accuracy: 0.9002 - loss: 0.3993\n",
      "Test Loss: 0.3894\n",
      "Test Accuracy: 0.9033\n",
      "\u001B[1m662/662\u001B[0m \u001B[32m━━━━━━━━━━━━━━━━━━━━\u001B[0m\u001B[37m\u001B[0m \u001B[1m6s\u001B[0m 9ms/step - accuracy: 0.9002 - loss: 0.3993\n",
      "Test Loss: 0.3894\n",
      "Test Accuracy: 0.9033\n",
      "Uppercase Test Loss: 0.4390\n",
      "Uppercase Test Accuracy: 0.8940\n",
      "Lowercase Test Loss: 0.3812\n",
      "Lowercase Test Accuracy: 0.9048\n"
     ]
    }
   ],
   "execution_count": 10
  },
  {
   "cell_type": "code",
   "id": "41e7cd2e62b3b13b",
   "metadata": {
    "ExecuteTime": {
     "end_time": "2024-11-21T05:30:04.859958Z",
     "start_time": "2024-11-21T05:30:04.575266Z"
    }
   },
   "source": [
    "# Plot training & validation loss values\n",
    "plt.figure(figsize=(10, 5))\n",
    "plt.plot(history.history['loss'], label='Training Loss')\n",
    "plt.plot(history.history['val_loss'], label='Validation Loss')\n",
    "plt.title('Model Loss Over Epochs')\n",
    "plt.ylabel('Loss')\n",
    "plt.xlabel('Epoch')\n",
    "plt.legend(loc='upper right')\n",
    "plt.grid(True)\n",
    "plt.show()\n",
    "\n",
    "# Plot training & validation accuracy values\n",
    "plt.figure(figsize=(10, 5))\n",
    "plt.plot(history.history['accuracy'], label='Training Accuracy')\n",
    "plt.plot(history.history['val_accuracy'], label='Validation Accuracy')\n",
    "plt.title('Model Accuracy Over Epochs')\n",
    "plt.ylabel('Accuracy')\n",
    "plt.xlabel('Epoch')\n",
    "plt.legend(loc='lower right')\n",
    "plt.grid(True)\n",
    "plt.show()\n"
   ],
   "outputs": [
    {
     "data": {
      "text/plain": [
       "<Figure size 1000x500 with 1 Axes>"
      ],
      "image/png": "[encoded data removed]"
     },
     "metadata": {},
     "output_type": "display_data"
    },
    {
     "data": {
      "text/plain": [
       "<Figure size 1000x500 with 1 Axes>"
      ],
      "image/png": "[encoded data removed]"
     },
     "metadata": {},
     "output_type": "display_data"
    }
   ],
   "execution_count": 11
  },
  {
   "cell_type": "markdown",
   "id": "8d35364e",
   "metadata": {},
   "source": [
    "## Visualization"
   ]
  },
  {
   "cell_type": "markdown",
   "id": "edb07506",
   "metadata": {},
   "source": [
    "### Visualize Regions"
   ]
  },
  {
   "cell_type": "code",
   "id": "60e0f1a6",
   "metadata": {
    "ExecuteTime": {
     "end_time": "2024-11-21T05:30:07.746489Z",
     "start_time": "2024-11-21T05:30:07.739573Z"
    }
   },
   "source": [
    "def visualize_regions(image, regions):\n",
    "    debug_image = image.copy()\n",
    "    for (x, y, w, h) in regions:\n",
    "        cv2.rectangle(debug_image, (x, y), (x+w, y+h), (0, 255, 0), 2)\n",
    "    cv2.imshow(\"Detected Text Regions\", debug_image)\n",
    "    cv2.waitKey(0)\n",
    "    cv2.destroyAllWindows()"
   ],
   "outputs": [],
   "execution_count": 12
  },
  {
   "cell_type": "markdown",
   "id": "914107cc",
   "metadata": {},
   "source": [
    "### Visualize Processed Image"
   ]
  },
  {
   "cell_type": "code",
   "id": "34884b7f",
   "metadata": {
    "ExecuteTime": {
     "end_time": "2024-11-21T05:30:10.206008Z",
     "start_time": "2024-11-21T05:30:10.201273Z"
    }
   },
   "source": [
    "def display_processed_image(window_name, processed_image):\n",
    "    cv2.imshow(window_name, processed_image)\n",
    "    cv2.waitKey(0)\n",
    "    cv2.destroyAllWindows()"
   ],
   "outputs": [],
   "execution_count": 13
  },
  {
   "cell_type": "markdown",
   "id": "c915dce9",
   "metadata": {},
   "source": [
    "## Image Processing Operations"
   ]
  },
  {
   "cell_type": "code",
   "id": "330375c8",
   "metadata": {
    "ExecuteTime": {
     "end_time": "2024-11-21T05:30:11.525334Z",
     "start_time": "2024-11-21T05:30:11.516571Z"
    }
   },
   "source": [
    "def image_processing_operations_visualization(image, operation):\n",
    "    # Convert image to grayscale\n",
    "    gray = cv2.cvtColor(image, cv2.COLOR_BGR2GRAY)\n",
    "\n",
    "    if operation == 'threshold':\n",
    "        # Apply thresholding to get a binary image\n",
    "        _, processed_image = cv2.threshold(gray, 100, 255, cv2.THRESH_BINARY_INV)\n",
    "        window_name = \"Thresholded Image\"\n",
    "\n",
    "    elif operation == 'erosion':\n",
    "        # Apply thresholding and then erosion\n",
    "        _, thresh = cv2.threshold(gray, 100, 255, cv2.THRESH_BINARY_INV)\n",
    "        kernel = np.ones((2, 1), np.uint8)\n",
    "        processed_image = cv2.erode(thresh, kernel, iterations=1)\n",
    "        window_name = \"Eroded Image\"\n",
    "\n",
    "    elif operation == 'dilation':\n",
    "        # Apply thresholding and then dilation\n",
    "        _, thresh = cv2.threshold(gray, 100, 255, cv2.THRESH_BINARY_INV)\n",
    "        kernel = np.ones((1, 1), np.uint8)\n",
    "        processed_image = cv2.dilate(thresh, kernel, iterations=1)\n",
    "        window_name = \"Dilated Image\"\n",
    "\n",
    "    else:\n",
    "        raise ValueError(\"Operation must be 'threshold', 'erosion', or 'dilation'\")\n",
    "\n",
    "    # Display the processed image\n",
    "    display_processed_image(window_name, processed_image)\n",
    "    \n",
    "    return _, processed_image"
   ],
   "outputs": [],
   "execution_count": 14
  },
  {
   "cell_type": "markdown",
   "id": "ff9ff14b",
   "metadata": {},
   "source": [
    "## Italic Characters Detection"
   ]
  },
  {
   "cell_type": "markdown",
   "id": "869b5020",
   "metadata": {},
   "source": [
    "### Compute Skew Angle"
   ]
  },
  {
   "cell_type": "code",
   "id": "27c5f269",
   "metadata": {
    "ExecuteTime": {
     "end_time": "2024-11-21T05:30:13.434135Z",
     "start_time": "2024-11-21T05:30:13.427991Z"
    }
   },
   "source": [
    "def compute_skew_angle(region):\n",
    "    # Use moments to calculate the skew angle of a text region\n",
    "    coords = np.column_stack(np.where(region > 0))\n",
    "    rect = cv2.minAreaRect(coords)\n",
    "    angle = rect[-1]\n",
    "    if angle < -45:\n",
    "        angle = -(90 + angle)\n",
    "    else:\n",
    "        angle = -angle\n",
    "    return angle"
   ],
   "outputs": [],
   "execution_count": 15
  },
  {
   "cell_type": "markdown",
   "id": "f88b0f10",
   "metadata": {},
   "source": [
    "### Deskew Angle"
   ]
  },
  {
   "cell_type": "code",
   "id": "c05a5969",
   "metadata": {
    "ExecuteTime": {
     "end_time": "2024-11-21T05:30:14.682495Z",
     "start_time": "2024-11-21T05:30:14.676317Z"
    }
   },
   "source": [
    "def deskew_region(region, angle):\n",
    "    # Rotate the region by the computed angle\n",
    "    (h, w) = region.shape[:2]\n",
    "    center = (w // 2, h // 2)\n",
    "    rotation_matrix = cv2.getRotationMatrix2D(center, angle, 1.0)\n",
    "    rotated = cv2.warpAffine(region, rotation_matrix, (w, h), flags=cv2.INTER_CUBIC, borderMode=cv2.BORDER_CONSTANT, borderValue=255)\n",
    "    return rotated"
   ],
   "outputs": [],
   "execution_count": 16
  },
  {
   "cell_type": "markdown",
   "id": "ad712c7e",
   "metadata": {},
   "source": [
    "## Detect Text Regions"
   ]
  },
  {
   "cell_type": "code",
   "id": "f76b77fc",
   "metadata": {
    "ExecuteTime": {
     "end_time": "2024-11-21T05:30:16.014337Z",
     "start_time": "2024-11-21T05:30:16.007995Z"
    }
   },
   "source": [
    "def detect_text_regions(image):\n",
    "    # Convert image to grayscale if it's not already\n",
    "    if len(image.shape) == 3:\n",
    "        gray = cv2.cvtColor(image, cv2.COLOR_BGR2GRAY)\n",
    "    else:\n",
    "        gray = image.copy()\n",
    "    \n",
    "    # Apply adaptive thresholding with adjusted parameters\n",
    "    processed_image = cv2.adaptiveThreshold(\n",
    "        gray, 255, cv2.ADAPTIVE_THRESH_GAUSSIAN_C,\n",
    "        cv2.THRESH_BINARY_INV, 15, 10  # Increased block size and constant\n",
    "    )\n",
    "    \n",
    "    # Find contours\n",
    "    contours, _ = cv2.findContours(\n",
    "        processed_image, cv2.RETR_EXTERNAL, cv2.CHAIN_APPROX_SIMPLE\n",
    "    )\n",
    "    regions = []\n",
    "    for contour in contours:\n",
    "        x, y, w, h = cv2.boundingRect(contour)\n",
    "        # Adjusted size thresholds\n",
    "        if w > 3 and h > 3:\n",
    "            regions.append((x, y, w, h))\n",
    "    return regions"
   ],
   "outputs": [],
   "execution_count": 17
  },
  {
   "cell_type": "markdown",
   "id": "71c378b3",
   "metadata": {},
   "source": [
    "## Sorting Bounding Boxes by Rows and Columns"
   ]
  },
  {
   "cell_type": "code",
   "id": "d8198074",
   "metadata": {
    "ExecuteTime": {
     "end_time": "2024-11-21T05:30:18.196509Z",
     "start_time": "2024-11-21T05:30:18.190359Z"
    }
   },
   "source": [
    "def sort_bounding_boxes(regions):\n",
    "    # Sort by `y` first (top-to-bottom) with a threshold to group by rows\n",
    "    row_threshold = 20  # Adjust based on character spacing\n",
    "    regions = sorted(regions, key=lambda box: box[1])\n",
    "\n",
    "    # Group bounding boxes into rows\n",
    "    rows = []\n",
    "    current_row = [regions[0]]\n",
    "    \n",
    "    for i in range(1, len(regions)):\n",
    "        if abs(regions[i][1] - current_row[-1][1]) < row_threshold:\n",
    "            current_row.append(regions[i])\n",
    "        else:\n",
    "            rows.append(current_row)\n",
    "            current_row = [regions[i]]\n",
    "    rows.append(current_row)\n",
    "    \n",
    "    # Sort each row left-to-right\n",
    "    sorted_regions = []\n",
    "    for row in rows:\n",
    "        sorted_row = sorted(row, key=lambda box: box[0])\n",
    "        sorted_regions.extend(sorted_row)\n",
    "    \n",
    "    return sorted_regions\n"
   ],
   "outputs": [],
   "execution_count": 18
  },
  {
   "cell_type": "markdown",
   "id": "9a7f0c99",
   "metadata": {},
   "source": [
    "## Resize Image Operation"
   ]
  },
  {
   "cell_type": "code",
   "id": "64543a19",
   "metadata": {
    "ExecuteTime": {
     "end_time": "2024-11-21T05:30:19.907013Z",
     "start_time": "2024-11-21T05:30:19.897991Z"
    }
   },
   "source": [
    "def resize_image(image, target_size=(64, 64)):\n",
    "    # Resize while maintaining aspect ratio and pad the image\n",
    "    (h, w) = image.shape[:2]\n",
    "    scaling_factor = min(target_size[0]/w, target_size[1]/h)\n",
    "    new_size = (int(w * scaling_factor), int(h * scaling_factor))\n",
    "    resized_image = cv2.resize(image, new_size, interpolation=cv2.INTER_AREA)\n",
    "    \n",
    "    # Pad the resized image to make it target_size\n",
    "    delta_w = target_size[0] - new_size[0]\n",
    "    delta_h = target_size[1] - new_size[1]\n",
    "    top, bottom = delta_h//2, delta_h - (delta_h//2)\n",
    "    left, right = delta_w//2, delta_w - (delta_w//2)\n",
    "    padded_image = cv2.copyMakeBorder(\n",
    "        resized_image, top, bottom, left, right,\n",
    "        cv2.BORDER_CONSTANT, value=255\n",
    "    )\n",
    "    return padded_image"
   ],
   "outputs": [],
   "execution_count": 19
  },
  {
   "metadata": {},
   "cell_type": "markdown",
   "source": [
    "## Recognize Characters with Pytesseract\n",
    "Using Pytesseract to detect text regions"
   ],
   "id": "710f251b64a7974f"
  },
  {
   "metadata": {
    "ExecuteTime": {
     "end_time": "2024-11-21T05:48:47.868729Z",
     "start_time": "2024-11-21T05:48:47.860045Z"
    }
   },
   "cell_type": "code",
   "source": [
    "def recognize_characters_with_pytesseract(image):\n",
    "    \"\"\"\n",
    "    Use pytesseract to detect text regions and acquire the bounding boxes\n",
    "    \n",
    "    Parameters:\n",
    "        image (numpy.ndarray): The input image\n",
    "    Returns:\n",
    "        list: A list of bounding boxes for the detected text regions\n",
    "    \"\"\"\n",
    "    regions = []\n",
    "    # Convert image to grayscale (optional, but can improve results)\n",
    "    gray = cv2.cvtColor(image, cv2.COLOR_BGR2GRAY)\n",
    "    \n",
    "    # Apply adaptive thresholding (optional)\n",
    "    processed_image = cv2.adaptiveThreshold(\n",
    "        gray, 255, cv2.ADAPTIVE_THRESH_GAUSSIAN_C,\n",
    "        cv2.THRESH_BINARY_INV, 15, 10\n",
    "    )\n",
    "    \n",
    "    # Use pytesseract to get bounding box\n",
    "    # Output type `Output.DICT` gives detailed information\n",
    "    boxes = pytesseract.image_to_boxes(processed_image, output_type=Output.DICT)\n",
    "    \n",
    "    for i in range(len(boxes['char'])):\n",
    "        # Get bounding box coordinates\n",
    "        x, y, w, h = boxes['left'][i], boxes['top'][i], boxes['right'][i], boxes['bottom'][i]\n",
    "\n",
    "        # Tesseract's coordinate system starts from the bottom-left\n",
    "        # Flip y-coordinates for OpenCV\n",
    "        y = image.shape[0] - y\n",
    "        h = image.shape[0] - h\n",
    "\n",
    "        # Crop the text region from the image\n",
    "        cropped = image[h:y, x:w]\n",
    "        regions.append(cropped)\n",
    "\n",
    "        # Optionally, draw rectangles on the original image for visualization\n",
    "        cv2.rectangle(image, (x, h), (w, y), (0, 255, 0), 2)\n",
    "        \n",
    "    # Show the annotated image (for debugging/visualization)\n",
    "    cv2.imshow(\"Detected Text Regions\", image)\n",
    "    cv2.waitKey(0)\n",
    "    cv2.destroyAllWindows()\n",
    "    \n",
    "    return regions"
   ],
   "id": "21336a642f421b9e",
   "outputs": [],
   "execution_count": 28
  },
  {
   "cell_type": "markdown",
   "id": "1d217243",
   "metadata": {},
   "source": [
    "## Recognize Characters"
   ]
  },
  {
   "cell_type": "code",
   "id": "012cec5b",
   "metadata": {
    "ExecuteTime": {
     "end_time": "2024-11-21T05:30:24.312923Z",
     "start_time": "2024-11-21T05:30:24.306403Z"
    }
   },
   "source": [
    "def recognize_characters(image, model, label_encoder):\n",
    "    #regions = detect_text_regions(image)\n",
    "    regions = recognize_characters_with_pytesseract(image)\n",
    "    sorted_regions = sort_bounding_boxes(regions)\n",
    "    characters = []\n",
    "    for (x, y, w, h) in sorted_regions:\n",
    "        char_image = image[y:y+h, x:x+w]\n",
    "        # Convert to grayscale if necessary\n",
    "        if len(char_image.shape) == 3:\n",
    "            char_image = cv2.cvtColor(char_image, cv2.COLOR_BGR2GRAY)\n",
    "        # Deskew the character image\n",
    "        angle = compute_skew_angle(char_image)\n",
    "        char_image = deskew_region(char_image, angle)\n",
    "        # Resize and normalize\n",
    "        char_image_resized = resize_image(char_image, (64, 64))\n",
    "        char_image_normalized = char_image_resized.astype('float32') / 255.0\n",
    "        # Expand dimensions to match input shape\n",
    "        char_image_normalized = np.expand_dims(char_image_normalized, axis=-1)\n",
    "        char_image_normalized = np.expand_dims(char_image_normalized, axis=0)\n",
    "        # Predict\n",
    "        prediction = model.predict(char_image_normalized)\n",
    "        predicted_class = np.argmax(prediction, axis=1)\n",
    "        predicted_char = label_encoder.inverse_transform(predicted_class)[0]\n",
    "        characters.append(predicted_char)\n",
    "    return characters"
   ],
   "outputs": [],
   "execution_count": 21
  },
  {
   "cell_type": "markdown",
   "id": "4aa2d4fe",
   "metadata": {},
   "source": [
    "# Driver Code"
   ]
  },
  {
   "cell_type": "code",
   "id": "9e58f9fc",
   "metadata": {
    "ExecuteTime": {
     "end_time": "2024-11-21T05:49:15.618958Z",
     "start_time": "2024-11-21T05:48:51.591019Z"
    }
   },
   "source": [
    "pytesseract.pytesseract.tesseract_cmd = r'C:\\Program Files\\Tesseract-OCR\\tesseract.exe'\n",
    "\n",
    "imggg = 'data/raw/character_set1/Test_4.png'\n",
    "ground_truth = '0123456789thequickbrownfoxjumpsoverthelazydogTHEQUICKBROWNFOXJUMPSOVERTHELAZYDOGheLloWorlD'\n",
    "image = cv2.imread(imggg) \n",
    "y_pred = recognize_characters(image, model, le)\n",
    "print(y_pred)\n",
    "print(len(y_pred))\n",
    "print(''.join(y_pred))\n",
    "#print('IntroductiontoAlgorithmsFourthEdition')\n",
    "print(ground_truth)\n",
    "print(len(ground_truth))\n",
    "\n",
    "# Load a single lowercase character image\n",
    "test_img = cv2.imread('data/raw/character_set3/training_data/c/C_L_5.png', cv2.IMREAD_GRAYSCALE)\n",
    "test_img_resized = cv2.resize(test_img, (64, 64)).astype('float32') / 255.0\n",
    "test_img_input = np.expand_dims(np.expand_dims(test_img_resized, axis=-1), axis=0)\n",
    "\n",
    "prediction = model.predict(test_img_input)\n",
    "predicted_class = np.argmax(prediction, axis=1)\n",
    "predicted_char = le.inverse_transform(predicted_class)\n",
    "print(\"Predicted character:\", predicted_char)\n"
   ],
   "outputs": [
    {
     "ename": "IndexError",
     "evalue": "index 1 is out of bounds for axis 0 with size 0",
     "output_type": "error",
     "traceback": [
      "\u001B[1;31m---------------------------------------------------------------------------\u001B[0m",
      "\u001B[1;31mIndexError\u001B[0m                                Traceback (most recent call last)",
      "Cell \u001B[1;32mIn[29], line 6\u001B[0m\n\u001B[0;32m      4\u001B[0m ground_truth \u001B[38;5;241m=\u001B[39m \u001B[38;5;124m'\u001B[39m\u001B[38;5;124m0123456789thequickbrownfoxjumpsoverthelazydogTHEQUICKBROWNFOXJUMPSOVERTHELAZYDOGheLloWorlD\u001B[39m\u001B[38;5;124m'\u001B[39m\n\u001B[0;32m      5\u001B[0m image \u001B[38;5;241m=\u001B[39m cv2\u001B[38;5;241m.\u001B[39mimread(imggg) \n\u001B[1;32m----> 6\u001B[0m y_pred \u001B[38;5;241m=\u001B[39m \u001B[43mrecognize_characters\u001B[49m\u001B[43m(\u001B[49m\u001B[43mimage\u001B[49m\u001B[43m,\u001B[49m\u001B[43m \u001B[49m\u001B[43mmodel\u001B[49m\u001B[43m,\u001B[49m\u001B[43m \u001B[49m\u001B[43mle\u001B[49m\u001B[43m)\u001B[49m\n\u001B[0;32m      7\u001B[0m \u001B[38;5;28mprint\u001B[39m(y_pred)\n\u001B[0;32m      8\u001B[0m \u001B[38;5;28mprint\u001B[39m(\u001B[38;5;28mlen\u001B[39m(y_pred))\n",
      "Cell \u001B[1;32mIn[21], line 4\u001B[0m, in \u001B[0;36mrecognize_characters\u001B[1;34m(image, model, label_encoder)\u001B[0m\n\u001B[0;32m      1\u001B[0m \u001B[38;5;28;01mdef\u001B[39;00m \u001B[38;5;21mrecognize_characters\u001B[39m(image, model, label_encoder):\n\u001B[0;32m      2\u001B[0m     \u001B[38;5;66;03m#regions = detect_text_regions(image)\u001B[39;00m\n\u001B[0;32m      3\u001B[0m     regions \u001B[38;5;241m=\u001B[39m recognize_characters_with_pytesseract(image)\n\u001B[1;32m----> 4\u001B[0m     sorted_regions \u001B[38;5;241m=\u001B[39m \u001B[43msort_bounding_boxes\u001B[49m\u001B[43m(\u001B[49m\u001B[43mregions\u001B[49m\u001B[43m)\u001B[49m\n\u001B[0;32m      5\u001B[0m     characters \u001B[38;5;241m=\u001B[39m []\n\u001B[0;32m      6\u001B[0m     \u001B[38;5;28;01mfor\u001B[39;00m (x, y, w, h) \u001B[38;5;129;01min\u001B[39;00m sorted_regions:\n",
      "Cell \u001B[1;32mIn[18], line 4\u001B[0m, in \u001B[0;36msort_bounding_boxes\u001B[1;34m(regions)\u001B[0m\n\u001B[0;32m      1\u001B[0m \u001B[38;5;28;01mdef\u001B[39;00m \u001B[38;5;21msort_bounding_boxes\u001B[39m(regions):\n\u001B[0;32m      2\u001B[0m     \u001B[38;5;66;03m# Sort by `y` first (top-to-bottom) with a threshold to group by rows\u001B[39;00m\n\u001B[0;32m      3\u001B[0m     row_threshold \u001B[38;5;241m=\u001B[39m \u001B[38;5;241m20\u001B[39m  \u001B[38;5;66;03m# Adjust based on character spacing\u001B[39;00m\n\u001B[1;32m----> 4\u001B[0m     regions \u001B[38;5;241m=\u001B[39m \u001B[38;5;28;43msorted\u001B[39;49m\u001B[43m(\u001B[49m\u001B[43mregions\u001B[49m\u001B[43m,\u001B[49m\u001B[43m \u001B[49m\u001B[43mkey\u001B[49m\u001B[38;5;241;43m=\u001B[39;49m\u001B[38;5;28;43;01mlambda\u001B[39;49;00m\u001B[43m \u001B[49m\u001B[43mbox\u001B[49m\u001B[43m:\u001B[49m\u001B[43m \u001B[49m\u001B[43mbox\u001B[49m\u001B[43m[\u001B[49m\u001B[38;5;241;43m1\u001B[39;49m\u001B[43m]\u001B[49m\u001B[43m)\u001B[49m\n\u001B[0;32m      6\u001B[0m     \u001B[38;5;66;03m# Group bounding boxes into rows\u001B[39;00m\n\u001B[0;32m      7\u001B[0m     rows \u001B[38;5;241m=\u001B[39m []\n",
      "Cell \u001B[1;32mIn[18], line 4\u001B[0m, in \u001B[0;36msort_bounding_boxes.<locals>.<lambda>\u001B[1;34m(box)\u001B[0m\n\u001B[0;32m      1\u001B[0m \u001B[38;5;28;01mdef\u001B[39;00m \u001B[38;5;21msort_bounding_boxes\u001B[39m(regions):\n\u001B[0;32m      2\u001B[0m     \u001B[38;5;66;03m# Sort by `y` first (top-to-bottom) with a threshold to group by rows\u001B[39;00m\n\u001B[0;32m      3\u001B[0m     row_threshold \u001B[38;5;241m=\u001B[39m \u001B[38;5;241m20\u001B[39m  \u001B[38;5;66;03m# Adjust based on character spacing\u001B[39;00m\n\u001B[1;32m----> 4\u001B[0m     regions \u001B[38;5;241m=\u001B[39m \u001B[38;5;28msorted\u001B[39m(regions, key\u001B[38;5;241m=\u001B[39m\u001B[38;5;28;01mlambda\u001B[39;00m box: \u001B[43mbox\u001B[49m\u001B[43m[\u001B[49m\u001B[38;5;241;43m1\u001B[39;49m\u001B[43m]\u001B[49m)\n\u001B[0;32m      6\u001B[0m     \u001B[38;5;66;03m# Group bounding boxes into rows\u001B[39;00m\n\u001B[0;32m      7\u001B[0m     rows \u001B[38;5;241m=\u001B[39m []\n",
      "\u001B[1;31mIndexError\u001B[0m: index 1 is out of bounds for axis 0 with size 0"
     ]
    }
   ],
   "execution_count": 29
  }
 ],
 "metadata": {
  "kernelspec": {
   "display_name": ".venv",
   "language": "python",
   "name": "python3"
  },
  "language_info": {
   "codemirror_mode": {
    "name": "ipython",
    "version": 3
   },
   "file_extension": ".py",
   "mimetype": "text/x-python",
   "name": "python",
   "nbconvert_exporter": "python",
   "pygments_lexer": "ipython3",
   "version": "3.12.3"
  }
 },
 "nbformat": 4,
 "nbformat_minor": 5
}
