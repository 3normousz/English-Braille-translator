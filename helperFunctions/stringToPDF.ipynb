{
 "cells": [
  {
   "cell_type": "code",
   "execution_count": 10,
   "metadata": {},
   "outputs": [],
   "source": [
    "from fpdf import FPDF"
   ]
  },
  {
   "cell_type": "code",
   "execution_count": 11,
   "metadata": {},
   "outputs": [],
   "source": [
    "def string_to_pdf_fpdf(output_pdf, text):\n",
    "    pdf = FPDF()\n",
    "    pdf.add_page()\n",
    "    pdf.set_font(\"Arial\", size=14)\n",
    "    \n",
    "    # Add text\n",
    "    pdf.multi_cell(0, 10, text)\n",
    "    \n",
    "    # Save the PDF\n",
    "    pdf.output(output_pdf)"
   ]
  },
  {
   "cell_type": "code",
   "execution_count": 12,
   "metadata": {},
   "outputs": [
    {
     "name": "stdout",
     "output_type": "stream",
     "text": [
      "PDF saved as ../data/raw/pdf/document_1.pdf\n",
      "PDF saved as ../data/raw/pdf/document_2.pdf\n",
      "PDF saved as ../data/raw/pdf/document_3.pdf\n",
      "PDF saved as ../data/raw/pdf/document_4.pdf\n",
      "PDF saved as ../data/raw/pdf/document_5.pdf\n",
      "PDF saved as ../data/raw/pdf/document_6.pdf\n",
      "PDF saved as ../data/raw/pdf/document_7.pdf\n",
      "PDF saved as ../data/raw/pdf/document_8.pdf\n",
      "PDF saved as ../data/raw/pdf/document_9.pdf\n",
      "PDF saved as ../data/raw/pdf/document_10.pdf\n",
      "PDF saved as ../data/raw/pdf/document_11.pdf\n",
      "PDF saved as ../data/raw/pdf/document_12.pdf\n",
      "PDF saved as ../data/raw/pdf/document_13.pdf\n",
      "PDF saved as ../data/raw/pdf/document_14.pdf\n",
      "PDF saved as ../data/raw/pdf/document_15.pdf\n",
      "PDF saved as ../data/raw/pdf/document_16.pdf\n",
      "PDF saved as ../data/raw/pdf/document_17.pdf\n",
      "PDF saved as ../data/raw/pdf/document_18.pdf\n",
      "PDF saved as ../data/raw/pdf/document_19.pdf\n",
      "PDF saved as ../data/raw/pdf/document_20.pdf\n"
     ]
    }
   ],
   "source": [
    "# Load the text file\n",
    "input_file = \"groundTruth.txt\"\n",
    "with open(input_file, 'r', encoding='utf-8') as file:\n",
    "    lines = file.readlines()\n",
    "\n",
    "# Process each line or section in the text file\n",
    "output_folder = \"../data/raw/pdf/\"\n",
    "for idx, line in enumerate(lines):\n",
    "    if line.strip():  # Ensure the line is not empty\n",
    "        output_file = f\"{output_folder}document_{idx + 1}.pdf\"\n",
    "        string_to_pdf_fpdf(output_file, line.strip())\n",
    "        print(f\"PDF saved as {output_file}\")"
   ]
  }
 ],
 "metadata": {
  "kernelspec": {
   "display_name": ".venv",
   "language": "python",
   "name": "python3"
  },
  "language_info": {
   "codemirror_mode": {
    "name": "ipython",
    "version": 3
   },
   "file_extension": ".py",
   "mimetype": "text/x-python",
   "name": "python",
   "nbconvert_exporter": "python",
   "pygments_lexer": "ipython3",
   "version": "3.12.3"
  }
 },
 "nbformat": 4,
 "nbformat_minor": 2
}
