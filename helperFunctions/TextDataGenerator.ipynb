{
 "cells": [
  {
   "cell_type": "markdown",
   "metadata": {},
   "source": [
    "# Text Recognition Data Generator\n",
    "\n",
    "Generate synthetic text data for OCR project using the trdg library\n",
    "\n",
    "Run the following to install the library:\n",
    "`pip install trdg`"
   ]
  },
  {
   "cell_type": "code",
   "execution_count": 13,
   "metadata": {},
   "outputs": [],
   "source": [
    "import os\n",
    "from trdg.generators import (\n",
    "    GeneratorFromDict,\n",
    "    GeneratorFromRandom,\n",
    "    GeneratorFromStrings,\n",
    "    GeneratorFromWikipedia,\n",
    ")"
   ]
  },
  {
   "cell_type": "code",
   "execution_count": null,
   "metadata": {},
   "outputs": [],
   "source": [
    "def generate_and_save_images(strings, count, output_dir):\n",
    "    \"\"\"\n",
    "    Generate images from text and save them to the specified directory.\n",
    "\n",
    "    Parameters:\n",
    "        strings (list of str): List of strings to generate images for.\n",
    "        count (int): Number of images to generate.\n",
    "        output_dir (str): Path to the directory where images will be saved.\n",
    "    \"\"\"\n",
    "    # Ensure the output directory exists\n",
    "    os.makedirs(output_dir, exist_ok=True)\n",
    "\n",
    "    # Initialize the generator, edit parameters as needed.\n",
    "    generator = GeneratorFromStrings(\n",
    "        strings=strings,\n",
    "        count=count,\n",
    "        size=64,\n",
    "        skewing_angle=5,\n",
    "        random_blur=True,\n",
    "    )\n",
    "\n",
    "    # Generate and save each image\n",
    "    for idx, (img, lbl) in enumerate(generator):\n",
    "        # Create the file name\n",
    "        file_name = f\"text_image_{idx + 1}.png\"\n",
    "        file_path = os.path.join(output_dir, file_name)\n",
    "\n",
    "        # Save the image\n",
    "        img.save(file_path)\n",
    "        print(f\"Saved: {file_path}\")\n"
   ]
  },
  {
   "cell_type": "markdown",
   "metadata": {},
   "source": [
    "## Driver\n",
    "Run function here."
   ]
  },
  {
   "cell_type": "code",
   "execution_count": 23,
   "metadata": {},
   "outputs": [
    {
     "name": "stdout",
     "output_type": "stream",
     "text": [
      "Saved: ../data/test/text_image_1.png\n",
      "Saved: ../data/test/text_image_2.png\n",
      "Saved: ../data/test/text_image_3.png\n",
      "Saved: ../data/test/text_image_4.png\n",
      "Saved: ../data/test/text_image_5.png\n"
     ]
    }
   ],
   "source": [
    "# Example usage\n",
    "output_directory = \"../data/test/\"\n",
    "generate_and_save_images([\"Hello, World!\", \"OCR Training\"], count=5, output_dir=output_directory)"
   ]
  }
 ],
 "metadata": {
  "kernelspec": {
   "display_name": "Python 3",
   "language": "python",
   "name": "python3"
  },
  "language_info": {
   "codemirror_mode": {
    "name": "ipython",
    "version": 3
   },
   "file_extension": ".py",
   "mimetype": "text/x-python",
   "name": "python",
   "nbconvert_exporter": "python",
   "pygments_lexer": "ipython3",
   "version": "3.10.12"
  }
 },
 "nbformat": 4,
 "nbformat_minor": 2
}
