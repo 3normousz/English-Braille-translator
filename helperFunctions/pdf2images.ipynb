{
 "cells": [
  {
   "cell_type": "code",
   "execution_count": 7,
   "id": "initial_id",
   "metadata": {
    "ExecuteTime": {
     "end_time": "2024-11-16T09:43:01.020376Z",
     "start_time": "2024-11-16T09:43:01.011751Z"
    },
    "collapsed": true
   },
   "outputs": [],
   "source": [
    "from pdf2image import convert_from_path\n",
    "import os"
   ]
  },
  {
   "cell_type": "code",
   "execution_count": 8,
   "id": "a36f2e667f7ceebf",
   "metadata": {
    "ExecuteTime": {
     "end_time": "2024-11-16T09:43:01.034036Z",
     "start_time": "2024-11-16T09:43:01.027395Z"
    }
   },
   "outputs": [],
   "source": [
    "def pdf_to_images(pdf_dir, output_base_dir, dpi=300):\n",
    "    \"\"\"\n",
    "    Converts all PDF files in a directory to images and saves them in the output base directory.\n",
    "    \n",
    "    Args:\n",
    "        pdf_dir (str): Path to the directory containing PDF files.\n",
    "        output_base_dir (str): Base directory to save the output images.\n",
    "        dpi (int): Resolution of the output images in dots per inch (default=300).\n",
    "    \"\"\"\n",
    "    # Ensure the output base directory exists\n",
    "    os.makedirs(output_base_dir, exist_ok=True)\n",
    "\n",
    "    # Get a list of PDF files in the directory\n",
    "    pdf_files = [f for f in os.listdir(pdf_dir) if f.endswith('.pdf')]\n",
    "\n",
    "    # Process each PDF file\n",
    "    for pdf_file in pdf_files:\n",
    "        pdf_path = os.path.join(pdf_dir, pdf_file)\n",
    "        output_image_path = os.path.join(output_base_dir, f\"{os.path.splitext(pdf_file)[0]}.png\")\n",
    "\n",
    "        print(f\"Processing {pdf_file}...\")\n",
    "\n",
    "        # Convert PDF to image\n",
    "        try:\n",
    "            pages = convert_from_path(pdf_path, dpi=dpi)\n",
    "            if pages:\n",
    "                pages[0].save(output_image_path, \"PNG\")\n",
    "                print(f\"Saved: {output_image_path}\")\n",
    "        except Exception as e:\n",
    "            print(f\"Error processing {pdf_file}: {e}\")"
   ]
  },
  {
   "cell_type": "code",
   "execution_count": 9,
   "id": "979a5da18af2cb8c",
   "metadata": {
    "ExecuteTime": {
     "end_time": "2024-11-16T09:43:10.734444Z",
     "start_time": "2024-11-16T09:43:01.043494Z"
    }
   },
   "outputs": [
    {
     "name": "stdout",
     "output_type": "stream",
     "text": [
      "Processing document_6.pdf...\n",
      "Saved: ../data/test/document_6.png\n",
      "Processing document_2.pdf...\n",
      "Saved: ../data/test/document_2.png\n",
      "Processing document_9.pdf...\n",
      "Saved: ../data/test/document_9.png\n",
      "Processing document_17.pdf...\n",
      "Saved: ../data/test/document_17.png\n",
      "Processing document_13.pdf...\n",
      "Saved: ../data/test/document_13.png\n",
      "Processing document_8.pdf...\n",
      "Saved: ../data/test/document_8.png\n",
      "Processing document_16.pdf...\n",
      "Saved: ../data/test/document_16.png\n",
      "Processing document_11.pdf...\n",
      "Saved: ../data/test/document_11.png\n",
      "Processing document_1.pdf...\n",
      "Saved: ../data/test/document_1.png\n",
      "Processing document_18.pdf...\n",
      "Saved: ../data/test/document_18.png\n",
      "Processing document_20.pdf...\n",
      "Saved: ../data/test/document_20.png\n",
      "Processing document_10.pdf...\n",
      "Saved: ../data/test/document_10.png\n",
      "Processing document_4.pdf...\n",
      "Saved: ../data/test/document_4.png\n",
      "Processing document_14.pdf...\n",
      "Saved: ../data/test/document_14.png\n",
      "Processing document_15.pdf...\n",
      "Saved: ../data/test/document_15.png\n",
      "Processing document_19.pdf...\n",
      "Saved: ../data/test/document_19.png\n",
      "Processing document_3.pdf...\n",
      "Saved: ../data/test/document_3.png\n",
      "Processing document_5.pdf...\n",
      "Saved: ../data/test/document_5.png\n",
      "Processing document_7.pdf...\n",
      "Saved: ../data/test/document_7.png\n",
      "Processing document_12.pdf...\n",
      "Saved: ../data/test/document_12.png\n"
     ]
    }
   ],
   "source": [
    "pdf_dir = \"../data/raw/pdf/\"\n",
    "output_base_dir = \"../data/test\"\n",
    "pdf_to_images(pdf_dir, output_base_dir)"
   ]
  }
 ],
 "metadata": {
  "kernelspec": {
   "display_name": ".venv",
   "language": "python",
   "name": "python3"
  },
  "language_info": {
   "codemirror_mode": {
    "name": "ipython",
    "version": 3
   },
   "file_extension": ".py",
   "mimetype": "text/x-python",
   "name": "python",
   "nbconvert_exporter": "python",
   "pygments_lexer": "ipython3",
   "version": "3.12.3"
  }
 },
 "nbformat": 4,
 "nbformat_minor": 5
}
