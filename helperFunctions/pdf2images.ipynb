{
 "cells": [
  {
   "cell_type": "code",
   "execution_count": 1,
   "id": "initial_id",
   "metadata": {
    "ExecuteTime": {
     "end_time": "2024-11-16T09:43:01.020376Z",
     "start_time": "2024-11-16T09:43:01.011751Z"
    },
    "collapsed": true
   },
   "outputs": [],
   "source": [
    "from pdf2image import convert_from_path\n",
    "import os"
   ]
  },
  {
   "cell_type": "code",
   "execution_count": 2,
   "id": "a36f2e667f7ceebf",
   "metadata": {
    "ExecuteTime": {
     "end_time": "2024-11-16T09:43:01.034036Z",
     "start_time": "2024-11-16T09:43:01.027395Z"
    }
   },
   "outputs": [],
   "source": [
    "def pdf_to_images(pdf_dir, output_base_dir, dpi=300):\n",
    "    \"\"\"\n",
    "    Converts all PDF files in a directory to images and saves them in subdirectories.\n",
    "    \n",
    "    Args:\n",
    "        pdf_dir (str): Path to the directory containing PDF files.\n",
    "        output_base_dir (str): Base directory to save the output images.\n",
    "        dpi (int): Resolution of the output images in dots per inch (default=300).\n",
    "    \"\"\"\n",
    "    # Ensure the output base directory exists\n",
    "    os.makedirs(output_base_dir, exist_ok=True)\n",
    "\n",
    "    # Get a list of PDF files in the directory\n",
    "    pdf_files = [f for f in os.listdir(pdf_dir) if f.endswith('.pdf')]\n",
    "\n",
    "    # Process each PDF file\n",
    "    for idx, pdf_file in enumerate(pdf_files):\n",
    "        pdf_path = os.path.join(pdf_dir, pdf_file)\n",
    "        output_dir = os.path.join(output_base_dir, str(idx))  # Subdirectory for each PDF\n",
    "        os.makedirs(output_dir, exist_ok=True)\n",
    "\n",
    "        print(f\"Processing {pdf_file}...\")\n",
    "\n",
    "        # Convert PDF to images\n",
    "        try:\n",
    "            pages = convert_from_path(pdf_path, dpi=dpi)\n",
    "            for page_num, page in enumerate(pages):\n",
    "                image_path = os.path.join(output_dir, f\"page_{page_num + 1}.png\")\n",
    "                page.save(image_path, \"PNG\")\n",
    "                print(f\"Saved: {image_path}\")\n",
    "        except Exception as e:\n",
    "            print(f\"Error processing {pdf_file}: {e}\")"
   ]
  },
  {
   "cell_type": "code",
   "execution_count": 3,
   "id": "979a5da18af2cb8c",
   "metadata": {
    "ExecuteTime": {
     "end_time": "2024-11-16T09:43:10.734444Z",
     "start_time": "2024-11-16T09:43:01.043494Z"
    }
   },
   "outputs": [
    {
     "name": "stdout",
     "output_type": "stream",
     "text": [
      "Processing document_2.pdf...\n",
      "Saved: ../data/test/0/page_1.png\n",
      "Processing document_1.pdf...\n",
      "Saved: ../data/test/1/page_1.png\n",
      "Processing document_4.pdf...\n",
      "Saved: ../data/test/2/page_1.png\n",
      "Processing document_3.pdf...\n",
      "Saved: ../data/test/3/page_1.png\n",
      "Processing document_5.pdf...\n",
      "Saved: ../data/test/4/page_1.png\n"
     ]
    }
   ],
   "source": [
    "pdf_dir = \"../data/raw/pdf/\"\n",
    "output_base_dir = \"../data/test\"\n",
    "pdf_to_images(pdf_dir, output_base_dir)"
   ]
  }
 ],
 "metadata": {
  "kernelspec": {
   "display_name": ".venv",
   "language": "python",
   "name": "python3"
  },
  "language_info": {
   "codemirror_mode": {
    "name": "ipython",
    "version": 3
   },
   "file_extension": ".py",
   "mimetype": "text/x-python",
   "name": "python",
   "nbconvert_exporter": "python",
   "pygments_lexer": "ipython3",
   "version": "3.12.3"
  }
 },
 "nbformat": 4,
 "nbformat_minor": 5
}
