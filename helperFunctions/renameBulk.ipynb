{
 "cells": [
  {
   "cell_type": "code",
   "execution_count": null,
   "metadata": {},
   "outputs": [],
   "source": [
    "import os"
   ]
  },
  {
   "cell_type": "code",
   "execution_count": null,
   "metadata": {},
   "outputs": [],
   "source": [
    "def rename_directories(path):\n",
    "    try:\n",
    "        # List all items in the given directory path\n",
    "        for directory in os.listdir(path):\n",
    "            old_name = os.path.join(path, directory)\n",
    "            # Check if it's a directory and has \"_L _U\" suffix\n",
    "            if os.path.isdir(old_name) and directory.endswith(\"_L\") or directory.endswith(\"_U\"):\n",
    "                # New name without \"_L _U\" suffix\n",
    "                new_name = os.path.join(path, directory[:-2])\n",
    "                # Rename the directory\n",
    "                os.rename(old_name, new_name)\n",
    "                print(f'Renamed: {old_name} -> {new_name}')\n",
    "    except Exception as e:\n",
    "        print(f\"Error: {e}\")\n",
    "\n",
    "# Specify the path to the directory containing the folders\n",
    "directory_path = \"../data/raw/character_set3/\"\n",
    "rename_directories(directory_path)"
   ]
  }
 ],
 "metadata": {
  "kernelspec": {
   "display_name": ".venv",
   "language": "python",
   "name": "python3"
  },
  "language_info": {
   "codemirror_mode": {
    "name": "ipython",
    "version": 3
   },
   "file_extension": ".py",
   "mimetype": "text/x-python",
   "name": "python",
   "nbconvert_exporter": "python",
   "pygments_lexer": "ipython3",
   "version": "3.12.3"
  }
 },
 "nbformat": 4,
 "nbformat_minor": 2
}
