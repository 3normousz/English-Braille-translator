{
 "cells": [
  {
   "cell_type": "code",
   "execution_count": 6,
   "metadata": {},
   "outputs": [],
   "source": [
    "import os\n",
    "\n",
    "def combine_labels():\n",
    "    img_dir = '../data/raw/ittk5/train/img'\n",
    "    label_dir = '../data/raw/ittk5/train/label'\n",
    "    output_file = '../data/raw/ittk5/train/combined_labels.txt'\n",
    "\n",
    "    with open(output_file, 'w') as outfile:\n",
    "        for img_file in os.listdir(img_dir):\n",
    "            if img_file.endswith('.jpg'):\n",
    "                label_file = os.path.splitext(img_file)[0] + '.txt'\n",
    "                label_path = os.path.join(label_dir, label_file)\n",
    "\n",
    "                if os.path.exists(label_path):\n",
    "                    with open(label_path, 'r') as lf:\n",
    "                        label = lf.read().strip()\n",
    "                else:\n",
    "                    label = ''\n",
    "\n",
    "                outfile.write(f'{img_file} {label}\\n')\n",
    "\n",
    "combine_labels()"
   ]
  }
 ],
 "metadata": {
  "kernelspec": {
   "display_name": ".venv",
   "language": "python",
   "name": "python3"
  },
  "language_info": {
   "codemirror_mode": {
    "name": "ipython",
    "version": 3
   },
   "file_extension": ".py",
   "mimetype": "text/x-python",
   "name": "python",
   "nbconvert_exporter": "python",
   "pygments_lexer": "ipython3",
   "version": "3.12.3"
  }
 },
 "nbformat": 4,
 "nbformat_minor": 2
}
