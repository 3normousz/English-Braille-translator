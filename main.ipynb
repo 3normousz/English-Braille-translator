{
    "cells": [
        {
            "cell_type": "code",
            "execution_count": 2,
            "metadata": {},
            "outputs": [],
            "source": [
                "import cv2\n",
                "import numpy as np\n",
                "import pandas as pd\n",
                "import matplotlib.pyplot as plt\n",
                "#import seaborn as sns  #Unused import\n",
                "import os\n",
                "#from symspellpy import SymSpell, Verbosity\n",
                "import pkg_resources\n",
                "\n",
                "from sklearn.model_selection import train_test_split\n",
                "from sklearn.metrics import classification_report\n",
                "\n",
                "import tensorflow as tf\n",
                "from tensorflow.keras.preprocessing.image import ImageDataGenerator\n",
                "from tensorflow.keras.models import Sequential\n",
                "from tensorflow.keras.layers import (Dense, Dropout, Conv2D, MaxPool2D, \n",
                "                                     BatchNormalization, Flatten, GlobalAveragePooling2D, Input,\n",
                "                                     LSTM, Bidirectional, TimeDistributed, Reshape, Embedding)\n",
                "from tensorflow.keras.optimizers import Adam\n",
                "from tensorflow.keras.callbacks import EarlyStopping, ModelCheckpoint, ReduceLROnPlateau, LearningRateScheduler, ReduceLROnPlateau\n",
                "from tensorflow.keras.applications import EfficientNetB7, MobileNetV2, VGG19, DenseNet121\n",
                "\n",
                "from tensorflow.keras.regularizers import l2"
            ]
        },
        {
            "cell_type": "code",
            "execution_count": 3,
            "metadata": {},
            "outputs": [],
            "source": [
                "def directory_to_df(path : str):\n",
                "    \"\"\"\n",
                "    This function to retrieve all images from targeted folder in a file, the\n",
                "    folder must be divided hirarchally in which each class contains its images individually.\n",
                "    ________________________________________________________________________________________________\n",
                "    Arguments-\n",
                "    \n",
                "    path: String -> the main folder directory that contains train/test folders\n",
                "    \n",
                "    ________________________________________________________________________________________________\n",
                "    Return-\n",
                "    \n",
                "    DataFrame: contains the images path and label corresponding to every image\n",
                "    \"\"\"\n",
                "    df = []\n",
                "    chars = 'abcdefghijklmnopqrstuvwxyzABCDEFGHIJKLMNOPQRSTUVWXYZ0123456789!,#&()-$%;@[]^_`}{~+'\n",
                "    for cls in os.listdir(path):\n",
                "        cls_path = os.path.join(path,cls)\n",
                "        cls_name = cls.split('_')[0]\n",
                "        if not cls_name in chars:\n",
                "            if cls_name == 'qmark':\n",
                "                cls_name = '?'\n",
                "            elif cls_name == 'dot':\n",
                "                cls_name = '.'\n",
                "            elif cls_name == 'colon':\n",
                "                cls_name = ':'\n",
                "            else:\n",
                "                continue\n",
                "        for img_path in os.listdir(cls_path):\n",
                "            direct = os.path.join(cls_path,img_path)\n",
                "            df.append([direct,cls_name])\n",
                "    \n",
                "    df = pd.DataFrame(df, columns=['image','label'])\n",
                "    print(\"The number of samples found:\",len(df))\n",
                "    return df.copy()\n",
                "\n",
                "def read_image(path):\n",
                "    \"\"\"\n",
                "    Read an image from specified directory\n",
                "    _____________________________________________________________\n",
                "    Arguments:\n",
                "    \n",
                "    path: String -> a directory of the image\n",
                "    _____________________________________________________________\n",
                "    Return:\n",
                "    \n",
                "    image: numpy.array of the image\n",
                "    \"\"\"\n",
                "    image = cv2.imread(path)\n",
                "    image = cv2.cvtColor(image, cv2.COLOR_BGR2RGB)\n",
                "    return image\n",
                "\n",
                "def show_image(img, label=None) -> None:\n",
                "    \"\"\"\n",
                "    This function to display any image\n",
                "    _________________________________________________________\n",
                "    Arguements:\n",
                "    \n",
                "    img: numpy.array of N-D\n",
                "    \n",
                "    label: String -> the title/label added with the image, Default= None\n",
                "    _________________________________________________________\n",
                "    Return:\n",
                "    \n",
                "    plt.imshow()\n",
                "    \"\"\"\n",
                "    plt.imshow(img, cmap='gray')\n",
                "    plt.axis(False)\n",
                "    plt.title(label)\n",
                "    plt.show()\n",
                "    \n",
                "def clbck(model_name):\n",
                "    # The function is defined to make the callbacks for training the models\n",
                "    ERLY = EarlyStopping(patience=10, min_delta=0.01, start_from_epoch=10, verbose=1)\n",
                "    RD = ReduceLROnPlateau(\n",
                "        monitor='val_accuracy',\n",
                "        factor=0.5,\n",
                "        patience=3,\n",
                "        verbose=1, \n",
                "        min_lr=1e-6, \n",
                "    )\n",
                "    CHK = ModelCheckpoint(f'models/{model_name}_model.keras',verbose=1, save_best_only=True)\n",
                "    return [ERLY,RD,CHK]"
            ]
        },
        {
            "cell_type": "code",
            "execution_count": 4,
            "metadata": {},
            "outputs": [
                {
                    "name": "stderr",
                    "output_type": "stream",
                    "text": [
                        "I0000 00:00:1732887647.192738    3665 gpu_device.cc:2022] Created device /job:localhost/replica:0/task:0/device:GPU:0 with 4080 MB memory:  -> device: 0, name: NVIDIA GeForce GTX 1660 Ti, pci bus id: 0000:01:00.0, compute capability: 7.5\n"
                    ]
                }
            ],
            "source": [
                "# Pre-defined hyperparameters\n",
                "IMG_SHAPE = (64, 64)\n",
                "IMG_SIZE = (64, 64, 3)\n",
                "BATCH_SIZE = 32\n",
                "opt = Adam(learning_rate=0.0001, epsilon=1e-6)\n",
                "loss = 'categorical_crossentropy'\n",
                "EPOCHS = 50\n",
                "\n",
                "# Model selection\n",
                "# 1. EfficientNetB7\n",
                "# 2. CustomCNN\n",
                "# MODEL_SEL = 'EfficientNetB7'\n",
                "MODEL_SEL = 'CustomCNN'"
            ]
        },
        {
            "cell_type": "markdown",
            "metadata": {},
            "source": [
                "## 3) Reading & preparing the dataset"
            ]
        },
        {
            "cell_type": "code",
            "execution_count": 5,
            "metadata": {},
            "outputs": [
                {
                    "name": "stdout",
                    "output_type": "stream",
                    "text": [
                        "The number of samples found: 201956\n"
                    ]
                },
                {
                    "data": {
                        "text/html": [
                            "<div>\n",
                            "<style scoped>\n",
                            "    .dataframe tbody tr th:only-of-type {\n",
                            "        vertical-align: middle;\n",
                            "    }\n",
                            "\n",
                            "    .dataframe tbody tr th {\n",
                            "        vertical-align: top;\n",
                            "    }\n",
                            "\n",
                            "    .dataframe thead th {\n",
                            "        text-align: right;\n",
                            "    }\n",
                            "</style>\n",
                            "<table border=\"1\" class=\"dataframe\">\n",
                            "  <thead>\n",
                            "    <tr style=\"text-align: right;\">\n",
                            "      <th></th>\n",
                            "      <th>image</th>\n",
                            "      <th>label</th>\n",
                            "    </tr>\n",
                            "  </thead>\n",
                            "  <tbody>\n",
                            "    <tr>\n",
                            "      <th>0</th>\n",
                            "      <td>data/raw/character_set3/y/Y_L_1099.png</td>\n",
                            "      <td>y</td>\n",
                            "    </tr>\n",
                            "    <tr>\n",
                            "      <th>1</th>\n",
                            "      <td>data/raw/character_set3/y/Y_L_2132.png</td>\n",
                            "      <td>y</td>\n",
                            "    </tr>\n",
                            "    <tr>\n",
                            "      <th>2</th>\n",
                            "      <td>data/raw/character_set3/y/Y_L_791.png</td>\n",
                            "      <td>y</td>\n",
                            "    </tr>\n",
                            "    <tr>\n",
                            "      <th>3</th>\n",
                            "      <td>data/raw/character_set3/y/Y_L_1007.png</td>\n",
                            "      <td>y</td>\n",
                            "    </tr>\n",
                            "    <tr>\n",
                            "      <th>4</th>\n",
                            "      <td>data/raw/character_set3/y/Y_L_493.png</td>\n",
                            "      <td>y</td>\n",
                            "    </tr>\n",
                            "  </tbody>\n",
                            "</table>\n",
                            "</div>"
                        ],
                        "text/plain": [
                            "                                    image label\n",
                            "0  data/raw/character_set3/y/Y_L_1099.png     y\n",
                            "1  data/raw/character_set3/y/Y_L_2132.png     y\n",
                            "2   data/raw/character_set3/y/Y_L_791.png     y\n",
                            "3  data/raw/character_set3/y/Y_L_1007.png     y\n",
                            "4   data/raw/character_set3/y/Y_L_493.png     y"
                        ]
                    },
                    "execution_count": 5,
                    "metadata": {},
                    "output_type": "execute_result"
                }
            ],
            "source": [
                "# Reading the dataset in dataframe \n",
                "main_path = 'data/raw/character_set3/'\n",
                "df = directory_to_df(main_path)                   # convert the dataset into df of two columns\n",
                "df.head()"
            ]
        },
        {
            "cell_type": "code",
            "execution_count": 6,
            "metadata": {},
            "outputs": [
                {
                    "data": {
                        "text/plain": [
                            "label\n",
                            "I    4046\n",
                            "K    4046\n",
                            "M    4046\n",
                            "R    4046\n",
                            "P    4046\n",
                            "     ... \n",
                            ";     194\n",
                            ".     188\n",
                            "%     184\n",
                            "$     174\n",
                            "-     173\n",
                            "Name: count, Length: 85, dtype: int64"
                        ]
                    },
                    "execution_count": 6,
                    "metadata": {},
                    "output_type": "execute_result"
                }
            ],
            "source": [
                "df['label'].value_counts()"
            ]
        },
        {
            "cell_type": "markdown",
            "metadata": {},
            "source": [
                "3.1) Splitting the dataframe"
            ]
        },
        {
            "cell_type": "code",
            "execution_count": 7,
            "metadata": {},
            "outputs": [],
            "source": [
                "# Splitting for training & testing (70,30 respectively)\n",
                "X, y = df['image'], df['label']\n",
                "X_train, X_test, y_train, y_test = train_test_split(X,y , test_size=0.30, random_state=41)\n",
                "training_df = pd.concat((X_train,y_train), axis=1)\n",
                "testing_df = pd.concat((X_test,y_test), axis=1)"
            ]
        },
        {
            "cell_type": "code",
            "execution_count": 8,
            "metadata": {},
            "outputs": [],
            "source": [
                "# Splitting for training & validation (75,25 respectively) -> the training set size = 52.5%\n",
                "X, y = training_df['image'], training_df['label']\n",
                "X_train, X_valid, y_train, y_valid = train_test_split(X,y , test_size=0.25, random_state=41)\n",
                "training_df = pd.concat((X_train,y_train), axis=1)\n",
                "validation_df = pd.concat((X_valid,y_valid), axis=1)"
            ]
        },
        {
            "cell_type": "markdown",
            "metadata": {},
            "source": [
                "3.2) Creating generators"
            ]
        },
        {
            "cell_type": "code",
            "execution_count": 9,
            "metadata": {},
            "outputs": [
                {
                    "name": "stdout",
                    "output_type": "stream",
                    "text": [
                        "Found 106026 validated image filenames belonging to 85 classes.\n",
                        "Found 35343 validated image filenames belonging to 85 classes.\n",
                        "Found 60587 validated image filenames belonging to 85 classes.\n"
                    ]
                }
            ],
            "source": [
                "# Creating generators\n",
                "gen = ImageDataGenerator(\n",
                "    rotation_range=1,\n",
                "    shear_range=0,\n",
                "    width_shift_range=0.1,\n",
                "    height_shift_range=0.1,\n",
                "    zoom_range=0.2,\n",
                "    brightness_range=[0.5, 1.5],\n",
                "    fill_mode='nearest',\n",
                "    dtype=np.int32,\n",
                ")\n",
                "\n",
                "gen2 = ImageDataGenerator(dtype=np.int32, fill_mode='nearest')\n",
                "train_gen = gen.flow_from_dataframe(training_df, x_col='image',y_col='label', batch_size=BATCH_SIZE, \n",
                "                                   target_size=IMG_SHAPE)\n",
                "valid_gen = gen2.flow_from_dataframe(validation_df, x_col='image', y_col='label', batch_size=BATCH_SIZE, \n",
                "                                        target_size=IMG_SHAPE, shuffle=False)\n",
                "test_gen = gen2.flow_from_dataframe(testing_df, x_col='image', y_col='label', batch_size=BATCH_SIZE, \n",
                "                                       target_size=IMG_SHAPE, shuffle=False)"
            ]
        },
        {
            "cell_type": "code",
            "execution_count": 10,
            "metadata": {},
            "outputs": [],
            "source": [
                "# Making a mapping of the classes and the inverse for later processings\n",
                "mapping = train_gen.class_indices\n",
                "mapping_inverse = dict(map(lambda x: tuple(reversed(x)), mapping.items()))"
            ]
        },
        {
            "cell_type": "code",
            "execution_count": 11,
            "metadata": {},
            "outputs": [
                {
                    "data": {
                        "image/png": "[encoded data removed]",
                        "text/plain": [
                            "<Figure size 640x480 with 1 Axes>"
                        ]
                    },
                    "metadata": {},
                    "output_type": "display_data"
                },
                {
                    "name": "stdout",
                    "output_type": "stream",
                    "text": [
                        "The shape of the image: (32, 32, 3)\n"
                    ]
                }
            ],
            "source": [
                "# Reading a sample from the dataset\n",
                "BATCH_NUM = 10\n",
                "IMG_NUM = 2      # from 0 to 31\n",
                "show_image(train_gen[BATCH_NUM][0][IMG_NUM],mapping_inverse[train_gen[BATCH_NUM][1][IMG_NUM].argmax()])\n",
                "print('The shape of the image:',train_gen[BATCH_NUM][0][IMG_NUM].shape)"
            ]
        },
        {
            "cell_type": "code",
            "execution_count": 12,
            "metadata": {},
            "outputs": [
                {
                    "data": {
                        "image/png": "[encoded data removed]",
                        "text/plain": [
                            "<Figure size 640x480 with 1 Axes>"
                        ]
                    },
                    "metadata": {},
                    "output_type": "display_data"
                },
                {
                    "name": "stdout",
                    "output_type": "stream",
                    "text": [
                        "The shape of the image: (32, 32, 3)\n"
                    ]
                }
            ],
            "source": [
                "# Reading another sample from the dataset\n",
                "BATCH_NUM = 65\n",
                "IMG_NUM = 30      # from 0 to 31\n",
                "show_image(train_gen[BATCH_NUM][0][IMG_NUM],mapping_inverse[train_gen[BATCH_NUM][1][IMG_NUM].argmax()])\n",
                "print('The shape of the image:',train_gen[BATCH_NUM][0][IMG_NUM].shape)"
            ]
        },
        {
            "cell_type": "code",
            "execution_count": null,
            "metadata": {},
            "outputs": [],
            "source": [
                "BATCH_NUM = 0\n",
                "IMG_NUM = 0      # from 0 to 31\n",
                "for i in range(32):\n",
                "    show_image(train_gen[BATCH_NUM][0][IMG_NUM+i],mapping_inverse[train_gen[BATCH_NUM][1][IMG_NUM+i].argmax()])\n",
                "    print('The shape of the image:',train_gen[BATCH_NUM][0][IMG_NUM+i].shape)"
            ]
        },
        {
            "cell_type": "markdown",
            "metadata": {},
            "source": [
                "# 4) Modeling"
            ]
        },
        {
            "cell_type": "markdown",
            "metadata": {},
            "source": [
                "## 4.1) Custom Model"
            ]
        },
        {
            "cell_type": "code",
            "execution_count": 13,
            "metadata": {},
            "outputs": [],
            "source": [
                "from tensorflow.keras.layers import BatchNormalization\n",
                "from tensorflow.keras.regularizers import l2\n",
                "\n",
                "CNN_model = Sequential()\n",
                "CNN_model.add(Input(shape=IMG_SIZE, name='Input'))\n",
                "CNN_model.add(Conv2D(32, (3,3), activation='relu', padding='same'))\n",
                "CNN_model.add(BatchNormalization())\n",
                "CNN_model.add(Conv2D(32, (3,3), activation='relu'))\n",
                "CNN_model.add(BatchNormalization())\n",
                "CNN_model.add(MaxPool2D((2,2)))\n",
                "CNN_model.add(Dropout(0.25))\n",
                "\n",
                "CNN_model.add(Conv2D(64, (3,3), activation='relu', padding='same'))\n",
                "CNN_model.add(BatchNormalization())\n",
                "CNN_model.add(Conv2D(64, (3,3), activation='relu'))\n",
                "CNN_model.add(BatchNormalization())\n",
                "CNN_model.add(MaxPool2D((2,2)))\n",
                "CNN_model.add(Dropout(0.25))\n",
                "\n",
                "CNN_model.add(Conv2D(128, (3,3), activation='relu', padding='same'))  # Added layer\n",
                "CNN_model.add(BatchNormalization())\n",
                "CNN_model.add(MaxPool2D((2,2)))\n",
                "CNN_model.add(Dropout(0.25))\n",
                "\n",
                "CNN_model.add(Flatten())\n",
                "CNN_model.add(Dense(512, activation='relu', kernel_regularizer=l2(0.001)))  # Increased units\n",
                "CNN_model.add(Dropout(0.5))\n",
                "CNN_model.add(Dense(len(mapping), activation='softmax'))"
            ]
        },
        {
            "cell_type": "code",
            "execution_count": 14,
            "metadata": {},
            "outputs": [
                {
                    "data": {
                        "text/html": [
                            "<pre style=\"white-space:pre;overflow-x:auto;line-height:normal;font-family:Menlo,'DejaVu Sans Mono',consolas,'Courier New',monospace\"><span style=\"font-weight: bold\">Model: \"sequential\"</span>\n",
                            "</pre>\n"
                        ],
                        "text/plain": [
                            "\u001b[1mModel: \"sequential\"\u001b[0m\n"
                        ]
                    },
                    "metadata": {},
                    "output_type": "display_data"
                },
                {
                    "data": {
                        "text/html": [
                            "<pre style=\"white-space:pre;overflow-x:auto;line-height:normal;font-family:Menlo,'DejaVu Sans Mono',consolas,'Courier New',monospace\">┏━━━━━━━━━━━━━━━━━━━━━━━━━━━━━━━━━┳━━━━━━━━━━━━━━━━━━━━━━━━┳━━━━━━━━━━━━━━━┓\n",
                            "┃<span style=\"font-weight: bold\"> Layer (type)                    </span>┃<span style=\"font-weight: bold\"> Output Shape           </span>┃<span style=\"font-weight: bold\">       Param # </span>┃\n",
                            "┡━━━━━━━━━━━━━━━━━━━━━━━━━━━━━━━━━╇━━━━━━━━━━━━━━━━━━━━━━━━╇━━━━━━━━━━━━━━━┩\n",
                            "│ conv2d (<span style=\"color: #0087ff; text-decoration-color: #0087ff\">Conv2D</span>)                 │ (<span style=\"color: #00d7ff; text-decoration-color: #00d7ff\">None</span>, <span style=\"color: #00af00; text-decoration-color: #00af00\">32</span>, <span style=\"color: #00af00; text-decoration-color: #00af00\">32</span>, <span style=\"color: #00af00; text-decoration-color: #00af00\">32</span>)     │           <span style=\"color: #00af00; text-decoration-color: #00af00\">896</span> │\n",
                            "├─────────────────────────────────┼────────────────────────┼───────────────┤\n",
                            "│ batch_normalization             │ (<span style=\"color: #00d7ff; text-decoration-color: #00d7ff\">None</span>, <span style=\"color: #00af00; text-decoration-color: #00af00\">32</span>, <span style=\"color: #00af00; text-decoration-color: #00af00\">32</span>, <span style=\"color: #00af00; text-decoration-color: #00af00\">32</span>)     │           <span style=\"color: #00af00; text-decoration-color: #00af00\">128</span> │\n",
                            "│ (<span style=\"color: #0087ff; text-decoration-color: #0087ff\">BatchNormalization</span>)            │                        │               │\n",
                            "├─────────────────────────────────┼────────────────────────┼───────────────┤\n",
                            "│ conv2d_1 (<span style=\"color: #0087ff; text-decoration-color: #0087ff\">Conv2D</span>)               │ (<span style=\"color: #00d7ff; text-decoration-color: #00d7ff\">None</span>, <span style=\"color: #00af00; text-decoration-color: #00af00\">30</span>, <span style=\"color: #00af00; text-decoration-color: #00af00\">30</span>, <span style=\"color: #00af00; text-decoration-color: #00af00\">32</span>)     │         <span style=\"color: #00af00; text-decoration-color: #00af00\">9,248</span> │\n",
                            "├─────────────────────────────────┼────────────────────────┼───────────────┤\n",
                            "│ batch_normalization_1           │ (<span style=\"color: #00d7ff; text-decoration-color: #00d7ff\">None</span>, <span style=\"color: #00af00; text-decoration-color: #00af00\">30</span>, <span style=\"color: #00af00; text-decoration-color: #00af00\">30</span>, <span style=\"color: #00af00; text-decoration-color: #00af00\">32</span>)     │           <span style=\"color: #00af00; text-decoration-color: #00af00\">128</span> │\n",
                            "│ (<span style=\"color: #0087ff; text-decoration-color: #0087ff\">BatchNormalization</span>)            │                        │               │\n",
                            "├─────────────────────────────────┼────────────────────────┼───────────────┤\n",
                            "│ max_pooling2d (<span style=\"color: #0087ff; text-decoration-color: #0087ff\">MaxPooling2D</span>)    │ (<span style=\"color: #00d7ff; text-decoration-color: #00d7ff\">None</span>, <span style=\"color: #00af00; text-decoration-color: #00af00\">15</span>, <span style=\"color: #00af00; text-decoration-color: #00af00\">15</span>, <span style=\"color: #00af00; text-decoration-color: #00af00\">32</span>)     │             <span style=\"color: #00af00; text-decoration-color: #00af00\">0</span> │\n",
                            "├─────────────────────────────────┼────────────────────────┼───────────────┤\n",
                            "│ dropout (<span style=\"color: #0087ff; text-decoration-color: #0087ff\">Dropout</span>)               │ (<span style=\"color: #00d7ff; text-decoration-color: #00d7ff\">None</span>, <span style=\"color: #00af00; text-decoration-color: #00af00\">15</span>, <span style=\"color: #00af00; text-decoration-color: #00af00\">15</span>, <span style=\"color: #00af00; text-decoration-color: #00af00\">32</span>)     │             <span style=\"color: #00af00; text-decoration-color: #00af00\">0</span> │\n",
                            "├─────────────────────────────────┼────────────────────────┼───────────────┤\n",
                            "│ conv2d_2 (<span style=\"color: #0087ff; text-decoration-color: #0087ff\">Conv2D</span>)               │ (<span style=\"color: #00d7ff; text-decoration-color: #00d7ff\">None</span>, <span style=\"color: #00af00; text-decoration-color: #00af00\">15</span>, <span style=\"color: #00af00; text-decoration-color: #00af00\">15</span>, <span style=\"color: #00af00; text-decoration-color: #00af00\">64</span>)     │        <span style=\"color: #00af00; text-decoration-color: #00af00\">18,496</span> │\n",
                            "├─────────────────────────────────┼────────────────────────┼───────────────┤\n",
                            "│ batch_normalization_2           │ (<span style=\"color: #00d7ff; text-decoration-color: #00d7ff\">None</span>, <span style=\"color: #00af00; text-decoration-color: #00af00\">15</span>, <span style=\"color: #00af00; text-decoration-color: #00af00\">15</span>, <span style=\"color: #00af00; text-decoration-color: #00af00\">64</span>)     │           <span style=\"color: #00af00; text-decoration-color: #00af00\">256</span> │\n",
                            "│ (<span style=\"color: #0087ff; text-decoration-color: #0087ff\">BatchNormalization</span>)            │                        │               │\n",
                            "├─────────────────────────────────┼────────────────────────┼───────────────┤\n",
                            "│ conv2d_3 (<span style=\"color: #0087ff; text-decoration-color: #0087ff\">Conv2D</span>)               │ (<span style=\"color: #00d7ff; text-decoration-color: #00d7ff\">None</span>, <span style=\"color: #00af00; text-decoration-color: #00af00\">13</span>, <span style=\"color: #00af00; text-decoration-color: #00af00\">13</span>, <span style=\"color: #00af00; text-decoration-color: #00af00\">64</span>)     │        <span style=\"color: #00af00; text-decoration-color: #00af00\">36,928</span> │\n",
                            "├─────────────────────────────────┼────────────────────────┼───────────────┤\n",
                            "│ batch_normalization_3           │ (<span style=\"color: #00d7ff; text-decoration-color: #00d7ff\">None</span>, <span style=\"color: #00af00; text-decoration-color: #00af00\">13</span>, <span style=\"color: #00af00; text-decoration-color: #00af00\">13</span>, <span style=\"color: #00af00; text-decoration-color: #00af00\">64</span>)     │           <span style=\"color: #00af00; text-decoration-color: #00af00\">256</span> │\n",
                            "│ (<span style=\"color: #0087ff; text-decoration-color: #0087ff\">BatchNormalization</span>)            │                        │               │\n",
                            "├─────────────────────────────────┼────────────────────────┼───────────────┤\n",
                            "│ max_pooling2d_1 (<span style=\"color: #0087ff; text-decoration-color: #0087ff\">MaxPooling2D</span>)  │ (<span style=\"color: #00d7ff; text-decoration-color: #00d7ff\">None</span>, <span style=\"color: #00af00; text-decoration-color: #00af00\">6</span>, <span style=\"color: #00af00; text-decoration-color: #00af00\">6</span>, <span style=\"color: #00af00; text-decoration-color: #00af00\">64</span>)       │             <span style=\"color: #00af00; text-decoration-color: #00af00\">0</span> │\n",
                            "├─────────────────────────────────┼────────────────────────┼───────────────┤\n",
                            "│ dropout_1 (<span style=\"color: #0087ff; text-decoration-color: #0087ff\">Dropout</span>)             │ (<span style=\"color: #00d7ff; text-decoration-color: #00d7ff\">None</span>, <span style=\"color: #00af00; text-decoration-color: #00af00\">6</span>, <span style=\"color: #00af00; text-decoration-color: #00af00\">6</span>, <span style=\"color: #00af00; text-decoration-color: #00af00\">64</span>)       │             <span style=\"color: #00af00; text-decoration-color: #00af00\">0</span> │\n",
                            "├─────────────────────────────────┼────────────────────────┼───────────────┤\n",
                            "│ conv2d_4 (<span style=\"color: #0087ff; text-decoration-color: #0087ff\">Conv2D</span>)               │ (<span style=\"color: #00d7ff; text-decoration-color: #00d7ff\">None</span>, <span style=\"color: #00af00; text-decoration-color: #00af00\">6</span>, <span style=\"color: #00af00; text-decoration-color: #00af00\">6</span>, <span style=\"color: #00af00; text-decoration-color: #00af00\">128</span>)      │        <span style=\"color: #00af00; text-decoration-color: #00af00\">73,856</span> │\n",
                            "├─────────────────────────────────┼────────────────────────┼───────────────┤\n",
                            "│ batch_normalization_4           │ (<span style=\"color: #00d7ff; text-decoration-color: #00d7ff\">None</span>, <span style=\"color: #00af00; text-decoration-color: #00af00\">6</span>, <span style=\"color: #00af00; text-decoration-color: #00af00\">6</span>, <span style=\"color: #00af00; text-decoration-color: #00af00\">128</span>)      │           <span style=\"color: #00af00; text-decoration-color: #00af00\">512</span> │\n",
                            "│ (<span style=\"color: #0087ff; text-decoration-color: #0087ff\">BatchNormalization</span>)            │                        │               │\n",
                            "├─────────────────────────────────┼────────────────────────┼───────────────┤\n",
                            "│ conv2d_5 (<span style=\"color: #0087ff; text-decoration-color: #0087ff\">Conv2D</span>)               │ (<span style=\"color: #00d7ff; text-decoration-color: #00d7ff\">None</span>, <span style=\"color: #00af00; text-decoration-color: #00af00\">4</span>, <span style=\"color: #00af00; text-decoration-color: #00af00\">4</span>, <span style=\"color: #00af00; text-decoration-color: #00af00\">128</span>)      │       <span style=\"color: #00af00; text-decoration-color: #00af00\">147,584</span> │\n",
                            "├─────────────────────────────────┼────────────────────────┼───────────────┤\n",
                            "│ batch_normalization_5           │ (<span style=\"color: #00d7ff; text-decoration-color: #00d7ff\">None</span>, <span style=\"color: #00af00; text-decoration-color: #00af00\">4</span>, <span style=\"color: #00af00; text-decoration-color: #00af00\">4</span>, <span style=\"color: #00af00; text-decoration-color: #00af00\">128</span>)      │           <span style=\"color: #00af00; text-decoration-color: #00af00\">512</span> │\n",
                            "│ (<span style=\"color: #0087ff; text-decoration-color: #0087ff\">BatchNormalization</span>)            │                        │               │\n",
                            "├─────────────────────────────────┼────────────────────────┼───────────────┤\n",
                            "│ max_pooling2d_2 (<span style=\"color: #0087ff; text-decoration-color: #0087ff\">MaxPooling2D</span>)  │ (<span style=\"color: #00d7ff; text-decoration-color: #00d7ff\">None</span>, <span style=\"color: #00af00; text-decoration-color: #00af00\">2</span>, <span style=\"color: #00af00; text-decoration-color: #00af00\">2</span>, <span style=\"color: #00af00; text-decoration-color: #00af00\">128</span>)      │             <span style=\"color: #00af00; text-decoration-color: #00af00\">0</span> │\n",
                            "├─────────────────────────────────┼────────────────────────┼───────────────┤\n",
                            "│ dropout_2 (<span style=\"color: #0087ff; text-decoration-color: #0087ff\">Dropout</span>)             │ (<span style=\"color: #00d7ff; text-decoration-color: #00d7ff\">None</span>, <span style=\"color: #00af00; text-decoration-color: #00af00\">2</span>, <span style=\"color: #00af00; text-decoration-color: #00af00\">2</span>, <span style=\"color: #00af00; text-decoration-color: #00af00\">128</span>)      │             <span style=\"color: #00af00; text-decoration-color: #00af00\">0</span> │\n",
                            "├─────────────────────────────────┼────────────────────────┼───────────────┤\n",
                            "│ flatten (<span style=\"color: #0087ff; text-decoration-color: #0087ff\">Flatten</span>)               │ (<span style=\"color: #00d7ff; text-decoration-color: #00d7ff\">None</span>, <span style=\"color: #00af00; text-decoration-color: #00af00\">512</span>)            │             <span style=\"color: #00af00; text-decoration-color: #00af00\">0</span> │\n",
                            "├─────────────────────────────────┼────────────────────────┼───────────────┤\n",
                            "│ dense (<span style=\"color: #0087ff; text-decoration-color: #0087ff\">Dense</span>)                   │ (<span style=\"color: #00d7ff; text-decoration-color: #00d7ff\">None</span>, <span style=\"color: #00af00; text-decoration-color: #00af00\">256</span>)            │       <span style=\"color: #00af00; text-decoration-color: #00af00\">131,328</span> │\n",
                            "├─────────────────────────────────┼────────────────────────┼───────────────┤\n",
                            "│ dropout_3 (<span style=\"color: #0087ff; text-decoration-color: #0087ff\">Dropout</span>)             │ (<span style=\"color: #00d7ff; text-decoration-color: #00d7ff\">None</span>, <span style=\"color: #00af00; text-decoration-color: #00af00\">256</span>)            │             <span style=\"color: #00af00; text-decoration-color: #00af00\">0</span> │\n",
                            "├─────────────────────────────────┼────────────────────────┼───────────────┤\n",
                            "│ dense_1 (<span style=\"color: #0087ff; text-decoration-color: #0087ff\">Dense</span>)                 │ (<span style=\"color: #00d7ff; text-decoration-color: #00d7ff\">None</span>, <span style=\"color: #00af00; text-decoration-color: #00af00\">85</span>)             │        <span style=\"color: #00af00; text-decoration-color: #00af00\">21,845</span> │\n",
                            "└─────────────────────────────────┴────────────────────────┴───────────────┘\n",
                            "</pre>\n"
                        ],
                        "text/plain": [
                            "┏━━━━━━━━━━━━━━━━━━━━━━━━━━━━━━━━━┳━━━━━━━━━━━━━━━━━━━━━━━━┳━━━━━━━━━━━━━━━┓\n",
                            "┃\u001b[1m \u001b[0m\u001b[1mLayer (type)                   \u001b[0m\u001b[1m \u001b[0m┃\u001b[1m \u001b[0m\u001b[1mOutput Shape          \u001b[0m\u001b[1m \u001b[0m┃\u001b[1m \u001b[0m\u001b[1m      Param #\u001b[0m\u001b[1m \u001b[0m┃\n",
                            "┡━━━━━━━━━━━━━━━━━━━━━━━━━━━━━━━━━╇━━━━━━━━━━━━━━━━━━━━━━━━╇━━━━━━━━━━━━━━━┩\n",
                            "│ conv2d (\u001b[38;5;33mConv2D\u001b[0m)                 │ (\u001b[38;5;45mNone\u001b[0m, \u001b[38;5;34m32\u001b[0m, \u001b[38;5;34m32\u001b[0m, \u001b[38;5;34m32\u001b[0m)     │           \u001b[38;5;34m896\u001b[0m │\n",
                            "├─────────────────────────────────┼────────────────────────┼───────────────┤\n",
                            "│ batch_normalization             │ (\u001b[38;5;45mNone\u001b[0m, \u001b[38;5;34m32\u001b[0m, \u001b[38;5;34m32\u001b[0m, \u001b[38;5;34m32\u001b[0m)     │           \u001b[38;5;34m128\u001b[0m │\n",
                            "│ (\u001b[38;5;33mBatchNormalization\u001b[0m)            │                        │               │\n",
                            "├─────────────────────────────────┼────────────────────────┼───────────────┤\n",
                            "│ conv2d_1 (\u001b[38;5;33mConv2D\u001b[0m)               │ (\u001b[38;5;45mNone\u001b[0m, \u001b[38;5;34m30\u001b[0m, \u001b[38;5;34m30\u001b[0m, \u001b[38;5;34m32\u001b[0m)     │         \u001b[38;5;34m9,248\u001b[0m │\n",
                            "├─────────────────────────────────┼────────────────────────┼───────────────┤\n",
                            "│ batch_normalization_1           │ (\u001b[38;5;45mNone\u001b[0m, \u001b[38;5;34m30\u001b[0m, \u001b[38;5;34m30\u001b[0m, \u001b[38;5;34m32\u001b[0m)     │           \u001b[38;5;34m128\u001b[0m │\n",
                            "│ (\u001b[38;5;33mBatchNormalization\u001b[0m)            │                        │               │\n",
                            "├─────────────────────────────────┼────────────────────────┼───────────────┤\n",
                            "│ max_pooling2d (\u001b[38;5;33mMaxPooling2D\u001b[0m)    │ (\u001b[38;5;45mNone\u001b[0m, \u001b[38;5;34m15\u001b[0m, \u001b[38;5;34m15\u001b[0m, \u001b[38;5;34m32\u001b[0m)     │             \u001b[38;5;34m0\u001b[0m │\n",
                            "├─────────────────────────────────┼────────────────────────┼───────────────┤\n",
                            "│ dropout (\u001b[38;5;33mDropout\u001b[0m)               │ (\u001b[38;5;45mNone\u001b[0m, \u001b[38;5;34m15\u001b[0m, \u001b[38;5;34m15\u001b[0m, \u001b[38;5;34m32\u001b[0m)     │             \u001b[38;5;34m0\u001b[0m │\n",
                            "├─────────────────────────────────┼────────────────────────┼───────────────┤\n",
                            "│ conv2d_2 (\u001b[38;5;33mConv2D\u001b[0m)               │ (\u001b[38;5;45mNone\u001b[0m, \u001b[38;5;34m15\u001b[0m, \u001b[38;5;34m15\u001b[0m, \u001b[38;5;34m64\u001b[0m)     │        \u001b[38;5;34m18,496\u001b[0m │\n",
                            "├─────────────────────────────────┼────────────────────────┼───────────────┤\n",
                            "│ batch_normalization_2           │ (\u001b[38;5;45mNone\u001b[0m, \u001b[38;5;34m15\u001b[0m, \u001b[38;5;34m15\u001b[0m, \u001b[38;5;34m64\u001b[0m)     │           \u001b[38;5;34m256\u001b[0m │\n",
                            "│ (\u001b[38;5;33mBatchNormalization\u001b[0m)            │                        │               │\n",
                            "├─────────────────────────────────┼────────────────────────┼───────────────┤\n",
                            "│ conv2d_3 (\u001b[38;5;33mConv2D\u001b[0m)               │ (\u001b[38;5;45mNone\u001b[0m, \u001b[38;5;34m13\u001b[0m, \u001b[38;5;34m13\u001b[0m, \u001b[38;5;34m64\u001b[0m)     │        \u001b[38;5;34m36,928\u001b[0m │\n",
                            "├─────────────────────────────────┼────────────────────────┼───────────────┤\n",
                            "│ batch_normalization_3           │ (\u001b[38;5;45mNone\u001b[0m, \u001b[38;5;34m13\u001b[0m, \u001b[38;5;34m13\u001b[0m, \u001b[38;5;34m64\u001b[0m)     │           \u001b[38;5;34m256\u001b[0m │\n",
                            "│ (\u001b[38;5;33mBatchNormalization\u001b[0m)            │                        │               │\n",
                            "├─────────────────────────────────┼────────────────────────┼───────────────┤\n",
                            "│ max_pooling2d_1 (\u001b[38;5;33mMaxPooling2D\u001b[0m)  │ (\u001b[38;5;45mNone\u001b[0m, \u001b[38;5;34m6\u001b[0m, \u001b[38;5;34m6\u001b[0m, \u001b[38;5;34m64\u001b[0m)       │             \u001b[38;5;34m0\u001b[0m │\n",
                            "├─────────────────────────────────┼────────────────────────┼───────────────┤\n",
                            "│ dropout_1 (\u001b[38;5;33mDropout\u001b[0m)             │ (\u001b[38;5;45mNone\u001b[0m, \u001b[38;5;34m6\u001b[0m, \u001b[38;5;34m6\u001b[0m, \u001b[38;5;34m64\u001b[0m)       │             \u001b[38;5;34m0\u001b[0m │\n",
                            "├─────────────────────────────────┼────────────────────────┼───────────────┤\n",
                            "│ conv2d_4 (\u001b[38;5;33mConv2D\u001b[0m)               │ (\u001b[38;5;45mNone\u001b[0m, \u001b[38;5;34m6\u001b[0m, \u001b[38;5;34m6\u001b[0m, \u001b[38;5;34m128\u001b[0m)      │        \u001b[38;5;34m73,856\u001b[0m │\n",
                            "├─────────────────────────────────┼────────────────────────┼───────────────┤\n",
                            "│ batch_normalization_4           │ (\u001b[38;5;45mNone\u001b[0m, \u001b[38;5;34m6\u001b[0m, \u001b[38;5;34m6\u001b[0m, \u001b[38;5;34m128\u001b[0m)      │           \u001b[38;5;34m512\u001b[0m │\n",
                            "│ (\u001b[38;5;33mBatchNormalization\u001b[0m)            │                        │               │\n",
                            "├─────────────────────────────────┼────────────────────────┼───────────────┤\n",
                            "│ conv2d_5 (\u001b[38;5;33mConv2D\u001b[0m)               │ (\u001b[38;5;45mNone\u001b[0m, \u001b[38;5;34m4\u001b[0m, \u001b[38;5;34m4\u001b[0m, \u001b[38;5;34m128\u001b[0m)      │       \u001b[38;5;34m147,584\u001b[0m │\n",
                            "├─────────────────────────────────┼────────────────────────┼───────────────┤\n",
                            "│ batch_normalization_5           │ (\u001b[38;5;45mNone\u001b[0m, \u001b[38;5;34m4\u001b[0m, \u001b[38;5;34m4\u001b[0m, \u001b[38;5;34m128\u001b[0m)      │           \u001b[38;5;34m512\u001b[0m │\n",
                            "│ (\u001b[38;5;33mBatchNormalization\u001b[0m)            │                        │               │\n",
                            "├─────────────────────────────────┼────────────────────────┼───────────────┤\n",
                            "│ max_pooling2d_2 (\u001b[38;5;33mMaxPooling2D\u001b[0m)  │ (\u001b[38;5;45mNone\u001b[0m, \u001b[38;5;34m2\u001b[0m, \u001b[38;5;34m2\u001b[0m, \u001b[38;5;34m128\u001b[0m)      │             \u001b[38;5;34m0\u001b[0m │\n",
                            "├─────────────────────────────────┼────────────────────────┼───────────────┤\n",
                            "│ dropout_2 (\u001b[38;5;33mDropout\u001b[0m)             │ (\u001b[38;5;45mNone\u001b[0m, \u001b[38;5;34m2\u001b[0m, \u001b[38;5;34m2\u001b[0m, \u001b[38;5;34m128\u001b[0m)      │             \u001b[38;5;34m0\u001b[0m │\n",
                            "├─────────────────────────────────┼────────────────────────┼───────────────┤\n",
                            "│ flatten (\u001b[38;5;33mFlatten\u001b[0m)               │ (\u001b[38;5;45mNone\u001b[0m, \u001b[38;5;34m512\u001b[0m)            │             \u001b[38;5;34m0\u001b[0m │\n",
                            "├─────────────────────────────────┼────────────────────────┼───────────────┤\n",
                            "│ dense (\u001b[38;5;33mDense\u001b[0m)                   │ (\u001b[38;5;45mNone\u001b[0m, \u001b[38;5;34m256\u001b[0m)            │       \u001b[38;5;34m131,328\u001b[0m │\n",
                            "├─────────────────────────────────┼────────────────────────┼───────────────┤\n",
                            "│ dropout_3 (\u001b[38;5;33mDropout\u001b[0m)             │ (\u001b[38;5;45mNone\u001b[0m, \u001b[38;5;34m256\u001b[0m)            │             \u001b[38;5;34m0\u001b[0m │\n",
                            "├─────────────────────────────────┼────────────────────────┼───────────────┤\n",
                            "│ dense_1 (\u001b[38;5;33mDense\u001b[0m)                 │ (\u001b[38;5;45mNone\u001b[0m, \u001b[38;5;34m85\u001b[0m)             │        \u001b[38;5;34m21,845\u001b[0m │\n",
                            "└─────────────────────────────────┴────────────────────────┴───────────────┘\n"
                        ]
                    },
                    "metadata": {},
                    "output_type": "display_data"
                },
                {
                    "data": {
                        "text/html": [
                            "<pre style=\"white-space:pre;overflow-x:auto;line-height:normal;font-family:Menlo,'DejaVu Sans Mono',consolas,'Courier New',monospace\"><span style=\"font-weight: bold\"> Total params: </span><span style=\"color: #00af00; text-decoration-color: #00af00\">441,973</span> (1.69 MB)\n",
                            "</pre>\n"
                        ],
                        "text/plain": [
                            "\u001b[1m Total params: \u001b[0m\u001b[38;5;34m441,973\u001b[0m (1.69 MB)\n"
                        ]
                    },
                    "metadata": {},
                    "output_type": "display_data"
                },
                {
                    "data": {
                        "text/html": [
                            "<pre style=\"white-space:pre;overflow-x:auto;line-height:normal;font-family:Menlo,'DejaVu Sans Mono',consolas,'Courier New',monospace\"><span style=\"font-weight: bold\"> Trainable params: </span><span style=\"color: #00af00; text-decoration-color: #00af00\">441,077</span> (1.68 MB)\n",
                            "</pre>\n"
                        ],
                        "text/plain": [
                            "\u001b[1m Trainable params: \u001b[0m\u001b[38;5;34m441,077\u001b[0m (1.68 MB)\n"
                        ]
                    },
                    "metadata": {},
                    "output_type": "display_data"
                },
                {
                    "data": {
                        "text/html": [
                            "<pre style=\"white-space:pre;overflow-x:auto;line-height:normal;font-family:Menlo,'DejaVu Sans Mono',consolas,'Courier New',monospace\"><span style=\"font-weight: bold\"> Non-trainable params: </span><span style=\"color: #00af00; text-decoration-color: #00af00\">896</span> (3.50 KB)\n",
                            "</pre>\n"
                        ],
                        "text/plain": [
                            "\u001b[1m Non-trainable params: \u001b[0m\u001b[38;5;34m896\u001b[0m (3.50 KB)\n"
                        ]
                    },
                    "metadata": {},
                    "output_type": "display_data"
                }
            ],
            "source": [
                "CNN_model.summary()"
            ]
        },
        {
            "cell_type": "code",
            "execution_count": 15,
            "metadata": {},
            "outputs": [],
            "source": [
                "# Default parameters of adam will be used for the custom CNN\n",
                "CNN_model.compile(optimizer=Adam(), loss=loss, metrics=['accuracy'])"
            ]
        },
        {
            "cell_type": "markdown",
            "metadata": {},
            "source": [
                "## 4.2) Callback Name Setup\n",
                "This will allow you to call the model without having to re-train the model everytime. Simply change the `callback_name` to save a new model in the 'models' folder."
            ]
        },
        {
            "cell_type": "code",
            "execution_count": 16,
            "metadata": {},
            "outputs": [],
            "source": [
                "# Change the name of the model at this variable.\n",
                "callback_name = 'CustomCNN'\n",
                "\n",
                "reduce_lr = ReduceLROnPlateau(\n",
                "    monitor='val_accuracy',\n",
                "    factor=0.5,\n",
                "    patience=3,\n",
                "    verbose=1, \n",
                "    min_lr=1e-6, \n",
                "    )\n",
                "\n",
                "callback = clbck(callback_name) + [reduce_lr] "
            ]
        },
        {
            "cell_type": "markdown",
            "metadata": {},
            "source": [
                "## 4.3) Start Training"
            ]
        },
        {
            "cell_type": "code",
            "execution_count": 17,
            "metadata": {},
            "outputs": [
                {
                    "name": "stderr",
                    "output_type": "stream",
                    "text": [
                        "/home/kenji/.local/lib/python3.10/site-packages/keras/src/trainers/data_adapters/py_dataset_adapter.py:121: UserWarning: Your `PyDataset` class should call `super().__init__(**kwargs)` in its constructor. `**kwargs` can include `workers`, `use_multiprocessing`, `max_queue_size`. Do not pass these arguments to `fit()`, as they will be ignored.\n",
                        "  self._warn_if_super_not_called()\n"
                    ]
                },
                {
                    "name": "stdout",
                    "output_type": "stream",
                    "text": [
                        "Epoch 1/50\n"
                    ]
                },
                {
                    "name": "stderr",
                    "output_type": "stream",
                    "text": [
                        "WARNING: All log messages before absl::InitializeLog() is called are written to STDERR\n",
                        "I0000 00:00:1732887800.585607   48387 service.cc:148] XLA service 0x7f21fc003c00 initialized for platform CUDA (this does not guarantee that XLA will be used). Devices:\n",
                        "I0000 00:00:1732887800.586889   48387 service.cc:156]   StreamExecutor device (0): NVIDIA GeForce GTX 1660 Ti, Compute Capability 7.5\n",
                        "2024-11-29 21:43:20.984370: I tensorflow/compiler/mlir/tensorflow/utils/dump_mlir_util.cc:268] disabling MLIR crash reproducer, set env var `MLIR_CRASH_REPRODUCER_DIRECTORY` to enable.\n",
                        "I0000 00:00:1732887801.954163   48387 cuda_dnn.cc:529] Loaded cuDNN version 90300\n",
                        "2024-11-29 21:43:24.018164: I external/local_xla/xla/service/gpu/autotuning/conv_algorithm_picker.cc:557] Omitted potentially buggy algorithm eng14{k25=0} for conv (f32[32,32,32,32]{3,2,1,0}, u8[0]{0}) custom-call(f32[32,3,32,32]{3,2,1,0}, f32[32,3,3,3]{3,2,1,0}, f32[32]{0}), window={size=3x3 pad=1_1x1_1}, dim_labels=bf01_oi01->bf01, custom_call_target=\"__cudnn$convBiasActivationForward\", backend_config={\"cudnn_conv_backend_config\":{\"activation_mode\":\"kNone\",\"conv_result_scale\":1,\"leakyrelu_alpha\":0,\"side_input_scale\":0},\"force_earliest_schedule\":false,\"operation_queue_id\":\"0\",\"wait_on_operation_queues\":[]}\n",
                        "2024-11-29 21:43:24.464815: I external/local_xla/xla/service/gpu/autotuning/conv_algorithm_picker.cc:557] Omitted potentially buggy algorithm eng14{k25=0} for conv (f32[32,32,30,30]{3,2,1,0}, u8[0]{0}) custom-call(f32[32,32,32,32]{3,2,1,0}, f32[32,32,3,3]{3,2,1,0}, f32[32]{0}), window={size=3x3}, dim_labels=bf01_oi01->bf01, custom_call_target=\"__cudnn$convBiasActivationForward\", backend_config={\"cudnn_conv_backend_config\":{\"activation_mode\":\"kNone\",\"conv_result_scale\":1,\"leakyrelu_alpha\":0,\"side_input_scale\":0},\"force_earliest_schedule\":false,\"operation_queue_id\":\"0\",\"wait_on_operation_queues\":[]}\n",
                        "2024-11-29 21:43:24.672863: I external/local_xla/xla/service/gpu/autotuning/conv_algorithm_picker.cc:557] Omitted potentially buggy algorithm eng14{k25=0} for conv (f32[32,64,15,15]{3,2,1,0}, u8[0]{0}) custom-call(f32[32,32,15,15]{3,2,1,0}, f32[64,32,3,3]{3,2,1,0}, f32[64]{0}), window={size=3x3 pad=1_1x1_1}, dim_labels=bf01_oi01->bf01, custom_call_target=\"__cudnn$convBiasActivationForward\", backend_config={\"cudnn_conv_backend_config\":{\"activation_mode\":\"kNone\",\"conv_result_scale\":1,\"leakyrelu_alpha\":0,\"side_input_scale\":0},\"force_earliest_schedule\":false,\"operation_queue_id\":\"0\",\"wait_on_operation_queues\":[]}\n",
                        "2024-11-29 21:43:24.743886: I external/local_xla/xla/service/gpu/autotuning/conv_algorithm_picker.cc:557] Omitted potentially buggy algorithm eng14{k25=0} for conv (f32[32,64,13,13]{3,2,1,0}, u8[0]{0}) custom-call(f32[32,64,15,15]{3,2,1,0}, f32[64,64,3,3]{3,2,1,0}, f32[64]{0}), window={size=3x3}, dim_labels=bf01_oi01->bf01, custom_call_target=\"__cudnn$convBiasActivationForward\", backend_config={\"cudnn_conv_backend_config\":{\"activation_mode\":\"kNone\",\"conv_result_scale\":1,\"leakyrelu_alpha\":0,\"side_input_scale\":0},\"force_earliest_schedule\":false,\"operation_queue_id\":\"0\",\"wait_on_operation_queues\":[]}\n",
                        "2024-11-29 21:43:24.830155: I external/local_xla/xla/service/gpu/autotuning/conv_algorithm_picker.cc:557] Omitted potentially buggy algorithm eng14{k25=0} for conv (f32[32,128,6,6]{3,2,1,0}, u8[0]{0}) custom-call(f32[32,64,6,6]{3,2,1,0}, f32[128,64,3,3]{3,2,1,0}, f32[128]{0}), window={size=3x3 pad=1_1x1_1}, dim_labels=bf01_oi01->bf01, custom_call_target=\"__cudnn$convBiasActivationForward\", backend_config={\"cudnn_conv_backend_config\":{\"activation_mode\":\"kNone\",\"conv_result_scale\":1,\"leakyrelu_alpha\":0,\"side_input_scale\":0},\"force_earliest_schedule\":false,\"operation_queue_id\":\"0\",\"wait_on_operation_queues\":[]}\n",
                        "2024-11-29 21:43:24.948281: I external/local_xla/xla/service/gpu/autotuning/conv_algorithm_picker.cc:557] Omitted potentially buggy algorithm eng14{k25=0} for conv (f32[32,128,4,4]{3,2,1,0}, u8[0]{0}) custom-call(f32[32,128,6,6]{3,2,1,0}, f32[128,128,3,3]{3,2,1,0}, f32[128]{0}), window={size=3x3}, dim_labels=bf01_oi01->bf01, custom_call_target=\"__cudnn$convBiasActivationForward\", backend_config={\"cudnn_conv_backend_config\":{\"activation_mode\":\"kNone\",\"conv_result_scale\":1,\"leakyrelu_alpha\":0,\"side_input_scale\":0},\"force_earliest_schedule\":false,\"operation_queue_id\":\"0\",\"wait_on_operation_queues\":[]}\n"
                    ]
                },
                {
                    "name": "stdout",
                    "output_type": "stream",
                    "text": [
                        "\u001b[1m   2/3314\u001b[0m \u001b[37m━━━━━━━━━━━━━━━━━━━━\u001b[0m \u001b[1m3:23\u001b[0m 62ms/step - accuracy: 0.0078 - loss: 6.8390       "
                    ]
                },
                {
                    "name": "stderr",
                    "output_type": "stream",
                    "text": [
                        "I0000 00:00:1732887815.451739   48387 device_compiler.h:188] Compiled cluster using XLA!  This line is logged at most once for the lifetime of the process.\n"
                    ]
                },
                {
                    "name": "stdout",
                    "output_type": "stream",
                    "text": [
                        "\u001b[1m 994/3314\u001b[0m \u001b[32m━━━━━\u001b[0m\u001b[37m━━━━━━━━━━━━━━━\u001b[0m \u001b[1m4:00\u001b[0m 104ms/step - accuracy: 0.1447 - loss: 4.0084"
                    ]
                },
                {
                    "name": "stderr",
                    "output_type": "stream",
                    "text": [
                        "2024-11-29 21:45:20.549913: I external/local_xla/xla/service/gpu/autotuning/conv_algorithm_picker.cc:557] Omitted potentially buggy algorithm eng14{k25=0} for conv (f32[10,32,32,32]{3,2,1,0}, u8[0]{0}) custom-call(f32[10,3,32,32]{3,2,1,0}, f32[32,3,3,3]{3,2,1,0}, f32[32]{0}), window={size=3x3 pad=1_1x1_1}, dim_labels=bf01_oi01->bf01, custom_call_target=\"__cudnn$convBiasActivationForward\", backend_config={\"cudnn_conv_backend_config\":{\"activation_mode\":\"kNone\",\"conv_result_scale\":1,\"leakyrelu_alpha\":0,\"side_input_scale\":0},\"force_earliest_schedule\":false,\"operation_queue_id\":\"0\",\"wait_on_operation_queues\":[]}\n",
                        "2024-11-29 21:45:20.694938: I external/local_xla/xla/service/gpu/autotuning/conv_algorithm_picker.cc:557] Omitted potentially buggy algorithm eng14{k25=0} for conv (f32[10,32,30,30]{3,2,1,0}, u8[0]{0}) custom-call(f32[10,32,32,32]{3,2,1,0}, f32[32,32,3,3]{3,2,1,0}, f32[32]{0}), window={size=3x3}, dim_labels=bf01_oi01->bf01, custom_call_target=\"__cudnn$convBiasActivationForward\", backend_config={\"cudnn_conv_backend_config\":{\"activation_mode\":\"kNone\",\"conv_result_scale\":1,\"leakyrelu_alpha\":0,\"side_input_scale\":0},\"force_earliest_schedule\":false,\"operation_queue_id\":\"0\",\"wait_on_operation_queues\":[]}\n",
                        "2024-11-29 21:45:20.760495: I external/local_xla/xla/service/gpu/autotuning/conv_algorithm_picker.cc:557] Omitted potentially buggy algorithm eng14{k25=0} for conv (f32[10,64,15,15]{3,2,1,0}, u8[0]{0}) custom-call(f32[10,32,15,15]{3,2,1,0}, f32[64,32,3,3]{3,2,1,0}, f32[64]{0}), window={size=3x3 pad=1_1x1_1}, dim_labels=bf01_oi01->bf01, custom_call_target=\"__cudnn$convBiasActivationForward\", backend_config={\"cudnn_conv_backend_config\":{\"activation_mode\":\"kNone\",\"conv_result_scale\":1,\"leakyrelu_alpha\":0,\"side_input_scale\":0},\"force_earliest_schedule\":false,\"operation_queue_id\":\"0\",\"wait_on_operation_queues\":[]}\n",
                        "2024-11-29 21:45:20.831611: I external/local_xla/xla/service/gpu/autotuning/conv_algorithm_picker.cc:557] Omitted potentially buggy algorithm eng14{k25=0} for conv (f32[10,64,13,13]{3,2,1,0}, u8[0]{0}) custom-call(f32[10,64,15,15]{3,2,1,0}, f32[64,64,3,3]{3,2,1,0}, f32[64]{0}), window={size=3x3}, dim_labels=bf01_oi01->bf01, custom_call_target=\"__cudnn$convBiasActivationForward\", backend_config={\"cudnn_conv_backend_config\":{\"activation_mode\":\"kNone\",\"conv_result_scale\":1,\"leakyrelu_alpha\":0,\"side_input_scale\":0},\"force_earliest_schedule\":false,\"operation_queue_id\":\"0\",\"wait_on_operation_queues\":[]}\n",
                        "2024-11-29 21:45:20.921577: I external/local_xla/xla/service/gpu/autotuning/conv_algorithm_picker.cc:557] Omitted potentially buggy algorithm eng14{k25=0} for conv (f32[10,128,6,6]{3,2,1,0}, u8[0]{0}) custom-call(f32[10,64,6,6]{3,2,1,0}, f32[128,64,3,3]{3,2,1,0}, f32[128]{0}), window={size=3x3 pad=1_1x1_1}, dim_labels=bf01_oi01->bf01, custom_call_target=\"__cudnn$convBiasActivationForward\", backend_config={\"cudnn_conv_backend_config\":{\"activation_mode\":\"kNone\",\"conv_result_scale\":1,\"leakyrelu_alpha\":0,\"side_input_scale\":0},\"force_earliest_schedule\":false,\"operation_queue_id\":\"0\",\"wait_on_operation_queues\":[]}\n",
                        "2024-11-29 21:45:20.994730: I external/local_xla/xla/service/gpu/autotuning/conv_algorithm_picker.cc:557] Omitted potentially buggy algorithm eng14{k25=0} for conv (f32[10,128,4,4]{3,2,1,0}, u8[0]{0}) custom-call(f32[10,128,6,6]{3,2,1,0}, f32[128,128,3,3]{3,2,1,0}, f32[128]{0}), window={size=3x3}, dim_labels=bf01_oi01->bf01, custom_call_target=\"__cudnn$convBiasActivationForward\", backend_config={\"cudnn_conv_backend_config\":{\"activation_mode\":\"kNone\",\"conv_result_scale\":1,\"leakyrelu_alpha\":0,\"side_input_scale\":0},\"force_earliest_schedule\":false,\"operation_queue_id\":\"0\",\"wait_on_operation_queues\":[]}\n"
                    ]
                },
                {
                    "name": "stdout",
                    "output_type": "stream",
                    "text": [
                        "\u001b[1m3314/3314\u001b[0m \u001b[32m━━━━━━━━━━━━━━━━━━━━\u001b[0m\u001b[37m\u001b[0m \u001b[1m0s\u001b[0m 116ms/step - accuracy: 0.3699 - loss: 2.8322"
                    ]
                },
                {
                    "name": "stderr",
                    "output_type": "stream",
                    "text": [
                        "2024-11-29 21:50:02.600263: I external/local_xla/xla/service/gpu/autotuning/conv_algorithm_picker.cc:557] Omitted potentially buggy algorithm eng14{k25=0} for conv (f32[32,32,32,32]{3,2,1,0}, u8[0]{0}) custom-call(f32[32,3,32,32]{3,2,1,0}, f32[32,3,3,3]{3,2,1,0}, f32[32]{0}), window={size=3x3 pad=1_1x1_1}, dim_labels=bf01_oi01->bf01, custom_call_target=\"__cudnn$convBiasActivationForward\", backend_config={\"cudnn_conv_backend_config\":{\"activation_mode\":\"kRelu\",\"conv_result_scale\":1,\"leakyrelu_alpha\":0,\"side_input_scale\":0},\"force_earliest_schedule\":false,\"operation_queue_id\":\"0\",\"wait_on_operation_queues\":[]}\n",
                        "2024-11-29 21:50:02.732655: I external/local_xla/xla/service/gpu/autotuning/conv_algorithm_picker.cc:557] Omitted potentially buggy algorithm eng14{k25=0} for conv (f32[32,32,30,30]{3,2,1,0}, u8[0]{0}) custom-call(f32[32,32,32,32]{3,2,1,0}, f32[32,32,3,3]{3,2,1,0}, f32[32]{0}), window={size=3x3}, dim_labels=bf01_oi01->bf01, custom_call_target=\"__cudnn$convBiasActivationForward\", backend_config={\"cudnn_conv_backend_config\":{\"activation_mode\":\"kRelu\",\"conv_result_scale\":1,\"leakyrelu_alpha\":0,\"side_input_scale\":0},\"force_earliest_schedule\":false,\"operation_queue_id\":\"0\",\"wait_on_operation_queues\":[]}\n",
                        "2024-11-29 21:50:02.807000: I external/local_xla/xla/service/gpu/autotuning/conv_algorithm_picker.cc:557] Omitted potentially buggy algorithm eng14{k25=0} for conv (f32[32,64,15,15]{3,2,1,0}, u8[0]{0}) custom-call(f32[32,32,15,15]{3,2,1,0}, f32[64,32,3,3]{3,2,1,0}, f32[64]{0}), window={size=3x3 pad=1_1x1_1}, dim_labels=bf01_oi01->bf01, custom_call_target=\"__cudnn$convBiasActivationForward\", backend_config={\"cudnn_conv_backend_config\":{\"activation_mode\":\"kRelu\",\"conv_result_scale\":1,\"leakyrelu_alpha\":0,\"side_input_scale\":0},\"force_earliest_schedule\":false,\"operation_queue_id\":\"0\",\"wait_on_operation_queues\":[]}\n",
                        "2024-11-29 21:50:02.871270: I external/local_xla/xla/service/gpu/autotuning/conv_algorithm_picker.cc:557] Omitted potentially buggy algorithm eng14{k25=0} for conv (f32[32,64,13,13]{3,2,1,0}, u8[0]{0}) custom-call(f32[32,64,15,15]{3,2,1,0}, f32[64,64,3,3]{3,2,1,0}, f32[64]{0}), window={size=3x3}, dim_labels=bf01_oi01->bf01, custom_call_target=\"__cudnn$convBiasActivationForward\", backend_config={\"cudnn_conv_backend_config\":{\"activation_mode\":\"kRelu\",\"conv_result_scale\":1,\"leakyrelu_alpha\":0,\"side_input_scale\":0},\"force_earliest_schedule\":false,\"operation_queue_id\":\"0\",\"wait_on_operation_queues\":[]}\n",
                        "2024-11-29 21:50:02.969831: I external/local_xla/xla/service/gpu/autotuning/conv_algorithm_picker.cc:557] Omitted potentially buggy algorithm eng14{k25=0} for conv (f32[32,128,6,6]{3,2,1,0}, u8[0]{0}) custom-call(f32[32,64,6,6]{3,2,1,0}, f32[128,64,3,3]{3,2,1,0}, f32[128]{0}), window={size=3x3 pad=1_1x1_1}, dim_labels=bf01_oi01->bf01, custom_call_target=\"__cudnn$convBiasActivationForward\", backend_config={\"cudnn_conv_backend_config\":{\"activation_mode\":\"kRelu\",\"conv_result_scale\":1,\"leakyrelu_alpha\":0,\"side_input_scale\":0},\"force_earliest_schedule\":false,\"operation_queue_id\":\"0\",\"wait_on_operation_queues\":[]}\n",
                        "2024-11-29 21:50:03.089676: I external/local_xla/xla/service/gpu/autotuning/conv_algorithm_picker.cc:557] Omitted potentially buggy algorithm eng14{k25=0} for conv (f32[32,128,4,4]{3,2,1,0}, u8[0]{0}) custom-call(f32[32,128,6,6]{3,2,1,0}, f32[128,128,3,3]{3,2,1,0}, f32[128]{0}), window={size=3x3}, dim_labels=bf01_oi01->bf01, custom_call_target=\"__cudnn$convBiasActivationForward\", backend_config={\"cudnn_conv_backend_config\":{\"activation_mode\":\"kRelu\",\"conv_result_scale\":1,\"leakyrelu_alpha\":0,\"side_input_scale\":0},\"force_earliest_schedule\":false,\"operation_queue_id\":\"0\",\"wait_on_operation_queues\":[]}\n",
                        "2024-11-29 21:50:58.779938: I external/local_xla/xla/service/gpu/autotuning/conv_algorithm_picker.cc:557] Omitted potentially buggy algorithm eng14{k25=0} for conv (f32[15,32,32,32]{3,2,1,0}, u8[0]{0}) custom-call(f32[15,3,32,32]{3,2,1,0}, f32[32,3,3,3]{3,2,1,0}, f32[32]{0}), window={size=3x3 pad=1_1x1_1}, dim_labels=bf01_oi01->bf01, custom_call_target=\"__cudnn$convBiasActivationForward\", backend_config={\"cudnn_conv_backend_config\":{\"activation_mode\":\"kRelu\",\"conv_result_scale\":1,\"leakyrelu_alpha\":0,\"side_input_scale\":0},\"force_earliest_schedule\":false,\"operation_queue_id\":\"0\",\"wait_on_operation_queues\":[]}\n",
                        "2024-11-29 21:50:58.832609: I external/local_xla/xla/service/gpu/autotuning/conv_algorithm_picker.cc:557] Omitted potentially buggy algorithm eng14{k25=0} for conv (f32[15,32,30,30]{3,2,1,0}, u8[0]{0}) custom-call(f32[15,32,32,32]{3,2,1,0}, f32[32,32,3,3]{3,2,1,0}, f32[32]{0}), window={size=3x3}, dim_labels=bf01_oi01->bf01, custom_call_target=\"__cudnn$convBiasActivationForward\", backend_config={\"cudnn_conv_backend_config\":{\"activation_mode\":\"kRelu\",\"conv_result_scale\":1,\"leakyrelu_alpha\":0,\"side_input_scale\":0},\"force_earliest_schedule\":false,\"operation_queue_id\":\"0\",\"wait_on_operation_queues\":[]}\n",
                        "2024-11-29 21:50:58.892361: I external/local_xla/xla/service/gpu/autotuning/conv_algorithm_picker.cc:557] Omitted potentially buggy algorithm eng14{k25=0} for conv (f32[15,64,15,15]{3,2,1,0}, u8[0]{0}) custom-call(f32[15,32,15,15]{3,2,1,0}, f32[64,32,3,3]{3,2,1,0}, f32[64]{0}), window={size=3x3 pad=1_1x1_1}, dim_labels=bf01_oi01->bf01, custom_call_target=\"__cudnn$convBiasActivationForward\", backend_config={\"cudnn_conv_backend_config\":{\"activation_mode\":\"kRelu\",\"conv_result_scale\":1,\"leakyrelu_alpha\":0,\"side_input_scale\":0},\"force_earliest_schedule\":false,\"operation_queue_id\":\"0\",\"wait_on_operation_queues\":[]}\n",
                        "2024-11-29 21:50:58.951877: I external/local_xla/xla/service/gpu/autotuning/conv_algorithm_picker.cc:557] Omitted potentially buggy algorithm eng14{k25=0} for conv (f32[15,64,13,13]{3,2,1,0}, u8[0]{0}) custom-call(f32[15,64,15,15]{3,2,1,0}, f32[64,64,3,3]{3,2,1,0}, f32[64]{0}), window={size=3x3}, dim_labels=bf01_oi01->bf01, custom_call_target=\"__cudnn$convBiasActivationForward\", backend_config={\"cudnn_conv_backend_config\":{\"activation_mode\":\"kRelu\",\"conv_result_scale\":1,\"leakyrelu_alpha\":0,\"side_input_scale\":0},\"force_earliest_schedule\":false,\"operation_queue_id\":\"0\",\"wait_on_operation_queues\":[]}\n",
                        "2024-11-29 21:50:59.060719: I external/local_xla/xla/service/gpu/autotuning/conv_algorithm_picker.cc:557] Omitted potentially buggy algorithm eng14{k25=0} for conv (f32[15,128,6,6]{3,2,1,0}, u8[0]{0}) custom-call(f32[15,64,6,6]{3,2,1,0}, f32[128,64,3,3]{3,2,1,0}, f32[128]{0}), window={size=3x3 pad=1_1x1_1}, dim_labels=bf01_oi01->bf01, custom_call_target=\"__cudnn$convBiasActivationForward\", backend_config={\"cudnn_conv_backend_config\":{\"activation_mode\":\"kRelu\",\"conv_result_scale\":1,\"leakyrelu_alpha\":0,\"side_input_scale\":0},\"force_earliest_schedule\":false,\"operation_queue_id\":\"0\",\"wait_on_operation_queues\":[]}\n",
                        "2024-11-29 21:50:59.152150: I external/local_xla/xla/service/gpu/autotuning/conv_algorithm_picker.cc:557] Omitted potentially buggy algorithm eng14{k25=0} for conv (f32[15,128,4,4]{3,2,1,0}, u8[0]{0}) custom-call(f32[15,128,6,6]{3,2,1,0}, f32[128,128,3,3]{3,2,1,0}, f32[128]{0}), window={size=3x3}, dim_labels=bf01_oi01->bf01, custom_call_target=\"__cudnn$convBiasActivationForward\", backend_config={\"cudnn_conv_backend_config\":{\"activation_mode\":\"kRelu\",\"conv_result_scale\":1,\"leakyrelu_alpha\":0,\"side_input_scale\":0},\"force_earliest_schedule\":false,\"operation_queue_id\":\"0\",\"wait_on_operation_queues\":[]}\n"
                    ]
                },
                {
                    "name": "stdout",
                    "output_type": "stream",
                    "text": [
                        "\n",
                        "Epoch 1: val_loss improved from inf to 1.01832, saving model to models/CustomCNN_model.keras\n",
                        "\u001b[1m3314/3314\u001b[0m \u001b[32m━━━━━━━━━━━━━━━━━━━━\u001b[0m\u001b[37m\u001b[0m \u001b[1m465s\u001b[0m 134ms/step - accuracy: 0.3699 - loss: 2.8319 - val_accuracy: 0.7707 - val_loss: 1.0183 - learning_rate: 0.0010\n",
                        "Epoch 2/50\n",
                        "\u001b[1m3314/3314\u001b[0m \u001b[32m━━━━━━━━━━━━━━━━━━━━\u001b[0m\u001b[37m\u001b[0m \u001b[1m0s\u001b[0m 48ms/step - accuracy: 0.7657 - loss: 1.0237\n",
                        "Epoch 2: val_loss improved from 1.01832 to 0.61461, saving model to models/CustomCNN_model.keras\n",
                        "\u001b[1m3314/3314\u001b[0m \u001b[32m━━━━━━━━━━━━━━━━━━━━\u001b[0m\u001b[37m\u001b[0m \u001b[1m171s\u001b[0m 52ms/step - accuracy: 0.7657 - loss: 1.0237 - val_accuracy: 0.8642 - val_loss: 0.6146 - learning_rate: 0.0010\n",
                        "Epoch 3/50\n",
                        "\u001b[1m3314/3314\u001b[0m \u001b[32m━━━━━━━━━━━━━━━━━━━━\u001b[0m\u001b[37m\u001b[0m \u001b[1m0s\u001b[0m 54ms/step - accuracy: 0.8029 - loss: 0.8566\n",
                        "Epoch 3: val_loss did not improve from 0.61461\n",
                        "\u001b[1m3314/3314\u001b[0m \u001b[32m━━━━━━━━━━━━━━━━━━━━\u001b[0m\u001b[37m\u001b[0m \u001b[1m193s\u001b[0m 58ms/step - accuracy: 0.8029 - loss: 0.8566 - val_accuracy: 0.7125 - val_loss: 1.2266 - learning_rate: 0.0010\n",
                        "Epoch 4/50\n",
                        "\u001b[1m3314/3314\u001b[0m \u001b[32m━━━━━━━━━━━━━━━━━━━━\u001b[0m\u001b[37m\u001b[0m \u001b[1m0s\u001b[0m 76ms/step - accuracy: 0.8164 - loss: 0.7906\n",
                        "Epoch 4: val_loss did not improve from 0.61461\n",
                        "\u001b[1m3314/3314\u001b[0m \u001b[32m━━━━━━━━━━━━━━━━━━━━\u001b[0m\u001b[37m\u001b[0m \u001b[1m265s\u001b[0m 80ms/step - accuracy: 0.8164 - loss: 0.7906 - val_accuracy: 0.6650 - val_loss: 1.3595 - learning_rate: 0.0010\n",
                        "Epoch 5/50\n",
                        "\u001b[1m3314/3314\u001b[0m \u001b[32m━━━━━━━━━━━━━━━━━━━━\u001b[0m\u001b[37m\u001b[0m \u001b[1m0s\u001b[0m 69ms/step - accuracy: 0.8256 - loss: 0.7503\n",
                        "Epoch 5: val_loss improved from 0.61461 to 0.58367, saving model to models/CustomCNN_model.keras\n",
                        "\u001b[1m3314/3314\u001b[0m \u001b[32m━━━━━━━━━━━━━━━━━━━━\u001b[0m\u001b[37m\u001b[0m \u001b[1m252s\u001b[0m 76ms/step - accuracy: 0.8256 - loss: 0.7503 - val_accuracy: 0.8667 - val_loss: 0.5837 - learning_rate: 0.0010\n",
                        "Epoch 6/50\n",
                        "\u001b[1m3314/3314\u001b[0m \u001b[32m━━━━━━━━━━━━━━━━━━━━\u001b[0m\u001b[37m\u001b[0m \u001b[1m0s\u001b[0m 38ms/step - accuracy: 0.8329 - loss: 0.7156\n",
                        "Epoch 6: val_loss improved from 0.58367 to 0.48707, saving model to models/CustomCNN_model.keras\n",
                        "\u001b[1m3314/3314\u001b[0m \u001b[32m━━━━━━━━━━━━━━━━━━━━\u001b[0m\u001b[37m\u001b[0m \u001b[1m136s\u001b[0m 41ms/step - accuracy: 0.8329 - loss: 0.7156 - val_accuracy: 0.8951 - val_loss: 0.4871 - learning_rate: 0.0010\n",
                        "Epoch 7/50\n",
                        "\u001b[1m3313/3314\u001b[0m \u001b[32m━━━━━━━━━━━━━━━━━━━\u001b[0m\u001b[37m━\u001b[0m \u001b[1m0s\u001b[0m 27ms/step - accuracy: 0.8369 - loss: 0.6999\n",
                        "Epoch 7: val_loss did not improve from 0.48707\n",
                        "\u001b[1m3314/3314\u001b[0m \u001b[32m━━━━━━━━━━━━━━━━━━━━\u001b[0m\u001b[37m\u001b[0m \u001b[1m100s\u001b[0m 30ms/step - accuracy: 0.8369 - loss: 0.6999 - val_accuracy: 0.6860 - val_loss: 1.2732 - learning_rate: 0.0010\n",
                        "Epoch 8/50\n",
                        "\u001b[1m3313/3314\u001b[0m \u001b[32m━━━━━━━━━━━━━━━━━━━\u001b[0m\u001b[37m━\u001b[0m \u001b[1m0s\u001b[0m 28ms/step - accuracy: 0.8426 - loss: 0.6769\n",
                        "Epoch 8: val_loss did not improve from 0.48707\n",
                        "\u001b[1m3314/3314\u001b[0m \u001b[32m━━━━━━━━━━━━━━━━━━━━\u001b[0m\u001b[37m\u001b[0m \u001b[1m102s\u001b[0m 31ms/step - accuracy: 0.8426 - loss: 0.6769 - val_accuracy: 0.7869 - val_loss: 0.9097 - learning_rate: 0.0010\n",
                        "Epoch 9/50\n",
                        "\u001b[1m3313/3314\u001b[0m \u001b[32m━━━━━━━━━━━━━━━━━━━\u001b[0m\u001b[37m━\u001b[0m \u001b[1m0s\u001b[0m 28ms/step - accuracy: 0.8452 - loss: 0.6663\n",
                        "Epoch 9: val_loss did not improve from 0.48707\n",
                        "\n",
                        "Epoch 9: ReduceLROnPlateau reducing learning rate to 0.0005000000237487257.\n",
                        "\u001b[1m3314/3314\u001b[0m \u001b[32m━━━━━━━━━━━━━━━━━━━━\u001b[0m\u001b[37m\u001b[0m \u001b[1m103s\u001b[0m 31ms/step - accuracy: 0.8452 - loss: 0.6663 - val_accuracy: 0.7174 - val_loss: 1.1462 - learning_rate: 0.0010\n",
                        "Epoch 10/50\n",
                        "\u001b[1m3313/3314\u001b[0m \u001b[32m━━━━━━━━━━━━━━━━━━━\u001b[0m\u001b[37m━\u001b[0m \u001b[1m0s\u001b[0m 27ms/step - accuracy: 0.8591 - loss: 0.5979\n",
                        "Epoch 10: val_loss improved from 0.48707 to 0.40340, saving model to models/CustomCNN_model.keras\n",
                        "\u001b[1m3314/3314\u001b[0m \u001b[32m━━━━━━━━━━━━━━━━━━━━\u001b[0m\u001b[37m\u001b[0m \u001b[1m98s\u001b[0m 29ms/step - accuracy: 0.8591 - loss: 0.5979 - val_accuracy: 0.9033 - val_loss: 0.4034 - learning_rate: 5.0000e-04\n",
                        "Epoch 11/50\n",
                        "\u001b[1m3314/3314\u001b[0m \u001b[32m━━━━━━━━━━━━━━━━━━━━\u001b[0m\u001b[37m\u001b[0m \u001b[1m0s\u001b[0m 29ms/step - accuracy: 0.8656 - loss: 0.5392\n",
                        "Epoch 11: val_loss improved from 0.40340 to 0.38520, saving model to models/CustomCNN_model.keras\n",
                        "\u001b[1m3314/3314\u001b[0m \u001b[32m━━━━━━━━━━━━━━━━━━━━\u001b[0m\u001b[37m\u001b[0m \u001b[1m105s\u001b[0m 32ms/step - accuracy: 0.8656 - loss: 0.5392 - val_accuracy: 0.9060 - val_loss: 0.3852 - learning_rate: 5.0000e-04\n",
                        "Epoch 12/50\n",
                        "\u001b[1m3313/3314\u001b[0m \u001b[32m━━━━━━━━━━━━━━━━━━━\u001b[0m\u001b[37m━\u001b[0m \u001b[1m0s\u001b[0m 30ms/step - accuracy: 0.8667 - loss: 0.5292\n",
                        "Epoch 12: val_loss did not improve from 0.38520\n",
                        "\u001b[1m3314/3314\u001b[0m \u001b[32m━━━━━━━━━━━━━━━━━━━━\u001b[0m\u001b[37m\u001b[0m \u001b[1m107s\u001b[0m 32ms/step - accuracy: 0.8667 - loss: 0.5292 - val_accuracy: 0.9057 - val_loss: 0.3880 - learning_rate: 5.0000e-04\n",
                        "Epoch 13/50\n",
                        "\u001b[1m3313/3314\u001b[0m \u001b[32m━━━━━━━━━━━━━━━━━━━\u001b[0m\u001b[37m━\u001b[0m \u001b[1m0s\u001b[0m 30ms/step - accuracy: 0.8649 - loss: 0.5302\n",
                        "Epoch 13: val_loss improved from 0.38520 to 0.37561, saving model to models/CustomCNN_model.keras\n",
                        "\u001b[1m3314/3314\u001b[0m \u001b[32m━━━━━━━━━━━━━━━━━━━━\u001b[0m\u001b[37m\u001b[0m \u001b[1m108s\u001b[0m 33ms/step - accuracy: 0.8649 - loss: 0.5302 - val_accuracy: 0.9091 - val_loss: 0.3756 - learning_rate: 5.0000e-04\n",
                        "Epoch 14/50\n",
                        "\u001b[1m3314/3314\u001b[0m \u001b[32m━━━━━━━━━━━━━━━━━━━━\u001b[0m\u001b[37m\u001b[0m \u001b[1m0s\u001b[0m 31ms/step - accuracy: 0.8697 - loss: 0.5212\n",
                        "Epoch 14: val_loss did not improve from 0.37561\n",
                        "\u001b[1m3314/3314\u001b[0m \u001b[32m━━━━━━━━━━━━━━━━━━━━\u001b[0m\u001b[37m\u001b[0m \u001b[1m112s\u001b[0m 34ms/step - accuracy: 0.8697 - loss: 0.5212 - val_accuracy: 0.9059 - val_loss: 0.3792 - learning_rate: 5.0000e-04\n",
                        "Epoch 15/50\n",
                        "\u001b[1m3314/3314\u001b[0m \u001b[32m━━━━━━━━━━━━━━━━━━━━\u001b[0m\u001b[37m\u001b[0m \u001b[1m0s\u001b[0m 26ms/step - accuracy: 0.8692 - loss: 0.5152\n",
                        "Epoch 15: val_loss improved from 0.37561 to 0.37551, saving model to models/CustomCNN_model.keras\n",
                        "\u001b[1m3314/3314\u001b[0m \u001b[32m━━━━━━━━━━━━━━━━━━━━\u001b[0m\u001b[37m\u001b[0m \u001b[1m96s\u001b[0m 29ms/step - accuracy: 0.8692 - loss: 0.5152 - val_accuracy: 0.9080 - val_loss: 0.3755 - learning_rate: 5.0000e-04\n",
                        "Epoch 16/50\n",
                        "\u001b[1m3314/3314\u001b[0m \u001b[32m━━━━━━━━━━━━━━━━━━━━\u001b[0m\u001b[37m\u001b[0m \u001b[1m0s\u001b[0m 27ms/step - accuracy: 0.8687 - loss: 0.5149\n",
                        "Epoch 16: val_loss did not improve from 0.37551\n",
                        "\n",
                        "Epoch 16: ReduceLROnPlateau reducing learning rate to 0.0001250000059371814.\n",
                        "\u001b[1m3314/3314\u001b[0m \u001b[32m━━━━━━━━━━━━━━━━━━━━\u001b[0m\u001b[37m\u001b[0m \u001b[1m97s\u001b[0m 29ms/step - accuracy: 0.8687 - loss: 0.5149 - val_accuracy: 0.8982 - val_loss: 0.4075 - learning_rate: 2.5000e-04\n",
                        "Epoch 17/50\n",
                        "\u001b[1m3314/3314\u001b[0m \u001b[32m━━━━━━━━━━━━━━━━━━━━\u001b[0m\u001b[37m\u001b[0m \u001b[1m0s\u001b[0m 27ms/step - accuracy: 0.8745 - loss: 0.4853\n",
                        "Epoch 17: val_loss improved from 0.37551 to 0.34500, saving model to models/CustomCNN_model.keras\n",
                        "\u001b[1m3314/3314\u001b[0m \u001b[32m━━━━━━━━━━━━━━━━━━━━\u001b[0m\u001b[37m\u001b[0m \u001b[1m99s\u001b[0m 30ms/step - accuracy: 0.8745 - loss: 0.4853 - val_accuracy: 0.9113 - val_loss: 0.3450 - learning_rate: 1.2500e-04\n",
                        "Epoch 18/50\n",
                        "\u001b[1m3314/3314\u001b[0m \u001b[32m━━━━━━━━━━━━━━━━━━━━\u001b[0m\u001b[37m\u001b[0m \u001b[1m0s\u001b[0m 27ms/step - accuracy: 0.8821 - loss: 0.4491\n",
                        "Epoch 18: val_loss improved from 0.34500 to 0.33469, saving model to models/CustomCNN_model.keras\n",
                        "\u001b[1m3314/3314\u001b[0m \u001b[32m━━━━━━━━━━━━━━━━━━━━\u001b[0m\u001b[37m\u001b[0m \u001b[1m99s\u001b[0m 30ms/step - accuracy: 0.8821 - loss: 0.4491 - val_accuracy: 0.9118 - val_loss: 0.3347 - learning_rate: 1.2500e-04\n",
                        "Epoch 19/50\n",
                        "\u001b[1m3314/3314\u001b[0m \u001b[32m━━━━━━━━━━━━━━━━━━━━\u001b[0m\u001b[37m\u001b[0m \u001b[1m0s\u001b[0m 26ms/step - accuracy: 0.8824 - loss: 0.4386\n",
                        "Epoch 19: val_loss improved from 0.33469 to 0.32530, saving model to models/CustomCNN_model.keras\n",
                        "\u001b[1m3314/3314\u001b[0m \u001b[32m━━━━━━━━━━━━━━━━━━━━\u001b[0m\u001b[37m\u001b[0m \u001b[1m95s\u001b[0m 29ms/step - accuracy: 0.8824 - loss: 0.4386 - val_accuracy: 0.9121 - val_loss: 0.3253 - learning_rate: 1.2500e-04\n",
                        "Epoch 20/50\n",
                        "\u001b[1m3313/3314\u001b[0m \u001b[32m━━━━━━━━━━━━━━━━━━━\u001b[0m\u001b[37m━\u001b[0m \u001b[1m0s\u001b[0m 27ms/step - accuracy: 0.8822 - loss: 0.4324\n",
                        "Epoch 20: val_loss improved from 0.32530 to 0.31610, saving model to models/CustomCNN_model.keras\n",
                        "\u001b[1m3314/3314\u001b[0m \u001b[32m━━━━━━━━━━━━━━━━━━━━\u001b[0m\u001b[37m\u001b[0m \u001b[1m99s\u001b[0m 30ms/step - accuracy: 0.8822 - loss: 0.4324 - val_accuracy: 0.9132 - val_loss: 0.3161 - learning_rate: 1.2500e-04\n",
                        "Epoch 21/50\n",
                        "\u001b[1m3313/3314\u001b[0m \u001b[32m━━━━━━━━━━━━━━━━━━━\u001b[0m\u001b[37m━\u001b[0m \u001b[1m0s\u001b[0m 27ms/step - accuracy: 0.8840 - loss: 0.4218\n",
                        "Epoch 21: val_loss did not improve from 0.31610\n",
                        "\u001b[1m3314/3314\u001b[0m \u001b[32m━━━━━━━━━━━━━━━━━━━━\u001b[0m\u001b[37m\u001b[0m \u001b[1m100s\u001b[0m 30ms/step - accuracy: 0.8840 - loss: 0.4218 - val_accuracy: 0.9117 - val_loss: 0.3194 - learning_rate: 1.2500e-04\n",
                        "Epoch 22/50\n",
                        "\u001b[1m3313/3314\u001b[0m \u001b[32m━━━━━━━━━━━━━━━━━━━\u001b[0m\u001b[37m━\u001b[0m \u001b[1m0s\u001b[0m 27ms/step - accuracy: 0.8838 - loss: 0.4180\n",
                        "Epoch 22: val_loss improved from 0.31610 to 0.31370, saving model to models/CustomCNN_model.keras\n",
                        "\u001b[1m3314/3314\u001b[0m \u001b[32m━━━━━━━━━━━━━━━━━━━━\u001b[0m\u001b[37m\u001b[0m \u001b[1m99s\u001b[0m 30ms/step - accuracy: 0.8838 - loss: 0.4180 - val_accuracy: 0.9121 - val_loss: 0.3137 - learning_rate: 1.2500e-04\n",
                        "Epoch 23/50\n",
                        "\u001b[1m3313/3314\u001b[0m \u001b[32m━━━━━━━━━━━━━━━━━━━\u001b[0m\u001b[37m━\u001b[0m \u001b[1m0s\u001b[0m 27ms/step - accuracy: 0.8841 - loss: 0.4134\n",
                        "Epoch 23: val_loss improved from 0.31370 to 0.30770, saving model to models/CustomCNN_model.keras\n",
                        "\u001b[1m3314/3314\u001b[0m \u001b[32m━━━━━━━━━━━━━━━━━━━━\u001b[0m\u001b[37m\u001b[0m \u001b[1m98s\u001b[0m 30ms/step - accuracy: 0.8841 - loss: 0.4134 - val_accuracy: 0.9135 - val_loss: 0.3077 - learning_rate: 1.2500e-04\n",
                        "Epoch 24/50\n",
                        "\u001b[1m3313/3314\u001b[0m \u001b[32m━━━━━━━━━━━━━━━━━━━\u001b[0m\u001b[37m━\u001b[0m \u001b[1m0s\u001b[0m 27ms/step - accuracy: 0.8848 - loss: 0.4086\n",
                        "Epoch 24: val_loss improved from 0.30770 to 0.30741, saving model to models/CustomCNN_model.keras\n",
                        "\u001b[1m3314/3314\u001b[0m \u001b[32m━━━━━━━━━━━━━━━━━━━━\u001b[0m\u001b[37m\u001b[0m \u001b[1m100s\u001b[0m 30ms/step - accuracy: 0.8848 - loss: 0.4086 - val_accuracy: 0.9130 - val_loss: 0.3074 - learning_rate: 1.2500e-04\n",
                        "Epoch 25/50\n",
                        "\u001b[1m3313/3314\u001b[0m \u001b[32m━━━━━━━━━━━━━━━━━━━\u001b[0m\u001b[37m━\u001b[0m \u001b[1m0s\u001b[0m 28ms/step - accuracy: 0.8852 - loss: 0.4017\n",
                        "Epoch 25: val_loss improved from 0.30741 to 0.30634, saving model to models/CustomCNN_model.keras\n",
                        "\u001b[1m3314/3314\u001b[0m \u001b[32m━━━━━━━━━━━━━━━━━━━━\u001b[0m\u001b[37m\u001b[0m \u001b[1m99s\u001b[0m 30ms/step - accuracy: 0.8852 - loss: 0.4017 - val_accuracy: 0.9142 - val_loss: 0.3063 - learning_rate: 6.2500e-05\n",
                        "Epoch 26/50\n",
                        "\u001b[1m3312/3314\u001b[0m \u001b[32m━━━━━━━━━━━━━━━━━━━\u001b[0m\u001b[37m━\u001b[0m \u001b[1m0s\u001b[0m 27ms/step - accuracy: 0.8891 - loss: 0.3943\n",
                        "Epoch 26: val_loss improved from 0.30634 to 0.30360, saving model to models/CustomCNN_model.keras\n",
                        "\u001b[1m3314/3314\u001b[0m \u001b[32m━━━━━━━━━━━━━━━━━━━━\u001b[0m\u001b[37m\u001b[0m \u001b[1m97s\u001b[0m 29ms/step - accuracy: 0.8891 - loss: 0.3944 - val_accuracy: 0.9136 - val_loss: 0.3036 - learning_rate: 6.2500e-05\n",
                        "Epoch 27/50\n",
                        "\u001b[1m3314/3314\u001b[0m \u001b[32m━━━━━━━━━━━━━━━━━━━━\u001b[0m\u001b[37m\u001b[0m \u001b[1m0s\u001b[0m 26ms/step - accuracy: 0.8877 - loss: 0.3917\n",
                        "Epoch 27: val_loss improved from 0.30360 to 0.30108, saving model to models/CustomCNN_model.keras\n",
                        "\u001b[1m3314/3314\u001b[0m \u001b[32m━━━━━━━━━━━━━━━━━━━━\u001b[0m\u001b[37m\u001b[0m \u001b[1m96s\u001b[0m 29ms/step - accuracy: 0.8877 - loss: 0.3917 - val_accuracy: 0.9135 - val_loss: 0.3011 - learning_rate: 6.2500e-05\n",
                        "Epoch 28/50\n",
                        "\u001b[1m3313/3314\u001b[0m \u001b[32m━━━━━━━━━━━━━━━━━━━\u001b[0m\u001b[37m━\u001b[0m \u001b[1m0s\u001b[0m 27ms/step - accuracy: 0.8857 - loss: 0.3967\n",
                        "Epoch 28: val_loss improved from 0.30108 to 0.30012, saving model to models/CustomCNN_model.keras\n",
                        "\n",
                        "Epoch 28: ReduceLROnPlateau reducing learning rate to 3.125000148429535e-05.\n",
                        "\u001b[1m3314/3314\u001b[0m \u001b[32m━━━━━━━━━━━━━━━━━━━━\u001b[0m\u001b[37m\u001b[0m \u001b[1m98s\u001b[0m 29ms/step - accuracy: 0.8857 - loss: 0.3967 - val_accuracy: 0.9132 - val_loss: 0.3001 - learning_rate: 6.2500e-05\n",
                        "Epoch 29/50\n",
                        "\u001b[1m3313/3314\u001b[0m \u001b[32m━━━━━━━━━━━━━━━━━━━\u001b[0m\u001b[37m━\u001b[0m \u001b[1m0s\u001b[0m 27ms/step - accuracy: 0.8866 - loss: 0.3945\n",
                        "Epoch 29: val_loss improved from 0.30012 to 0.29525, saving model to models/CustomCNN_model.keras\n",
                        "\u001b[1m3314/3314\u001b[0m \u001b[32m━━━━━━━━━━━━━━━━━━━━\u001b[0m\u001b[37m\u001b[0m \u001b[1m97s\u001b[0m 29ms/step - accuracy: 0.8866 - loss: 0.3945 - val_accuracy: 0.9149 - val_loss: 0.2952 - learning_rate: 3.1250e-05\n",
                        "Epoch 30/50\n",
                        "\u001b[1m3314/3314\u001b[0m \u001b[32m━━━━━━━━━━━━━━━━━━━━\u001b[0m\u001b[37m\u001b[0m \u001b[1m0s\u001b[0m 26ms/step - accuracy: 0.8901 - loss: 0.3772\n",
                        "Epoch 30: val_loss improved from 0.29525 to 0.29417, saving model to models/CustomCNN_model.keras\n",
                        "\u001b[1m3314/3314\u001b[0m \u001b[32m━━━━━━━━━━━━━━━━━━━━\u001b[0m\u001b[37m\u001b[0m \u001b[1m96s\u001b[0m 29ms/step - accuracy: 0.8901 - loss: 0.3772 - val_accuracy: 0.9153 - val_loss: 0.2942 - learning_rate: 3.1250e-05\n",
                        "Epoch 31/50\n",
                        "\u001b[1m3314/3314\u001b[0m \u001b[32m━━━━━━━━━━━━━━━━━━━━\u001b[0m\u001b[37m\u001b[0m \u001b[1m0s\u001b[0m 27ms/step - accuracy: 0.8868 - loss: 0.3836\n",
                        "Epoch 31: val_loss did not improve from 0.29417\n",
                        "\u001b[1m3314/3314\u001b[0m \u001b[32m━━━━━━━━━━━━━━━━━━━━\u001b[0m\u001b[37m\u001b[0m \u001b[1m98s\u001b[0m 30ms/step - accuracy: 0.8868 - loss: 0.3836 - val_accuracy: 0.9140 - val_loss: 0.2948 - learning_rate: 1.5625e-05\n",
                        "Epoch 32/50\n",
                        "\u001b[1m3314/3314\u001b[0m \u001b[32m━━━━━━━━━━━━━━━━━━━━\u001b[0m\u001b[37m\u001b[0m \u001b[1m0s\u001b[0m 27ms/step - accuracy: 0.8898 - loss: 0.3823\n",
                        "Epoch 32: val_loss improved from 0.29417 to 0.29388, saving model to models/CustomCNN_model.keras\n",
                        "\u001b[1m3314/3314\u001b[0m \u001b[32m━━━━━━━━━━━━━━━━━━━━\u001b[0m\u001b[37m\u001b[0m \u001b[1m97s\u001b[0m 29ms/step - accuracy: 0.8898 - loss: 0.3823 - val_accuracy: 0.9146 - val_loss: 0.2939 - learning_rate: 1.5625e-05\n",
                        "Epoch 33/50\n",
                        "\u001b[1m3314/3314\u001b[0m \u001b[32m━━━━━━━━━━━━━━━━━━━━\u001b[0m\u001b[37m\u001b[0m \u001b[1m0s\u001b[0m 27ms/step - accuracy: 0.8903 - loss: 0.3796\n",
                        "Epoch 33: val_loss improved from 0.29388 to 0.29356, saving model to models/CustomCNN_model.keras\n",
                        "\n",
                        "Epoch 33: ReduceLROnPlateau reducing learning rate to 7.812500371073838e-06.\n",
                        "\u001b[1m3314/3314\u001b[0m \u001b[32m━━━━━━━━━━━━━━━━━━━━\u001b[0m\u001b[37m\u001b[0m \u001b[1m97s\u001b[0m 29ms/step - accuracy: 0.8903 - loss: 0.3796 - val_accuracy: 0.9140 - val_loss: 0.2936 - learning_rate: 1.5625e-05\n",
                        "Epoch 34/50\n",
                        "\u001b[1m3314/3314\u001b[0m \u001b[32m━━━━━━━━━━━━━━━━━━━━\u001b[0m\u001b[37m\u001b[0m \u001b[1m0s\u001b[0m 26ms/step - accuracy: 0.8895 - loss: 0.3806\n",
                        "Epoch 34: val_loss improved from 0.29356 to 0.29351, saving model to models/CustomCNN_model.keras\n",
                        "\u001b[1m3314/3314\u001b[0m \u001b[32m━━━━━━━━━━━━━━━━━━━━\u001b[0m\u001b[37m\u001b[0m \u001b[1m96s\u001b[0m 29ms/step - accuracy: 0.8895 - loss: 0.3806 - val_accuracy: 0.9137 - val_loss: 0.2935 - learning_rate: 7.8125e-06\n",
                        "Epoch 35/50\n",
                        "\u001b[1m3314/3314\u001b[0m \u001b[32m━━━━━━━━━━━━━━━━━━━━\u001b[0m\u001b[37m\u001b[0m \u001b[1m0s\u001b[0m 27ms/step - accuracy: 0.8874 - loss: 0.3819\n",
                        "Epoch 35: val_loss improved from 0.29351 to 0.29186, saving model to models/CustomCNN_model.keras\n",
                        "\u001b[1m3314/3314\u001b[0m \u001b[32m━━━━━━━━━━━━━━━━━━━━\u001b[0m\u001b[37m\u001b[0m \u001b[1m97s\u001b[0m 29ms/step - accuracy: 0.8874 - loss: 0.3819 - val_accuracy: 0.9151 - val_loss: 0.2919 - learning_rate: 7.8125e-06\n",
                        "Epoch 36/50\n",
                        "\u001b[1m3312/3314\u001b[0m \u001b[32m━━━━━━━━━━━━━━━━━━━\u001b[0m\u001b[37m━\u001b[0m \u001b[1m0s\u001b[0m 27ms/step - accuracy: 0.8917 - loss: 0.3706\n",
                        "Epoch 36: val_loss did not improve from 0.29186\n",
                        "\n",
                        "Epoch 36: ReduceLROnPlateau reducing learning rate to 3.906250185536919e-06.\n",
                        "\u001b[1m3314/3314\u001b[0m \u001b[32m━━━━━━━━━━━━━━━━━━━━\u001b[0m\u001b[37m\u001b[0m \u001b[1m98s\u001b[0m 30ms/step - accuracy: 0.8917 - loss: 0.3706 - val_accuracy: 0.9151 - val_loss: 0.2919 - learning_rate: 7.8125e-06\n",
                        "Epoch 37/50\n",
                        "\u001b[1m3314/3314\u001b[0m \u001b[32m━━━━━━━━━━━━━━━━━━━━\u001b[0m\u001b[37m\u001b[0m \u001b[1m0s\u001b[0m 26ms/step - accuracy: 0.8917 - loss: 0.3761\n",
                        "Epoch 37: val_loss improved from 0.29186 to 0.29142, saving model to models/CustomCNN_model.keras\n",
                        "\u001b[1m3314/3314\u001b[0m \u001b[32m━━━━━━━━━━━━━━━━━━━━\u001b[0m\u001b[37m\u001b[0m \u001b[1m94s\u001b[0m 28ms/step - accuracy: 0.8917 - loss: 0.3761 - val_accuracy: 0.9153 - val_loss: 0.2914 - learning_rate: 3.9063e-06\n",
                        "Epoch 38/50\n",
                        "\u001b[1m3313/3314\u001b[0m \u001b[32m━━━━━━━━━━━━━━━━━━━\u001b[0m\u001b[37m━\u001b[0m \u001b[1m0s\u001b[0m 27ms/step - accuracy: 0.8904 - loss: 0.3783\n",
                        "Epoch 38: val_loss did not improve from 0.29142\n",
                        "\u001b[1m3314/3314\u001b[0m \u001b[32m━━━━━━━━━━━━━━━━━━━━\u001b[0m\u001b[37m\u001b[0m \u001b[1m97s\u001b[0m 29ms/step - accuracy: 0.8904 - loss: 0.3783 - val_accuracy: 0.9153 - val_loss: 0.2914 - learning_rate: 1.9531e-06\n",
                        "Epoch 39/50\n",
                        "\u001b[1m3314/3314\u001b[0m \u001b[32m━━━━━━━━━━━━━━━━━━━━\u001b[0m\u001b[37m\u001b[0m \u001b[1m0s\u001b[0m 27ms/step - accuracy: 0.8913 - loss: 0.3756\n",
                        "Epoch 39: val_loss did not improve from 0.29142\n",
                        "\n",
                        "Epoch 39: ReduceLROnPlateau reducing learning rate to 1e-06.\n",
                        "\u001b[1m3314/3314\u001b[0m \u001b[32m━━━━━━━━━━━━━━━━━━━━\u001b[0m\u001b[37m\u001b[0m \u001b[1m141s\u001b[0m 29ms/step - accuracy: 0.8913 - loss: 0.3756 - val_accuracy: 0.9152 - val_loss: 0.2915 - learning_rate: 1.9531e-06\n",
                        "Epoch 40/50\n",
                        "\u001b[1m3314/3314\u001b[0m \u001b[32m━━━━━━━━━━━━━━━━━━━━\u001b[0m\u001b[37m\u001b[0m \u001b[1m0s\u001b[0m 27ms/step - accuracy: 0.8938 - loss: 0.3680\n",
                        "Epoch 40: val_loss improved from 0.29142 to 0.29140, saving model to models/CustomCNN_model.keras\n",
                        "\u001b[1m3314/3314\u001b[0m \u001b[32m━━━━━━━━━━━━━━━━━━━━\u001b[0m\u001b[37m\u001b[0m \u001b[1m97s\u001b[0m 29ms/step - accuracy: 0.8938 - loss: 0.3680 - val_accuracy: 0.9149 - val_loss: 0.2914 - learning_rate: 1.0000e-06\n",
                        "Epoch 41/50\n",
                        "\u001b[1m3313/3314\u001b[0m \u001b[32m━━━━━━━━━━━━━━━━━━━\u001b[0m\u001b[37m━\u001b[0m \u001b[1m0s\u001b[0m 27ms/step - accuracy: 0.8891 - loss: 0.3795\n",
                        "Epoch 41: val_loss did not improve from 0.29140\n",
                        "\u001b[1m3314/3314\u001b[0m \u001b[32m━━━━━━━━━━━━━━━━━━━━\u001b[0m\u001b[37m\u001b[0m \u001b[1m96s\u001b[0m 29ms/step - accuracy: 0.8891 - loss: 0.3795 - val_accuracy: 0.9148 - val_loss: 0.2917 - learning_rate: 1.0000e-06\n",
                        "Epoch 42/50\n",
                        "\u001b[1m3313/3314\u001b[0m \u001b[32m━━━━━━━━━━━━━━━━━━━\u001b[0m\u001b[37m━\u001b[0m \u001b[1m0s\u001b[0m 27ms/step - accuracy: 0.8926 - loss: 0.3746\n",
                        "Epoch 42: val_loss did not improve from 0.29140\n",
                        "\u001b[1m3314/3314\u001b[0m \u001b[32m━━━━━━━━━━━━━━━━━━━━\u001b[0m\u001b[37m\u001b[0m \u001b[1m96s\u001b[0m 29ms/step - accuracy: 0.8926 - loss: 0.3746 - val_accuracy: 0.9148 - val_loss: 0.2916 - learning_rate: 1.0000e-06\n",
                        "Epoch 43/50\n",
                        "\u001b[1m3313/3314\u001b[0m \u001b[32m━━━━━━━━━━━━━━━━━━━\u001b[0m\u001b[37m━\u001b[0m \u001b[1m0s\u001b[0m 27ms/step - accuracy: 0.8914 - loss: 0.3701\n",
                        "Epoch 43: val_loss improved from 0.29140 to 0.29104, saving model to models/CustomCNN_model.keras\n",
                        "\u001b[1m3314/3314\u001b[0m \u001b[32m━━━━━━━━━━━━━━━━━━━━\u001b[0m\u001b[37m\u001b[0m \u001b[1m97s\u001b[0m 29ms/step - accuracy: 0.8914 - loss: 0.3701 - val_accuracy: 0.9153 - val_loss: 0.2910 - learning_rate: 5.0000e-07\n",
                        "Epoch 43: early stopping\n"
                    ]
                }
            ],
            "source": [
                "# different num. of epochs will be given for better convergence for the Custom CNN\n",
                "history = CNN_model.fit(\n",
                "    train_gen,\n",
                "    epochs=EPOCHS,\n",
                "    validation_data=valid_gen,\n",
                "    callbacks=clbck(MODEL_SEL),\n",
                ")"
            ]
        },
        {
            "cell_type": "code",
            "execution_count": 18,
            "metadata": {},
            "outputs": [
                {
                    "data": {
                        "image/png": "[encoded data removed]",
                        "text/plain": [
                            "<Figure size 640x480 with 1 Axes>"
                        ]
                    },
                    "metadata": {},
                    "output_type": "display_data"
                }
            ],
            "source": [
                "plt.plot(history.history['loss'], label='Training loss')\n",
                "plt.plot(history.history['val_loss'], label='Validation loss')\n",
                "plt.legend()\n",
                "plt.xlabel('Epochs')\n",
                "plt.ylabel('Loss value')\n",
                "plt.title(\"Custom CNN Training VS. Validation performance\")\n",
                "plt.show()"
            ]
        },
        {
            "cell_type": "code",
            "execution_count": 19,
            "metadata": {},
            "outputs": [
                {
                    "name": "stdout",
                    "output_type": "stream",
                    "text": [
                        "\u001b[1m1893/1894\u001b[0m \u001b[32m━━━━━━━━━━━━━━━━━━━\u001b[0m\u001b[37m━\u001b[0m \u001b[1m0s\u001b[0m 25ms/step"
                    ]
                },
                {
                    "name": "stderr",
                    "output_type": "stream",
                    "text": [
                        "2024-11-29 23:25:51.616583: I external/local_xla/xla/service/gpu/autotuning/conv_algorithm_picker.cc:557] Omitted potentially buggy algorithm eng14{k25=0} for conv (f32[11,32,32,32]{3,2,1,0}, u8[0]{0}) custom-call(f32[11,3,32,32]{3,2,1,0}, f32[32,3,3,3]{3,2,1,0}, f32[32]{0}), window={size=3x3 pad=1_1x1_1}, dim_labels=bf01_oi01->bf01, custom_call_target=\"__cudnn$convBiasActivationForward\", backend_config={\"cudnn_conv_backend_config\":{\"activation_mode\":\"kRelu\",\"conv_result_scale\":1,\"leakyrelu_alpha\":0,\"side_input_scale\":0},\"force_earliest_schedule\":false,\"operation_queue_id\":\"0\",\"wait_on_operation_queues\":[]}\n",
                        "2024-11-29 23:25:51.662658: I external/local_xla/xla/service/gpu/autotuning/conv_algorithm_picker.cc:557] Omitted potentially buggy algorithm eng14{k25=0} for conv (f32[11,32,30,30]{3,2,1,0}, u8[0]{0}) custom-call(f32[11,32,32,32]{3,2,1,0}, f32[32,32,3,3]{3,2,1,0}, f32[32]{0}), window={size=3x3}, dim_labels=bf01_oi01->bf01, custom_call_target=\"__cudnn$convBiasActivationForward\", backend_config={\"cudnn_conv_backend_config\":{\"activation_mode\":\"kRelu\",\"conv_result_scale\":1,\"leakyrelu_alpha\":0,\"side_input_scale\":0},\"force_earliest_schedule\":false,\"operation_queue_id\":\"0\",\"wait_on_operation_queues\":[]}\n",
                        "2024-11-29 23:25:51.729061: I external/local_xla/xla/service/gpu/autotuning/conv_algorithm_picker.cc:557] Omitted potentially buggy algorithm eng14{k25=0} for conv (f32[11,64,15,15]{3,2,1,0}, u8[0]{0}) custom-call(f32[11,32,15,15]{3,2,1,0}, f32[64,32,3,3]{3,2,1,0}, f32[64]{0}), window={size=3x3 pad=1_1x1_1}, dim_labels=bf01_oi01->bf01, custom_call_target=\"__cudnn$convBiasActivationForward\", backend_config={\"cudnn_conv_backend_config\":{\"activation_mode\":\"kRelu\",\"conv_result_scale\":1,\"leakyrelu_alpha\":0,\"side_input_scale\":0},\"force_earliest_schedule\":false,\"operation_queue_id\":\"0\",\"wait_on_operation_queues\":[]}\n",
                        "2024-11-29 23:25:51.787042: I external/local_xla/xla/service/gpu/autotuning/conv_algorithm_picker.cc:557] Omitted potentially buggy algorithm eng14{k25=0} for conv (f32[11,64,13,13]{3,2,1,0}, u8[0]{0}) custom-call(f32[11,64,15,15]{3,2,1,0}, f32[64,64,3,3]{3,2,1,0}, f32[64]{0}), window={size=3x3}, dim_labels=bf01_oi01->bf01, custom_call_target=\"__cudnn$convBiasActivationForward\", backend_config={\"cudnn_conv_backend_config\":{\"activation_mode\":\"kRelu\",\"conv_result_scale\":1,\"leakyrelu_alpha\":0,\"side_input_scale\":0},\"force_earliest_schedule\":false,\"operation_queue_id\":\"0\",\"wait_on_operation_queues\":[]}\n",
                        "2024-11-29 23:25:51.861629: I external/local_xla/xla/service/gpu/autotuning/conv_algorithm_picker.cc:557] Omitted potentially buggy algorithm eng14{k25=0} for conv (f32[11,128,6,6]{3,2,1,0}, u8[0]{0}) custom-call(f32[11,64,6,6]{3,2,1,0}, f32[128,64,3,3]{3,2,1,0}, f32[128]{0}), window={size=3x3 pad=1_1x1_1}, dim_labels=bf01_oi01->bf01, custom_call_target=\"__cudnn$convBiasActivationForward\", backend_config={\"cudnn_conv_backend_config\":{\"activation_mode\":\"kRelu\",\"conv_result_scale\":1,\"leakyrelu_alpha\":0,\"side_input_scale\":0},\"force_earliest_schedule\":false,\"operation_queue_id\":\"0\",\"wait_on_operation_queues\":[]}\n",
                        "2024-11-29 23:25:51.933305: I external/local_xla/xla/service/gpu/autotuning/conv_algorithm_picker.cc:557] Omitted potentially buggy algorithm eng14{k25=0} for conv (f32[11,128,4,4]{3,2,1,0}, u8[0]{0}) custom-call(f32[11,128,6,6]{3,2,1,0}, f32[128,128,3,3]{3,2,1,0}, f32[128]{0}), window={size=3x3}, dim_labels=bf01_oi01->bf01, custom_call_target=\"__cudnn$convBiasActivationForward\", backend_config={\"cudnn_conv_backend_config\":{\"activation_mode\":\"kRelu\",\"conv_result_scale\":1,\"leakyrelu_alpha\":0,\"side_input_scale\":0},\"force_earliest_schedule\":false,\"operation_queue_id\":\"0\",\"wait_on_operation_queues\":[]}\n"
                    ]
                },
                {
                    "name": "stdout",
                    "output_type": "stream",
                    "text": [
                        "\u001b[1m1894/1894\u001b[0m \u001b[32m━━━━━━━━━━━━━━━━━━━━\u001b[0m\u001b[37m\u001b[0m \u001b[1m48s\u001b[0m 25ms/step\n"
                    ]
                }
            ],
            "source": [
                "# Making a prediction out of the Custom CNN for the testing set for the evaluation\n",
                "prediction = CNN_model.predict(test_gen)\n",
                "pred = list(map(lambda x: mapping_inverse[np.argmax(x)], prediction))\n",
                "y_test = list(map(lambda x: mapping_inverse[x],test_gen.classes))"
            ]
        },
        {
            "cell_type": "code",
            "execution_count": 20,
            "metadata": {},
            "outputs": [
                {
                    "name": "stdout",
                    "output_type": "stream",
                    "text": [
                        "\t\tThe Custom CNN Evaluation Performance\n",
                        "              precision    recall  f1-score   support\n",
                        "\n",
                        "                   0.92      1.00      0.96       110\n",
                        "           !       1.00      1.00      1.00        78\n",
                        "           #       1.00      1.00      1.00        97\n",
                        "           $       1.00      1.00      1.00        55\n",
                        "           %       1.00      1.00      1.00        67\n",
                        "           &       1.00      1.00      1.00        61\n",
                        "           (       1.00      1.00      1.00        78\n",
                        "           )       1.00      1.00      1.00        74\n",
                        "           +       1.00      1.00      1.00        73\n",
                        "           ,       1.00      1.00      1.00        56\n",
                        "           -       1.00      0.80      0.89        49\n",
                        "           .       1.00      1.00      1.00        51\n",
                        "           0       0.58      0.94      0.72       160\n",
                        "           1       0.98      0.98      0.98       189\n",
                        "           2       0.98      0.99      0.99       165\n",
                        "           3       0.99      1.00      1.00       181\n",
                        "           4       0.99      0.99      0.99       186\n",
                        "           5       1.00      0.99      0.99       155\n",
                        "           6       0.99      1.00      1.00       178\n",
                        "           7       0.99      0.99      0.99       166\n",
                        "           8       0.99      1.00      0.99       160\n",
                        "           9       0.97      0.99      0.98       176\n",
                        "           :       0.99      1.00      0.99        80\n",
                        "           ;       1.00      1.00      1.00        61\n",
                        "           ?       1.00      1.00      1.00        65\n",
                        "           @       1.00      1.00      1.00        73\n",
                        "           A       0.95      0.94      0.95      1255\n",
                        "           B       0.87      0.96      0.91      1202\n",
                        "           C       0.88      0.88      0.88      1258\n",
                        "           D       0.92      0.94      0.93      1193\n",
                        "           E       0.95      0.94      0.95      1220\n",
                        "           F       0.94      0.93      0.93      1245\n",
                        "           G       0.93      0.94      0.94      1217\n",
                        "           H       0.96      0.94      0.95      1222\n",
                        "           I       0.67      0.85      0.75      1206\n",
                        "           J       0.92      0.93      0.92      1249\n",
                        "           K       0.95      0.95      0.95      1211\n",
                        "           L       0.96      0.92      0.94      1215\n",
                        "           M       0.95      0.92      0.93      1211\n",
                        "           N       0.96      0.92      0.94      1185\n",
                        "           O       0.87      0.82      0.85      1199\n",
                        "           P       0.95      0.92      0.94      1261\n",
                        "           Q       0.94      0.94      0.94      1210\n",
                        "           R       0.94      0.95      0.94      1189\n",
                        "           S       0.87      0.87      0.87      1203\n",
                        "           T       0.94      0.93      0.94      1171\n",
                        "           U       0.93      0.94      0.93      1201\n",
                        "           V       0.90      0.89      0.90      1216\n",
                        "           W       0.86      0.93      0.89      1147\n",
                        "           X       0.52      0.91      0.66      1173\n",
                        "           Y       0.95      0.93      0.94      1236\n",
                        "           Z       0.89      0.89      0.89      1194\n",
                        "           [       0.99      0.98      0.99       119\n",
                        "           ]       0.99      1.00      0.99        86\n",
                        "           ^       1.00      1.00      1.00        60\n",
                        "           `       1.00      1.00      1.00        95\n",
                        "           a       0.97      0.94      0.95      1001\n",
                        "           b       0.98      0.96      0.97       997\n",
                        "           c       0.92      0.85      0.88      1025\n",
                        "           d       0.99      0.95      0.97       988\n",
                        "           e       0.97      0.94      0.96       974\n",
                        "           f       0.98      0.93      0.95       990\n",
                        "           g       0.96      0.94      0.95      1014\n",
                        "           h       0.98      0.94      0.96       997\n",
                        "           i       0.98      0.93      0.95       975\n",
                        "           j       0.98      0.95      0.96       946\n",
                        "           k       0.97      0.94      0.95       968\n",
                        "           l       0.80      0.62      0.70       949\n",
                        "           m       0.95      0.95      0.95      1001\n",
                        "           n       0.96      0.94      0.95       984\n",
                        "           o       0.94      0.88      0.91       998\n",
                        "           p       0.98      0.94      0.96       985\n",
                        "           q       0.98      0.95      0.96       975\n",
                        "           r       0.98      0.92      0.95       996\n",
                        "           s       0.90      0.84      0.87       984\n",
                        "           t       0.99      0.92      0.96       992\n",
                        "           u       0.96      0.91      0.93       966\n",
                        "           v       0.91      0.86      0.88       953\n",
                        "           w       0.92      0.84      0.88       973\n",
                        "           x       0.91      0.89      0.90      1003\n",
                        "           y       0.97      0.94      0.96      1070\n",
                        "           z       0.91      0.85      0.88       949\n",
                        "           {       1.00      1.00      1.00        85\n",
                        "           }       1.00      1.00      1.00        75\n",
                        "           ~       1.00      1.00      1.00        81\n",
                        "\n",
                        "    accuracy                           0.92     60587\n",
                        "   macro avg       0.95      0.94      0.94     60587\n",
                        "weighted avg       0.93      0.92      0.92     60587\n",
                        "\n"
                    ]
                }
            ],
            "source": [
                "print('\\t\\tThe Custom CNN Evaluation Performance')\n",
                "print(classification_report(y_test, pred))"
            ]
        },
        {
            "cell_type": "markdown",
            "metadata": {},
            "source": [
                "# 6) Post-Processing"
            ]
        },
        {
            "cell_type": "code",
            "execution_count": 21,
            "metadata": {},
            "outputs": [],
            "source": [
                "# Computer Vision - Low level techniques\n",
                "def load_model():\n",
                "    model_path = f'models/{MODEL_SEL}_model.keras'\n",
                "    model = tf.keras.models.load_model(model_path)\n",
                "    return model\n",
                "\n",
                "def convert_2_gray(image):\n",
                "    gray_image = cv2.cvtColor(image, cv2.COLOR_RGB2GRAY)\n",
                "    return gray_image\n",
                "\n",
                "def binarization(image):\n",
                "    img, thresh = cv2.threshold(image, 0,255, cv2.THRESH_OTSU|cv2.THRESH_BINARY_INV)\n",
                "    return img, thresh\n",
                "\n",
                "def dilate(image, words= False):\n",
                "    img = image.copy()\n",
                "    m = 3\n",
                "    n = m - 2                   # n less than m for Vertical structuring element to dilate chars\n",
                "    itrs = 4\n",
                "    if words:\n",
                "        m = 6\n",
                "        n = m\n",
                "        itrs = 3\n",
                "    rect_kernel = cv2.getStructuringElement(cv2.MORPH_RECT, (n, m))\n",
                "    dilation = cv2.dilate(img, rect_kernel, iterations = itrs)\n",
                "    return dilation\n",
                "\n",
                "def find_rect(image):\n",
                "    '''\n",
                "    find the text region in the image and return the coordinates of the rectangles in a sorted manner.\n",
                "    \n",
                "    Input: image -> numpy.array of the image\n",
                "    \n",
                "    Output: list of rectangles coordinates sorted from top-to-bottom, left-to-right.\n",
                "    '''\n",
                "    contours, hierarchy = cv2.findContours(image, cv2.RETR_EXTERNAL, cv2.CHAIN_APPROX_NONE)\n",
                "    rects = []\n",
                "    \n",
                "    for cnt in contours:\n",
                "        x, y, w, h = cv2.boundingRect(cnt)\n",
                "        rects.append([x, y, w, h])\n",
                "    \n",
                "    if not rects:\n",
                "        return []\n",
                "    \n",
                "    # Calculate average height\n",
                "    avg_height = np.mean([r[3] for r in rects])\n",
                "    margin = avg_height / 2\n",
                "    \n",
                "    # Sort rectangles by y-coordinate\n",
                "    rects_sorted = sorted(rects, key=lambda r: r[1])\n",
                "    \n",
                "    lines = []\n",
                "    current_line = []\n",
                "    current_y = rects_sorted[0][1]\n",
                "    \n",
                "    for rect in rects_sorted:\n",
                "        x, y, w, h = rect\n",
                "        if abs(y - current_y) <= margin:\n",
                "            current_line.append(rect)\n",
                "        else:\n",
                "            # Sort the current line by x-coordinate\n",
                "            current_line = sorted(current_line, key=lambda r: r[0])\n",
                "            lines.append(current_line)\n",
                "            current_line = [rect]\n",
                "            current_y = y\n",
                "    # Add the last line\n",
                "    if current_line:\n",
                "        current_line = sorted(current_line, key=lambda r: r[0])\n",
                "        lines.append(current_line)\n",
                "    \n",
                "    # Flatten the list of lines\n",
                "    sorted_rects = [rect for line in lines for rect in line]\n",
                "    \n",
                "    return sorted_rects\n",
                "\n",
                "def extract(image):\n",
                "    model = load_model()\n",
                "    chars = []              # a list to store recognized characters\n",
                "    \n",
                "    image_cpy = image.copy()\n",
                "    _, bin_img = binarization(convert_2_gray(image_cpy))\n",
                "    full_dil_img = dilate(bin_img,words=True)\n",
                "    words = find_rect(full_dil_img)                       # Recognized words within the image \n",
                "    del _, bin_img, full_dil_img                          # for better memory usage\n",
                "    \n",
                "    for word in words:\n",
                "        x,y,w,h = word                                    # coordinates of the word\n",
                "        img = image_cpy[y:y+h, x:x+w]\n",
                "        \n",
                "        _, bin_img = binarization(convert_2_gray(img))\n",
                "        dil_img = dilate(bin_img)\n",
                "        char_parts = find_rect(dil_img)                     # Recognized chars withtin the word\n",
                "        cv2.rectangle(image, (x,y),(x+w,y+h), (0,255,0), 3) # draw a green rectangle around the word\n",
                "        \n",
                "        del _, bin_img, dil_img\n",
                "        \n",
                "        for char in char_parts:    \n",
                "            x,y,w,h = char\n",
                "            ch = img[y:y+h, x:x+w]\n",
                "            \n",
                "            empty_img = np.full((64,64,1),255, dtype=np.uint8) # a white image used for resize with filling\n",
                "            x,y = 3,3                                          # starting indecies\n",
                "            resized = cv2.resize(ch, (32,44), interpolation=cv2.INTER_CUBIC)\n",
                "            gray = convert_2_gray(resized)\n",
                "            empty_img[y:y+44, x:x+32,0] = gray.copy()          # integrate the recognized char into the white image\n",
                "            gray = cv2.cvtColor(empty_img, cv2.COLOR_GRAY2RGB)\n",
                "            gray = gray.astype(np.int32)\n",
                "            \n",
                "            predicted = mapping_inverse[np.argmax(model.predict(np.array([gray]), verbose=-1))]\n",
                "            chars.append(predicted)                            # append the character into the list\n",
                "            \n",
                "            del ch, resized, gray, empty_img\n",
                "        chars.append(' ')  # at the end of each iteration (end of word) append a space\n",
                "        \n",
                "    del model\n",
                "    show_image(image)\n",
                "    return ''.join(chars[:-1])"
            ]
        },
        {
            "cell_type": "code",
            "execution_count": 75,
            "metadata": {},
            "outputs": [
                {
                    "data": {
                        "image/png": "[encoded data removed]",
                        "text/plain": [
                            "<Figure size 640x480 with 1 Axes>"
                        ]
                    },
                    "metadata": {},
                    "output_type": "display_data"
                },
                {
                    "name": "stdout",
                    "output_type": "stream",
                    "text": [
                        "--> HellOD hOW are yOuQ I am underthe Water. PleaSe help me. I lOVe PXiStM. I Will SaCrifCe my life fOrPXiStan.\n"
                    ]
                }
            ],
            "source": [
                "# Testing 1 (Upper case + Lower case)\n",
                "img = read_image('data/test/Test_7.png')\n",
                "text = extract(img)\n",
                "print('-->',text)"
            ]
        },
        {
            "cell_type": "code",
            "execution_count": 77,
            "metadata": {},
            "outputs": [
                {
                    "data": {
                        "image/png": "[encoded data removed]",
                        "text/plain": [
                            "<Figure size 640x480 with 1 Axes>"
                        ]
                    },
                    "metadata": {},
                    "output_type": "display_data"
                },
                {
                    "name": "stdout",
                    "output_type": "stream",
                    "text": [
                        "--> HELLOMOTHERFUCKERS THISISOURMLMODELWEAREDOOMED.. THEQUICKBROWNFOXJUMPSOVERTHELAZYDOG.\n"
                    ]
                }
            ],
            "source": [
                "# Testing 2 (Lower case)\n",
                "img = read_image('data/test/Test_3.png')\n",
                "text = extract(img)\n",
                "print('-->',text)"
            ]
        },
        {
            "cell_type": "markdown",
            "metadata": {},
            "source": [
                "## Spell checking with SymSpell\n",
                "\n",
                "Symspell performs a spell checking on the OCR'ed text and correct text based on its dictionary database."
            ]
        },
        {
            "cell_type": "code",
            "execution_count": null,
            "metadata": {},
            "outputs": [],
            "source": [
                "sym_spell = SymSpell(max_dictionary_edit_distance=2, prefix_length=7)\n",
                "dictionary_path = pkg_resources.resource_filename(\"symspellpy\", \"frequency_dictionary_en_82_765.txt\")\n",
                "sym_spell.load_dictionary(dictionary_path, term_index=0, count_index=1)\n",
                "\n",
                "input_term = text\n",
                "result = sym_spell.word_segmentation(input_term)\n",
                "print('The corrected text:',result.corrected_string)"
            ]
        }
    ],
    "metadata": {
        "kernelspec": {
            "display_name": ".venv",
            "language": "python",
            "name": "python3"
        },
        "language_info": {
            "codemirror_mode": {
                "name": "ipython",
                "version": 3
            },
            "file_extension": ".py",
            "mimetype": "text/x-python",
            "name": "python",
            "nbconvert_exporter": "python",
            "pygments_lexer": "ipython3",
            "version": "3.12.3"
        }
    },
    "nbformat": 4,
    "nbformat_minor": 2
}