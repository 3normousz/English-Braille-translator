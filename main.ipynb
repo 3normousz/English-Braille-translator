{
 "cells": [
  {
   "cell_type": "markdown",
   "metadata": {},
   "source": [
    "# English-Braille Text OCR and Translation Model"
   ]
  },
  {
   "cell_type": "markdown",
   "metadata": {},
   "source": [
    "## 1) Import and Misc Functions"
   ]
  },
  {
   "cell_type": "code",
   "execution_count": 1,
   "metadata": {},
   "outputs": [
    {
     "name": "stderr",
     "output_type": "stream",
     "text": [
      "2024-12-26 17:51:59.932400: E external/local_xla/xla/stream_executor/cuda/cuda_fft.cc:477] Unable to register cuFFT factory: Attempting to register factory for plugin cuFFT when one has already been registered\n",
      "WARNING: All log messages before absl::InitializeLog() is called are written to STDERR\n",
      "E0000 00:00:1735206720.063750    6049 cuda_dnn.cc:8310] Unable to register cuDNN factory: Attempting to register factory for plugin cuDNN when one has already been registered\n",
      "E0000 00:00:1735206720.103877    6049 cuda_blas.cc:1418] Unable to register cuBLAS factory: Attempting to register factory for plugin cuBLAS when one has already been registered\n",
      "2024-12-26 17:52:00.433737: I tensorflow/core/platform/cpu_feature_guard.cc:210] This TensorFlow binary is optimized to use available CPU instructions in performance-critical operations.\n",
      "To enable the following instructions: AVX2 FMA, in other operations, rebuild TensorFlow with the appropriate compiler flags.\n"
     ]
    }
   ],
   "source": [
    "import cv2\n",
    "import numpy as np\n",
    "import pandas as pd\n",
    "import matplotlib.pyplot as plt\n",
    "#import seaborn as sns  #Unused import\n",
    "import os\n",
    "#from symspellpy import SymSpell, Verbosity\n",
    "import pkg_resources\n",
    "\n",
    "from sklearn.model_selection import train_test_split\n",
    "from sklearn.metrics import classification_report\n",
    "\n",
    "import tensorflow as tf\n",
    "from tensorflow.keras.preprocessing.image import ImageDataGenerator\n",
    "from tensorflow.keras.models import Sequential\n",
    "from tensorflow.keras.layers import (Dense, Dropout, Conv2D, MaxPool2D, \n",
    "                                     BatchNormalization, Flatten, GlobalAveragePooling2D, Input,\n",
    "                                     LSTM, Bidirectional, TimeDistributed, Reshape, Embedding)\n",
    "from tensorflow.keras.optimizers import Adam\n",
    "from tensorflow.keras.callbacks import EarlyStopping, ModelCheckpoint, ReduceLROnPlateau, LearningRateScheduler, ReduceLROnPlateau\n",
    "from tensorflow.keras.applications import EfficientNetB7, MobileNetV2, VGG19, DenseNet121\n",
    "\n",
    "from tensorflow.keras.regularizers import l2"
   ]
  },
  {
   "cell_type": "code",
   "execution_count": 2,
   "metadata": {},
   "outputs": [],
   "source": [
    "def directory_to_df(path : str):\n",
    "    \"\"\"\n",
    "    This function to retrieve all images from targeted folder in a file, the\n",
    "    folder must be divided hirarchally in which each class contains its images individually.\n",
    "    ________________________________________________________________________________________________\n",
    "    Arguments-\n",
    "    \n",
    "    path: String -> the main folder directory that contains train/test folders\n",
    "    \n",
    "    ________________________________________________________________________________________________\n",
    "    Return-\n",
    "    \n",
    "    DataFrame: contains the images path and label corresponding to every image\n",
    "    \"\"\"\n",
    "    df = []\n",
    "    chars = 'abcdefghijklmnopqrstuvwxyzABCDEFGHIJKLMNOPQRSTUVWXYZ0123456789!,#&()-$%;@[]^_`}{~+'\n",
    "    for cls in os.listdir(path):\n",
    "        cls_path = os.path.join(path,cls)\n",
    "        cls_name = cls.split('_')[0]\n",
    "        if not cls_name in chars:\n",
    "            if cls_name == 'qmark':\n",
    "                cls_name = '?'\n",
    "            elif cls_name == 'dot':\n",
    "                cls_name = '.'\n",
    "            elif cls_name == 'colon':\n",
    "                cls_name = ':'\n",
    "            elif cls_name == 'semicolon':\n",
    "                cls_name = ';'\n",
    "            else:\n",
    "                continue\n",
    "        for img_path in os.listdir(cls_path):\n",
    "            direct = os.path.join(cls_path,img_path)\n",
    "            df.append([direct,cls_name])\n",
    "    \n",
    "    df = pd.DataFrame(df, columns=['image','label'])\n",
    "    print(\"The number of samples found:\",len(df))\n",
    "    return df.copy()\n",
    "\n",
    "def read_image(path):\n",
    "    \"\"\"\n",
    "    Read an image from specified directory\n",
    "    _____________________________________________________________\n",
    "    Arguments:\n",
    "    \n",
    "    path: String -> a directory of the image\n",
    "    _____________________________________________________________\n",
    "    Return:\n",
    "    \n",
    "    image: numpy.array of the image\n",
    "    \"\"\"\n",
    "    image = cv2.imread(path)\n",
    "    image = cv2.cvtColor(image, cv2.COLOR_BGR2RGB)\n",
    "    return image\n",
    "\n",
    "def show_image(img, label=None) -> None:\n",
    "    \"\"\"\n",
    "    This function to display any image\n",
    "    _________________________________________________________\n",
    "    Arguements:\n",
    "    \n",
    "    img: numpy.array of N-D\n",
    "    \n",
    "    label: String -> the title/label added with the image, Default= None\n",
    "    _________________________________________________________\n",
    "    Return:\n",
    "    \n",
    "    plt.imshow()\n",
    "    \"\"\"\n",
    "    plt.imshow(img, cmap='gray')\n",
    "    plt.axis(False)\n",
    "    plt.title(label)\n",
    "    plt.show()\n",
    "    \n",
    "def clbck(model_name):\n",
    "    # The function is defined to make the callbacks for training the models\n",
    "    ERLY = EarlyStopping(patience=10, min_delta=0.01, start_from_epoch=10, verbose=1)\n",
    "    RD = ReduceLROnPlateau(\n",
    "        monitor='val_accuracy',\n",
    "        factor=0.5,\n",
    "        patience=3,\n",
    "        verbose=1, \n",
    "        min_lr=1e-6, \n",
    "    )\n",
    "    CHK = ModelCheckpoint(f'models/{model_name}_model.keras',verbose=1, save_best_only=True)\n",
    "    return [ERLY,RD,CHK]"
   ]
  },
  {
   "cell_type": "markdown",
   "metadata": {},
   "source": [
    "## 2) Select Model to be Used & other preferences\n",
    "\n",
    "`MODEL_SEL`: Choose your preferred model (CustomCNN is default), or create your own save by typing a new save name."
   ]
  },
  {
   "cell_type": "code",
   "execution_count": 3,
   "metadata": {},
   "outputs": [
    {
     "name": "stderr",
     "output_type": "stream",
     "text": [
      "I0000 00:00:1735206733.175037    6049 gpu_device.cc:2022] Created device /job:localhost/replica:0/task:0/device:GPU:0 with 4080 MB memory:  -> device: 0, name: NVIDIA GeForce GTX 1660 Ti, pci bus id: 0000:01:00.0, compute capability: 7.5\n"
     ]
    }
   ],
   "source": [
    "# Pre-defined hyperparameters\n",
    "IMG_SHAPE = (64, 64)\n",
    "IMG_SIZE = (64, 64, 3)\n",
    "BATCH_SIZE = 32\n",
    "opt = Adam(learning_rate=0.0001, epsilon=1e-6)\n",
    "loss = 'categorical_crossentropy'\n",
    "EPOCHS = 50\n",
    "\n",
    "# Model selection\n",
    "# 1. EfficientNetB7\n",
    "# 2. CustomCNN\n",
    "MODEL_SEL = 'CustomCNN'\n",
    "# MODEL_SEL = 'EfficientNetB7'"
   ]
  },
  {
   "cell_type": "markdown",
   "metadata": {},
   "source": [
    "## 3) Reading & preparing the dataset"
   ]
  },
  {
   "cell_type": "code",
   "execution_count": 4,
   "metadata": {},
   "outputs": [
    {
     "name": "stdout",
     "output_type": "stream",
     "text": [
      "The number of samples found: 186041\n"
     ]
    },
    {
     "data": {
      "text/html": [
       "<div>\n",
       "<style scoped>\n",
       "    .dataframe tbody tr th:only-of-type {\n",
       "        vertical-align: middle;\n",
       "    }\n",
       "\n",
       "    .dataframe tbody tr th {\n",
       "        vertical-align: top;\n",
       "    }\n",
       "\n",
       "    .dataframe thead th {\n",
       "        text-align: right;\n",
       "    }\n",
       "</style>\n",
       "<table border=\"1\" class=\"dataframe\">\n",
       "  <thead>\n",
       "    <tr style=\"text-align: right;\">\n",
       "      <th></th>\n",
       "      <th>image</th>\n",
       "      <th>label</th>\n",
       "    </tr>\n",
       "  </thead>\n",
       "  <tbody>\n",
       "    <tr>\n",
       "      <th>0</th>\n",
       "      <td>data/raw/character_set3/y/Y_L_2132.png</td>\n",
       "      <td>y</td>\n",
       "    </tr>\n",
       "    <tr>\n",
       "      <th>1</th>\n",
       "      <td>data/raw/character_set3/y/Y_L_791.png</td>\n",
       "      <td>y</td>\n",
       "    </tr>\n",
       "    <tr>\n",
       "      <th>2</th>\n",
       "      <td>data/raw/character_set3/y/Y_L_1007.png</td>\n",
       "      <td>y</td>\n",
       "    </tr>\n",
       "    <tr>\n",
       "      <th>3</th>\n",
       "      <td>data/raw/character_set3/y/Y_L_493.png</td>\n",
       "      <td>y</td>\n",
       "    </tr>\n",
       "    <tr>\n",
       "      <th>4</th>\n",
       "      <td>data/raw/character_set3/y/Y_L_10.png</td>\n",
       "      <td>y</td>\n",
       "    </tr>\n",
       "  </tbody>\n",
       "</table>\n",
       "</div>"
      ],
      "text/plain": [
       "                                    image label\n",
       "0  data/raw/character_set3/y/Y_L_2132.png     y\n",
       "1   data/raw/character_set3/y/Y_L_791.png     y\n",
       "2  data/raw/character_set3/y/Y_L_1007.png     y\n",
       "3   data/raw/character_set3/y/Y_L_493.png     y\n",
       "4    data/raw/character_set3/y/Y_L_10.png     y"
      ]
     },
     "execution_count": 4,
     "metadata": {},
     "output_type": "execute_result"
    }
   ],
   "source": [
    "# Reading the dataset in dataframe \n",
    "main_path = 'data/raw/character_set3/'\n",
    "df = directory_to_df(main_path)                   # convert the dataset into df of two columns\n",
    "df.head()"
   ]
  },
  {
   "cell_type": "code",
   "execution_count": 5,
   "metadata": {},
   "outputs": [
    {
     "data": {
      "text/plain": [
       "label\n",
       "I    3566\n",
       "K    3566\n",
       "M    3566\n",
       "R    3566\n",
       "T    3566\n",
       "     ... \n",
       ",     209\n",
       ";     194\n",
       "%     184\n",
       "$     174\n",
       "-     173\n",
       "Name: count, Length: 84, dtype: int64"
      ]
     },
     "execution_count": 5,
     "metadata": {},
     "output_type": "execute_result"
    }
   ],
   "source": [
    "df['label'].value_counts()"
   ]
  },
  {
   "cell_type": "markdown",
   "metadata": {},
   "source": [
    "3.1) Splitting the dataframe"
   ]
  },
  {
   "cell_type": "code",
   "execution_count": 6,
   "metadata": {},
   "outputs": [],
   "source": [
    "# Splitting for training & testing (70,30 respectively)\n",
    "X, y = df['image'], df['label']\n",
    "X_train, X_test, y_train, y_test = train_test_split(X,y , test_size=0.30, random_state=41)\n",
    "training_df = pd.concat((X_train,y_train), axis=1)\n",
    "testing_df = pd.concat((X_test,y_test), axis=1)"
   ]
  },
  {
   "cell_type": "code",
   "execution_count": 7,
   "metadata": {},
   "outputs": [],
   "source": [
    "# Splitting for training & validation (75,25 respectively) -> the training set size = 52.5%\n",
    "X, y = training_df['image'], training_df['label']\n",
    "X_train, X_valid, y_train, y_valid = train_test_split(X,y , test_size=0.25, random_state=41)\n",
    "training_df = pd.concat((X_train,y_train), axis=1)\n",
    "validation_df = pd.concat((X_valid,y_valid), axis=1)"
   ]
  },
  {
   "cell_type": "markdown",
   "metadata": {},
   "source": [
    "3.2) Creating generators"
   ]
  },
  {
   "cell_type": "code",
   "execution_count": 8,
   "metadata": {},
   "outputs": [
    {
     "name": "stdout",
     "output_type": "stream",
     "text": [
      "Found 97671 validated image filenames belonging to 84 classes.\n",
      "Found 32557 validated image filenames belonging to 84 classes.\n",
      "Found 55813 validated image filenames belonging to 84 classes.\n"
     ]
    }
   ],
   "source": [
    "# Creating generators\n",
    "gen = ImageDataGenerator(\n",
    "    rotation_range=0,\n",
    "    shear_range=0,\n",
    "    width_shift_range=0.1,\n",
    "    height_shift_range=0.1,\n",
    "    zoom_range=0,\n",
    "    brightness_range=[0.5, 1.5],\n",
    "    fill_mode='nearest',\n",
    "    dtype=np.int32,\n",
    ")\n",
    "\n",
    "gen2 = ImageDataGenerator(dtype=np.int32, fill_mode='nearest')\n",
    "train_gen = gen.flow_from_dataframe(training_df, x_col='image',y_col='label', batch_size=BATCH_SIZE, \n",
    "                                   target_size=IMG_SHAPE)\n",
    "valid_gen = gen2.flow_from_dataframe(validation_df, x_col='image', y_col='label', batch_size=BATCH_SIZE, \n",
    "                                        target_size=IMG_SHAPE, shuffle=False)\n",
    "test_gen = gen2.flow_from_dataframe(testing_df, x_col='image', y_col='label', batch_size=BATCH_SIZE, \n",
    "                                       target_size=IMG_SHAPE, shuffle=False)"
   ]
  },
  {
   "cell_type": "code",
   "execution_count": 9,
   "metadata": {},
   "outputs": [],
   "source": [
    "# Making a mapping of the classes and the inverse for later processings\n",
    "mapping = train_gen.class_indices\n",
    "mapping_inverse = dict(map(lambda x: tuple(reversed(x)), mapping.items()))"
   ]
  },
  {
   "cell_type": "code",
   "execution_count": 10,
   "metadata": {},
   "outputs": [
    {
     "data": {
      "image/png": "[encoded data removed]",
      "text/plain": [
       "<Figure size 640x480 with 1 Axes>"
      ]
     },
     "metadata": {},
     "output_type": "display_data"
    },
    {
     "name": "stdout",
     "output_type": "stream",
     "text": [
      "The shape of the image: (64, 64, 3)\n"
     ]
    }
   ],
   "source": [
    "# Reading a sample from the dataset\n",
    "BATCH_NUM = 10\n",
    "IMG_NUM = 2      # from 0 to 31\n",
    "show_image(train_gen[BATCH_NUM][0][IMG_NUM],mapping_inverse[train_gen[BATCH_NUM][1][IMG_NUM].argmax()])\n",
    "print('The shape of the image:',train_gen[BATCH_NUM][0][IMG_NUM].shape)"
   ]
  },
  {
   "cell_type": "code",
   "execution_count": 11,
   "metadata": {},
   "outputs": [
    {
     "data": {
      "image/png": "[encoded data removed]",
      "text/plain": [
       "<Figure size 640x480 with 1 Axes>"
      ]
     },
     "metadata": {},
     "output_type": "display_data"
    },
    {
     "name": "stdout",
     "output_type": "stream",
     "text": [
      "The shape of the image: (64, 64, 3)\n"
     ]
    }
   ],
   "source": [
    "# Reading another sample from the dataset\n",
    "BATCH_NUM = 65\n",
    "IMG_NUM = 30      # from 0 to 31\n",
    "show_image(train_gen[BATCH_NUM][0][IMG_NUM],mapping_inverse[train_gen[BATCH_NUM][1][IMG_NUM].argmax()])\n",
    "print('The shape of the image:',train_gen[BATCH_NUM][0][IMG_NUM].shape)"
   ]
  },
  {
   "cell_type": "code",
   "execution_count": 12,
   "metadata": {},
   "outputs": [
    {
     "data": {
      "image/png": "[encoded data removed]",
      "text/plain": [
       "<Figure size 640x480 with 1 Axes>"
      ]
     },
     "metadata": {},
     "output_type": "display_data"
    },
    {
     "name": "stdout",
     "output_type": "stream",
     "text": [
      "The shape of the image: (64, 64, 3)\n"
     ]
    },
    {
     "data": {
      "image/png": "[encoded data removed]",
      "text/plain": [
       "<Figure size 640x480 with 1 Axes>"
      ]
     },
     "metadata": {},
     "output_type": "display_data"
    },
    {
     "name": "stdout",
     "output_type": "stream",
     "text": [
      "The shape of the image: (64, 64, 3)\n"
     ]
    },
    {
     "data": {
      "image/png": "[encoded data removed]",
      "text/plain": [
       "<Figure size 640x480 with 1 Axes>"
      ]
     },
     "metadata": {},
     "output_type": "display_data"
    },
    {
     "name": "stdout",
     "output_type": "stream",
     "text": [
      "The shape of the image: (64, 64, 3)\n"
     ]
    },
    {
     "data": {
      "image/png": "[encoded data removed]",
      "text/plain": [
       "<Figure size 640x480 with 1 Axes>"
      ]
     },
     "metadata": {},
     "output_type": "display_data"
    },
    {
     "name": "stdout",
     "output_type": "stream",
     "text": [
      "The shape of the image: (64, 64, 3)\n"
     ]
    },
    {
     "data": {
      "image/png": "[encoded data removed]",
      "text/plain": [
       "<Figure size 640x480 with 1 Axes>"
      ]
     },
     "metadata": {},
     "output_type": "display_data"
    },
    {
     "name": "stdout",
     "output_type": "stream",
     "text": [
      "The shape of the image: (64, 64, 3)\n"
     ]
    },
    {
     "data": {
      "image/png": "[encoded data removed]",
      "text/plain": [
       "<Figure size 640x480 with 1 Axes>"
      ]
     },
     "metadata": {},
     "output_type": "display_data"
    },
    {
     "name": "stdout",
     "output_type": "stream",
     "text": [
      "The shape of the image: (64, 64, 3)\n"
     ]
    },
    {
     "data": {
      "image/png": "[encoded data removed]",
      "text/plain": [
       "<Figure size 640x480 with 1 Axes>"
      ]
     },
     "metadata": {},
     "output_type": "display_data"
    },
    {
     "name": "stdout",
     "output_type": "stream",
     "text": [
      "The shape of the image: (64, 64, 3)\n"
     ]
    },
    {
     "data": {
      "image/png": "[encoded data removed]",
      "text/plain": [
       "<Figure size 640x480 with 1 Axes>"
      ]
     },
     "metadata": {},
     "output_type": "display_data"
    },
    {
     "name": "stdout",
     "output_type": "stream",
     "text": [
      "The shape of the image: (64, 64, 3)\n"
     ]
    },
    {
     "data": {
      "image/png": "[encoded data removed]",
      "text/plain": [
       "<Figure size 640x480 with 1 Axes>"
      ]
     },
     "metadata": {},
     "output_type": "display_data"
    },
    {
     "name": "stdout",
     "output_type": "stream",
     "text": [
      "The shape of the image: (64, 64, 3)\n"
     ]
    },
    {
     "data": {
      "image/png": "[encoded data removed]",
      "text/plain": [
       "<Figure size 640x480 with 1 Axes>"
      ]
     },
     "metadata": {},
     "output_type": "display_data"
    },
    {
     "name": "stdout",
     "output_type": "stream",
     "text": [
      "The shape of the image: (64, 64, 3)\n"
     ]
    },
    {
     "data": {
      "image/png": "[encoded data removed]",
      "text/plain": [
       "<Figure size 640x480 with 1 Axes>"
      ]
     },
     "metadata": {},
     "output_type": "display_data"
    },
    {
     "name": "stdout",
     "output_type": "stream",
     "text": [
      "The shape of the image: (64, 64, 3)\n"
     ]
    },
    {
     "data": {
      "image/png": "[encoded data removed]",
      "text/plain": [
       "<Figure size 640x480 with 1 Axes>"
      ]
     },
     "metadata": {},
     "output_type": "display_data"
    },
    {
     "name": "stdout",
     "output_type": "stream",
     "text": [
      "The shape of the image: (64, 64, 3)\n"
     ]
    },
    {
     "data": {
      "image/png": "[encoded data removed]",
      "text/plain": [
       "<Figure size 640x480 with 1 Axes>"
      ]
     },
     "metadata": {},
     "output_type": "display_data"
    },
    {
     "name": "stdout",
     "output_type": "stream",
     "text": [
      "The shape of the image: (64, 64, 3)\n"
     ]
    },
    {
     "data": {
      "image/png": "[encoded data removed]",
      "text/plain": [
       "<Figure size 640x480 with 1 Axes>"
      ]
     },
     "metadata": {},
     "output_type": "display_data"
    },
    {
     "name": "stdout",
     "output_type": "stream",
     "text": [
      "The shape of the image: (64, 64, 3)\n"
     ]
    },
    {
     "data": {
      "image/png": "[encoded data removed]",
      "text/plain": [
       "<Figure size 640x480 with 1 Axes>"
      ]
     },
     "metadata": {},
     "output_type": "display_data"
    },
    {
     "name": "stdout",
     "output_type": "stream",
     "text": [
      "The shape of the image: (64, 64, 3)\n"
     ]
    },
    {
     "data": {
      "image/png": "[encoded data removed]",
      "text/plain": [
       "<Figure size 640x480 with 1 Axes>"
      ]
     },
     "metadata": {},
     "output_type": "display_data"
    },
    {
     "name": "stdout",
     "output_type": "stream",
     "text": [
      "The shape of the image: (64, 64, 3)\n"
     ]
    },
    {
     "data": {
      "image/png": "[encoded data removed]",
      "text/plain": [
       "<Figure size 640x480 with 1 Axes>"
      ]
     },
     "metadata": {},
     "output_type": "display_data"
    },
    {
     "name": "stdout",
     "output_type": "stream",
     "text": [
      "The shape of the image: (64, 64, 3)\n"
     ]
    },
    {
     "data": {
      "image/png": "[encoded data removed]",
      "text/plain": [
       "<Figure size 640x480 with 1 Axes>"
      ]
     },
     "metadata": {},
     "output_type": "display_data"
    },
    {
     "name": "stdout",
     "output_type": "stream",
     "text": [
      "The shape of the image: (64, 64, 3)\n"
     ]
    },
    {
     "data": {
      "image/png": "[encoded data removed]",
      "text/plain": [
       "<Figure size 640x480 with 1 Axes>"
      ]
     },
     "metadata": {},
     "output_type": "display_data"
    },
    {
     "name": "stdout",
     "output_type": "stream",
     "text": [
      "The shape of the image: (64, 64, 3)\n"
     ]
    },
    {
     "data": {
      "image/png": "[encoded data removed]",
      "text/plain": [
       "<Figure size 640x480 with 1 Axes>"
      ]
     },
     "metadata": {},
     "output_type": "display_data"
    },
    {
     "name": "stdout",
     "output_type": "stream",
     "text": [
      "The shape of the image: (64, 64, 3)\n"
     ]
    },
    {
     "data": {
      "image/png": "[encoded data removed]",
      "text/plain": [
       "<Figure size 640x480 with 1 Axes>"
      ]
     },
     "metadata": {},
     "output_type": "display_data"
    },
    {
     "name": "stdout",
     "output_type": "stream",
     "text": [
      "The shape of the image: (64, 64, 3)\n"
     ]
    },
    {
     "data": {
      "image/png": "[encoded data removed]",
      "text/plain": [
       "<Figure size 640x480 with 1 Axes>"
      ]
     },
     "metadata": {},
     "output_type": "display_data"
    },
    {
     "name": "stdout",
     "output_type": "stream",
     "text": [
      "The shape of the image: (64, 64, 3)\n"
     ]
    },
    {
     "data": {
      "image/png": "[encoded data removed]",
      "text/plain": [
       "<Figure size 640x480 with 1 Axes>"
      ]
     },
     "metadata": {},
     "output_type": "display_data"
    },
    {
     "name": "stdout",
     "output_type": "stream",
     "text": [
      "The shape of the image: (64, 64, 3)\n"
     ]
    },
    {
     "data": {
      "image/png": "[encoded data removed]",
      "text/plain": [
       "<Figure size 640x480 with 1 Axes>"
      ]
     },
     "metadata": {},
     "output_type": "display_data"
    },
    {
     "name": "stdout",
     "output_type": "stream",
     "text": [
      "The shape of the image: (64, 64, 3)\n"
     ]
    },
    {
     "data": {
      "image/png": "[encoded data removed]",
      "text/plain": [
       "<Figure size 640x480 with 1 Axes>"
      ]
     },
     "metadata": {},
     "output_type": "display_data"
    },
    {
     "name": "stdout",
     "output_type": "stream",
     "text": [
      "The shape of the image: (64, 64, 3)\n"
     ]
    },
    {
     "data": {
      "image/png": "[encoded data removed]",
      "text/plain": [
       "<Figure size 640x480 with 1 Axes>"
      ]
     },
     "metadata": {},
     "output_type": "display_data"
    },
    {
     "name": "stdout",
     "output_type": "stream",
     "text": [
      "The shape of the image: (64, 64, 3)\n"
     ]
    },
    {
     "data": {
      "image/png": "[encoded data removed]",
      "text/plain": [
       "<Figure size 640x480 with 1 Axes>"
      ]
     },
     "metadata": {},
     "output_type": "display_data"
    },
    {
     "name": "stdout",
     "output_type": "stream",
     "text": [
      "The shape of the image: (64, 64, 3)\n"
     ]
    },
    {
     "data": {
      "image/png": "[encoded data removed]",
      "text/plain": [
       "<Figure size 640x480 with 1 Axes>"
      ]
     },
     "metadata": {},
     "output_type": "display_data"
    },
    {
     "name": "stdout",
     "output_type": "stream",
     "text": [
      "The shape of the image: (64, 64, 3)\n"
     ]
    },
    {
     "data": {
      "image/png": "[encoded data removed]",
      "text/plain": [
       "<Figure size 640x480 with 1 Axes>"
      ]
     },
     "metadata": {},
     "output_type": "display_data"
    },
    {
     "name": "stdout",
     "output_type": "stream",
     "text": [
      "The shape of the image: (64, 64, 3)\n"
     ]
    },
    {
     "data": {
      "image/png": "[encoded data removed]",
      "text/plain": [
       "<Figure size 640x480 with 1 Axes>"
      ]
     },
     "metadata": {},
     "output_type": "display_data"
    },
    {
     "name": "stdout",
     "output_type": "stream",
     "text": [
      "The shape of the image: (64, 64, 3)\n"
     ]
    },
    {
     "data": {
      "image/png": "[encoded data removed]",
      "text/plain": [
       "<Figure size 640x480 with 1 Axes>"
      ]
     },
     "metadata": {},
     "output_type": "display_data"
    },
    {
     "name": "stdout",
     "output_type": "stream",
     "text": [
      "The shape of the image: (64, 64, 3)\n"
     ]
    },
    {
     "data": {
      "image/png": "[encoded data removed]",
      "text/plain": [
       "<Figure size 640x480 with 1 Axes>"
      ]
     },
     "metadata": {},
     "output_type": "display_data"
    },
    {
     "name": "stdout",
     "output_type": "stream",
     "text": [
      "The shape of the image: (64, 64, 3)\n"
     ]
    }
   ],
   "source": [
    "BATCH_NUM = 0\n",
    "IMG_NUM = 0      # from 0 to 31\n",
    "for i in range(32):\n",
    "    show_image(train_gen[BATCH_NUM][0][IMG_NUM+i],mapping_inverse[train_gen[BATCH_NUM][1][IMG_NUM+i].argmax()])\n",
    "    print('The shape of the image:',train_gen[BATCH_NUM][0][IMG_NUM+i].shape)"
   ]
  },
  {
   "cell_type": "markdown",
   "metadata": {},
   "source": [
    "# 4) Modeling"
   ]
  },
  {
   "cell_type": "markdown",
   "metadata": {},
   "source": [
    "## 4.1) Custom Model"
   ]
  },
  {
   "cell_type": "code",
   "execution_count": null,
   "metadata": {},
   "outputs": [],
   "source": [
    "from tensorflow.keras.layers import BatchNormalization\n",
    "from tensorflow.keras.regularizers import l2\n",
    "\n",
    "CNN_model = Sequential()\n",
    "CNN_model.add(Input(shape=IMG_SIZE, name='Input'))\n",
    "CNN_model.add(Conv2D(32, (3,3), activation='relu', padding='same'))\n",
    "CNN_model.add(BatchNormalization())\n",
    "CNN_model.add(Conv2D(32, (3,3), activation='relu'))\n",
    "CNN_model.add(BatchNormalization())\n",
    "CNN_model.add(MaxPool2D((2,2)))\n",
    "CNN_model.add(Dropout(0.25))\n",
    "\n",
    "CNN_model.add(Conv2D(64, (3,3), activation='relu', padding='same'))\n",
    "CNN_model.add(BatchNormalization())\n",
    "CNN_model.add(Conv2D(64, (3,3), activation='relu'))\n",
    "CNN_model.add(BatchNormalization())\n",
    "CNN_model.add(MaxPool2D((2,2)))\n",
    "CNN_model.add(Dropout(0.25))\n",
    "\n",
    "CNN_model.add(Conv2D(128, (3,3), activation='relu', padding='same'))  # Added layer\n",
    "CNN_model.add(BatchNormalization())\n",
    "CNN_model.add(MaxPool2D((2,2)))\n",
    "CNN_model.add(Dropout(0.25))\n",
    "\n",
    "CNN_model.add(Flatten())\n",
    "CNN_model.add(Dense(512, activation='relu', kernel_regularizer=l2(0.001)))  # Increased units\n",
    "CNN_model.add(Dropout(0.5))\n",
    "CNN_model.add(Dense(len(mapping), activation='softmax'))"
   ]
  },
  {
   "cell_type": "code",
   "execution_count": null,
   "metadata": {},
   "outputs": [],
   "source": [
    "\n",
    "CNN_model.summary()"
   ]
  },
  {
   "cell_type": "code",
   "execution_count": null,
   "metadata": {},
   "outputs": [],
   "source": [
    "# Default parameters of adam will be used for the custom CNN\n",
    "CNN_model.compile(optimizer=Adam(), loss=loss, metrics=['accuracy'])"
   ]
  },
  {
   "cell_type": "markdown",
   "metadata": {},
   "source": [
    "## 4.3) Start Training"
   ]
  },
  {
   "cell_type": "code",
   "execution_count": null,
   "metadata": {},
   "outputs": [],
   "source": [
    "# different num. of epochs will be given for better convergence for the Custom CNN\n",
    "history = CNN_model.fit(\n",
    "    train_gen,\n",
    "    epochs=EPOCHS,\n",
    "    validation_data=valid_gen,\n",
    "    callbacks=clbck(MODEL_SEL),\n",
    ")"
   ]
  },
  {
   "cell_type": "code",
   "execution_count": null,
   "metadata": {},
   "outputs": [],
   "source": [
    "plt.plot(history.history['loss'], label='Training loss')\n",
    "plt.plot(history.history['val_loss'], label='Validation loss')\n",
    "plt.legend()\n",
    "plt.xlabel('Epochs')\n",
    "plt.ylabel('Loss value')\n",
    "plt.title(\"Custom CNN Training VS. Validation performance\")\n",
    "plt.show()"
   ]
  },
  {
   "cell_type": "code",
   "execution_count": null,
   "metadata": {},
   "outputs": [],
   "source": [
    "# Making a prediction out of the Custom CNN for the testing set for the evaluation\n",
    "prediction = CNN_model.predict(test_gen)\n",
    "pred = list(map(lambda x: mapping_inverse[np.argmax(x)], prediction))\n",
    "y_test = list(map(lambda x: mapping_inverse[x],test_gen.classes))"
   ]
  },
  {
   "cell_type": "code",
   "execution_count": null,
   "metadata": {},
   "outputs": [],
   "source": [
    "print('\\t\\tThe Custom CNN Evaluation Performance')\n",
    "print(classification_report(y_test, pred))"
   ]
  },
  {
   "cell_type": "markdown",
   "metadata": {},
   "source": [
    "# 6) Post-Processing"
   ]
  },
  {
   "cell_type": "code",
   "execution_count": 13,
   "metadata": {},
   "outputs": [],
   "source": [
    "# Computer Vision - Low level techniques\n",
    "def load_model():\n",
    "    model_path = f'models/{MODEL_SEL}_model.keras'\n",
    "    model = tf.keras.models.load_model(model_path)\n",
    "    return model\n",
    "\n",
    "def convert_2_gray(image):\n",
    "    gray_image = cv2.cvtColor(image, cv2.COLOR_RGB2GRAY)\n",
    "    return gray_image\n",
    "\n",
    "def binarization(image):\n",
    "    img, thresh = cv2.threshold(image, 0,255, cv2.THRESH_OTSU|cv2.THRESH_BINARY_INV)\n",
    "    return img, thresh\n",
    "\n",
    "def dilate(image, words= False):\n",
    "    img = image.copy()\n",
    "    m = 3\n",
    "    n = m - 2                   # n less than m for Vertical structuring element to dilate chars\n",
    "    itrs = 4\n",
    "    if words:\n",
    "        m = 6\n",
    "        n = m\n",
    "        itrs = 3\n",
    "    rect_kernel = cv2.getStructuringElement(cv2.MORPH_RECT, (n, m))\n",
    "    dilation = cv2.dilate(img, rect_kernel, iterations = itrs)\n",
    "    return dilation\n",
    "\n",
    "def find_rect(image):\n",
    "    '''\n",
    "    find the text region in the image and return the coordinates of the rectangles in a sorted manner.\n",
    "    \n",
    "    Input: image -> numpy.array of the image\n",
    "    \n",
    "    Output: list of rectangles coordinates sorted from top-to-bottom, left-to-right.\n",
    "    '''\n",
    "    contours, hierarchy = cv2.findContours(image, cv2.RETR_EXTERNAL, cv2.CHAIN_APPROX_NONE)\n",
    "    rects = []\n",
    "    \n",
    "    for cnt in contours:\n",
    "        x, y, w, h = cv2.boundingRect(cnt)\n",
    "        rects.append([x, y, w, h])\n",
    "    \n",
    "    if not rects:\n",
    "        return []\n",
    "    \n",
    "    # Calculate average height\n",
    "    avg_height = np.mean([r[3] for r in rects])\n",
    "    margin = avg_height / 2\n",
    "    \n",
    "    # Sort rectangles by y-coordinate\n",
    "    rects_sorted = sorted(rects, key=lambda r: r[1])\n",
    "    \n",
    "    lines = []\n",
    "    current_line = []\n",
    "    current_y = rects_sorted[0][1]\n",
    "    \n",
    "    for rect in rects_sorted:\n",
    "        x, y, w, h = rect\n",
    "        if abs(y - current_y) <= margin:\n",
    "            current_line.append(rect)\n",
    "        else:\n",
    "            # Sort the current line by x-coordinate\n",
    "            current_line = sorted(current_line, key=lambda r: r[0])\n",
    "            lines.append(current_line)\n",
    "            current_line = [rect]\n",
    "            current_y = y\n",
    "    # Add the last line\n",
    "    if current_line:\n",
    "        current_line = sorted(current_line, key=lambda r: r[0])\n",
    "        lines.append(current_line)\n",
    "    \n",
    "    # Flatten the list of lines\n",
    "    sorted_rects = [rect for line in lines for rect in line]\n",
    "    \n",
    "    return sorted_rects\n",
    "\n",
    "def extract(image):\n",
    "    model = load_model()\n",
    "    chars = []              # a list to store recognized characters\n",
    "    \n",
    "    image_cpy = image.copy()\n",
    "    _, bin_img = binarization(convert_2_gray(image_cpy))\n",
    "    full_dil_img = dilate(bin_img,words=True)\n",
    "    words = find_rect(full_dil_img)                       # Recognized words within the image \n",
    "    del _, bin_img, full_dil_img                          # for better memory usage\n",
    "    \n",
    "    for word in words:\n",
    "        x,y,w,h = word                                    # coordinates of the word\n",
    "        img = image_cpy[y:y+h, x:x+w]\n",
    "        \n",
    "        _, bin_img = binarization(convert_2_gray(img))\n",
    "        dil_img = dilate(bin_img)\n",
    "        char_parts = find_rect(dil_img)                     # Recognized chars withtin the word\n",
    "        cv2.rectangle(image, (x,y),(x+w,y+h), (0,255,0), 3) # draw a green rectangle around the word\n",
    "        \n",
    "        del _, bin_img, dil_img\n",
    "        \n",
    "        for char in char_parts:    \n",
    "            x,y,w,h = char\n",
    "            ch = img[y:y+h, x:x+w]\n",
    "            \n",
    "            empty_img = np.full((64,64,1),255, dtype=np.uint8) # a white image used for resize with filling\n",
    "            x,y = 3,3                                          # starting indecies\n",
    "            resized = cv2.resize(ch, (32,44), interpolation=cv2.INTER_CUBIC)\n",
    "            gray = convert_2_gray(resized)\n",
    "            empty_img[y:y+44, x:x+32,0] = gray.copy()          # integrate the recognized char into the white image\n",
    "            gray = cv2.cvtColor(empty_img, cv2.COLOR_GRAY2RGB)\n",
    "            gray = gray.astype(np.int32)\n",
    "            \n",
    "            #show_image(gray)\n",
    "            \n",
    "            predicted = mapping_inverse[np.argmax(model.predict(np.array([gray]), verbose=-1))]\n",
    "            chars.append(predicted)                            # append the character into the list\n",
    "            \n",
    "            del ch, resized, gray, empty_img\n",
    "        chars.append(' ')  # at the end of each iteration (end of word) append a space\n",
    "        \n",
    "    del model\n",
    "    show_image(image)\n",
    "    return ''.join(chars[:-1])"
   ]
  },
  {
   "cell_type": "code",
   "execution_count": null,
   "metadata": {},
   "outputs": [
    {
     "name": "stderr",
     "output_type": "stream",
     "text": [
      "WARNING: All log messages before absl::InitializeLog() is called are written to STDERR\n",
      "I0000 00:00:1735206771.068997  238386 service.cc:148] XLA service 0x7f1fbc006f40 initialized for platform CUDA (this does not guarantee that XLA will be used). Devices:\n",
      "I0000 00:00:1735206771.069595  238386 service.cc:156]   StreamExecutor device (0): NVIDIA GeForce GTX 1660 Ti, Compute Capability 7.5\n",
      "2024-12-26 17:52:51.091574: I tensorflow/compiler/mlir/tensorflow/utils/dump_mlir_util.cc:268] disabling MLIR crash reproducer, set env var `MLIR_CRASH_REPRODUCER_DIRECTORY` to enable.\n",
      "I0000 00:00:1735206771.182165  238386 cuda_dnn.cc:529] Loaded cuDNN version 90300\n",
      "2024-12-26 17:52:52.241919: I external/local_xla/xla/service/gpu/autotuning/conv_algorithm_picker.cc:557] Omitted potentially buggy algorithm eng14{k25=0} for conv (f32[1,64,29,29]{3,2,1,0}, u8[0]{0}) custom-call(f32[1,64,31,31]{3,2,1,0}, f32[64,64,3,3]{3,2,1,0}, f32[64]{0}), window={size=3x3}, dim_labels=bf01_oi01->bf01, custom_call_target=\"__cudnn$convBiasActivationForward\", backend_config={\"cudnn_conv_backend_config\":{\"activation_mode\":\"kRelu\",\"conv_result_scale\":1,\"leakyrelu_alpha\":0,\"side_input_scale\":0},\"force_earliest_schedule\":false,\"operation_queue_id\":\"0\",\"wait_on_operation_queues\":[]}\n",
      "2024-12-26 17:52:52.313021: I external/local_xla/xla/service/gpu/autotuning/conv_algorithm_picker.cc:557] Omitted potentially buggy algorithm eng14{k25=0} for conv (f32[1,128,14,14]{3,2,1,0}, u8[0]{0}) custom-call(f32[1,64,14,14]{3,2,1,0}, f32[128,64,3,3]{3,2,1,0}, f32[128]{0}), window={size=3x3 pad=1_1x1_1}, dim_labels=bf01_oi01->bf01, custom_call_target=\"__cudnn$convBiasActivationForward\", backend_config={\"cudnn_conv_backend_config\":{\"activation_mode\":\"kRelu\",\"conv_result_scale\":1,\"leakyrelu_alpha\":0,\"side_input_scale\":0},\"force_earliest_schedule\":false,\"operation_queue_id\":\"0\",\"wait_on_operation_queues\":[]}\n",
      "I0000 00:00:1735206772.710537  238386 device_compiler.h:188] Compiled cluster using XLA!  This line is logged at most once for the lifetime of the process.\n"
     ]
    },
    {
     "data": {
      "image/png": "[encoded data removed]",
      "text/plain": [
       "<Figure size 640x480 with 1 Axes>"
      ]
     },
     "metadata": {},
     "output_type": "display_data"
    },
    {
     "name": "stdout",
     "output_type": "stream",
     "text": [
      "⠠⠁⠠⠉⠠⠉⠠⠕⠗⠙⠊⠝⠛ ⠞⠠⠕ ⠠⠉⠥⠗⠗⠑⠝⠞ ⠑⠠⠎⠞⠊⠍⠁⠞⠑⠠⠎⠠⠚ ⠊⠋ ⠠⠁⠥⠠⠎⠞⠗⠁⠠⠊⠊⠁⠝⠠⠎ ⠓⠁⠙ ⠞⠠⠕ ⠋⠊⠛⠓⠞ ⠅⠁⠝⠛⠁⠗⠠⠕⠠⠕⠠⠎⠠⠚ ⠞⠓⠑ ⠗⠁⠞⠊⠠⠕ ⠠⠺⠠⠕⠥⠠⠊⠙ ⠃⠑ ⠗⠠⠕⠥⠛⠓⠠⠊⠽ ⠇⠠⠃⠃⠲ ⠅⠁⠝⠛⠁⠗⠠⠕⠠⠕⠠⠎ ⠏⠑⠗ ⠏⠑⠗⠠⠎⠠⠕⠝⠲ ⠠⠍⠑⠁⠝⠊⠝⠛ ⠋⠠⠕⠗ ⠑⠠⠧⠑⠽ ⠠⠁⠥⠠⠎⠞⠗⠁⠠⠊⠊⠁⠝⠠⠚ ⠞⠓⠑⠽ ⠠⠺⠠⠕⠥⠠⠊⠙ ⠠⠎⠞⠁⠞⠊⠠⠎⠞⠊⠠⠉⠁⠠⠊⠠⠊⠽ ⠝⠑⠑⠙ ⠞⠠⠕ ⠋⠊⠛⠓⠞ ⠁⠗⠠⠕⠥⠝⠙ ⠠⠕⠝⠑ ⠁⠝⠙ ⠁ ⠞⠓⠊⠗⠙ ⠅⠁⠝⠛⠁⠗⠠⠕⠠⠕⠠⠎⠠⠚ ⠁⠠⠎ ⠞⠓⠑⠗⠑ ⠁⠗⠑ ⠠⠎⠊⠛⠝⠊⠋⠊⠠⠉⠁⠝⠞⠠⠊⠽ ⠍⠠⠕⠗⠑ ⠅⠁⠝⠛⠁⠗⠠⠕⠠⠕⠠⠎ ⠞⠓⠁⠝ ⠏⠑⠠⠕⠏⠠⠊⠑ ⠊⠝ ⠠⠁⠥⠠⠎⠞⠗⠁⠠⠊⠊⠁\n",
      "File 'output/document_1.txt' created successfully!\n",
      "--> ACCOrding tO Current eStimateSJ if AuStraIianS had tO fight kangarOOSJ the ratiO WOuId be rOughIy lBb. kangarOOS per perSOn. Meaning fOr eVey AuStraIianJ they WOuId StatiStiCaIIy need tO fight arOund One and a third kangarOOSJ aS there are SignifiCantIy mOre kangarOOS than peOpIe in AuStraIia\n"
     ]
    },
    {
     "data": {
      "image/png": "[encoded data removed]",
      "text/plain": [
       "<Figure size 640x480 with 1 Axes>"
      ]
     },
     "metadata": {},
     "output_type": "display_data"
    },
    {
     "name": "stdout",
     "output_type": "stream",
     "text": [
      "⠠⠺⠠⠕⠍⠁⠝ ⠁⠗⠗⠑⠠⠎⠞⠑⠙ ⠠⠺⠊⠞⠓ ⠇⠠⠕ ⠅⠛ ⠠⠕⠋ ⠍⠑⠞⠓ ⠠⠺⠗⠁⠏⠏⠑⠙ ⠁⠠⠎ ⠠⠉⠓⠗⠊⠠⠎⠞⠍⠁⠠⠎ ⠏⠗⠑⠠⠎⠑⠝⠃ ⠁⠞ ⠠⠝⠑⠠⠺ ⠠⠵⠑⠁⠠⠊⠁⠝⠙ ⠁⠊⠗⠏⠠⠕⠞\n",
      "File 'output/document_2.txt' created successfully!\n",
      "--> WOman arreSted With lO kg Of meth Wrapped aS ChriStmaS preSenb at NeW ZeaIand airpOt\n"
     ]
    },
    {
     "data": {
      "image/png": "[encoded data removed]",
      "text/plain": [
       "<Figure size 640x480 with 1 Axes>"
      ]
     },
     "metadata": {},
     "output_type": "display_data"
    }
   ],
   "source": [
    "from helperFunctions.brailleConversion import run_braille_conversion\n",
    "\n",
    "image_paths = [f\"data/test/document_{i}.png\" for i in range(1, 21)]\n",
    "output_path = \"output/\"\n",
    "\n",
    "predicted_texts = []\n",
    "\n",
    "for img_path in image_paths: \n",
    "    output_filePath = os.path.join(output_path, img_path.split('/')[-1].split('.')[0] + '.txt')\n",
    "    img = read_image(img_path)\n",
    "    text = extract(img)\n",
    "    predicted_texts.append(text)\n",
    "    \n",
    "    run_braille_conversion(text, output_filePath) # save the text in braille format to output location\n",
    "    \n",
    "    print('-->', text)\n"
   ]
  },
  {
   "cell_type": "markdown",
   "metadata": {},
   "source": [
    "## Spell checking with SymSpell\n",
    "\n",
    "Symspell performs a spell checking on the OCR'ed text and correct text based on its dictionary database."
   ]
  },
  {
   "cell_type": "code",
   "execution_count": null,
   "metadata": {},
   "outputs": [],
   "source": [
    "sym_spell = SymSpell(max_dictionary_edit_distance=2, prefix_length=7)\n",
    "dictionary_path = pkg_resources.resource_filename(\"symspellpy\", \"frequency_dictionary_en_82_765.txt\")\n",
    "sym_spell.load_dictionary(dictionary_path, term_index=0, count_index=1)\n",
    "\n",
    "input_term = text\n",
    "result = sym_spell.word_segmentation(input_term)\n",
    "print('The corrected text:',result.corrected_string)"
   ]
  },
  {
   "cell_type": "markdown",
   "metadata": {},
   "source": [
    "## CER score\n",
    "\n",
    "Please run using the `compute_CER.py` file instead."
   ]
  },
  {
   "cell_type": "code",
   "execution_count": 18,
   "metadata": {},
   "outputs": [
    {
     "name": "stdout",
     "output_type": "stream",
     "text": [
      "['ACCOrding tO Current eStimateSJ if AuStraIianS had tO fight kangarOOSJ the ratiO WOuId be rOughIy lBb. kangarOOS per perSOn. Meaning fOr eVey AuStraIianJ they WOuId StatiStiCaIIy need tO fight arOund One and a third kangarOOSJ aS there are SignifiCantIy mOre kangarOOS than peOpIe in AuStraIia', 'WOman arreSted With lO kg Of meth Wrapped aS ChriStmaS preSenb at NeW ZeaIand airpOt', 'NeW ZeaIand CuStOmS OfiCiaIS Said lOZ. kiIOgramS Of methamphetamine WOth up tO ZZ. USD miIIiOn WaS diSCOVered in the Carry On Iuggage When She arriVed at AuCkIand AirpOt On a fIight frOm VanCOuVer On Sunday.', 'A Canadian WOman haS been arreSted fOr aIIegedIy atempting tO SmuggIe drugS intO NeW ZeaIandJ by diSguiSing them aS ChriStmaS preSenb.', 'BOrder COIIieS are high energy WOrking dOgS that Were hiStOriCaIIy bred tO herd IiVeStOCk On farmS in Great BritainJ aCCOrding tO the AmeriCan BOrder COIIie ASSOCiatiOn Or ABCA. TOdayJ yOu Can StiII find BOrder COIIieS herding On farmSJ but they are aISO pOpuIar famiIy peb. They are nimbIe and agiIe dOgS buiIt fOr faStJ Sharp mOVemenb. The SiZe iS beWeen BO and DD pOundSJ and they ypiCaIIy Stand beWeen lB and ZZ inCheS taII. The breed Oten haS a medium IengthJ dOubIe COat Of WaVy hairJ thOugh ShOt haired BOrder COIIieS are aISO COmmOn. NO mater the IengthJ pOpuIar BOrder COIIie COIOrS inCIude bIaCk and WhiteJ aII bIaCkJ redJ IiIaCJ and bIue.', 'InterSteIIar iS a ZOlA epiC SCienCe fiCtiOn drama fiIm direCted by ChriStOpher NOIanJ WhO CO WrOte the SCreenpIay With hiS brOther J Onathan NOIan. It StarS MatheW MCCOnaugheyJ Anne HathaWayJ J eSSiCa ChaStainJ BiII IWinJ E IIen BurSynJ and M iChaeI Caine. Set in a dyStOpian future Where Eath iS Sufering frOm CataStrOphiC bIight and famineJ the fiIm fOIIOWS a grOup Of aStrOnaub WhO traVeI thrOugh a WOrmhOIe near Saturn in SearCh Of a neW hOme fOr mankind.', 'AutOmObiIi LambOrghini SpA...J uSuaIIy referred tO aS LambOrghini Or COIIOquiaIIy LambOSJ an ItaIian manufaCturer Of IuXuy SpOK CarS and SUVS baSed in Sant Agata BOIOgneSe. The COmpany iS OWned by the VOIkSWagen GrOup thrOugh ib SubSidiary Audi.', 'M iCrOSOt COrpOratiOn iS an AmeriCan muItinatiOnaI teChnOIOgy COngIOmerate headquatered in RedmOndJ WaShingtOn. FOunded in lgTDJ the COmpany beCame highIy infIuentiaI in the riSe Of perSOnaI COmputerS thrOugh SOMare Iike WindOWSJ and the COmpany haS SinCe eXpanded tO Internet SeNiCeSJ CIOud COmputingJ VideO gaming and Other fieIdS. M iCrOSOt iS the IargeSt SOtWare makerJ One Of the mOSt VaIuabIe pubIiC US.. COmpanieSJ and One Ofthe mOSt VaIuabIe brandS gIObaIIy.', 'M iCrOSOt iS COnSidered One Of the Big FiVe AmeriCan infOrmatiOn teChnOIOgy COmpanieSJ aIOngSide AIphabetJ AmaZOnJ AppIeJ and Meta. In ApriI ZOlgJ M iCrOSOt reaChed a triIIiOn dOIIar market CapJ beCOming the third pubIiC US.. COmpany tO be VaIued at OVer l triIIiOn USD.', 'ThaiIandJ OfiCiaIIy the KingdOm Of ThaiIand and hiStOriCaIIy knOWn aS Siam iS a J COuntry in SOutheaSt ASia On the IndOChineSe PeninSuIa. With a pOpuIatiOn Of aImOSt bb miIIiOnJ it SpanS DlBllDJ Square kiIOmetreS. ThaiIand iS bOrdered tO the nOthWeSt by MyanmarJ tO the nOtheaSt and eaSt by LaOSJ tO the SOutheaSt by CambOdiaJ tO the SOuth by the GuIf Of ThaiIand and MaIaySiaJ and tO the SOuthWeSt by the Andaman Sea. It aISO ShareS maritime bOrderS With Vietnam tO the SOutheaSt and IndOneSia and India tO the SOuthWeSt. BangkOk iS the State CapitaI and IargeSt Ciy.', 'P hat kaphraOJ aISO SpeIIed pad kaprOWJ pad kapraOJ Or pad gapraOJ iS One Ofthe mOSt pOpuIar Thai diSheS in ThaiIand. ThiS diSh haS garnered a reputatiOn fOr ib appetiSing appearanCe and fIaVOur.', 'TOyOta VehiCIeSJ patiCuIarIy the TOyOta HiIuX piCkup truCk and Land CruiSerJ haVe beCOme WideIy knOWn fOr their prOminent rOIe in VariOuS WarS arOund the WOrId due tO their eXCeptiOnaI reIiabiIiyJ durabiIiyJ and abiIiy tO naVigate rOugh terrainJ Oten being uSed by inSurgent grOupS and fOrCeS in COnfIiCt ZOneS aS teChniCaIS With mOunted WeapOnSJ making them a SignifiCant pat Of mOdern WafareJ mOSt nOtabIy Seen in COnfIiCb in the M iddIe EaSt and AfriCa. ThiS phenOmenOn iS SOmetimeS eVen referred tO aS the TOyOta War With the mOSt famOuS eXampIe being the Chad and Libya COnfIiCt Where Chadian fOrCeS uSed TOyOta truCkS tO SuCCeSSfuIIy fight againSt a Iarger Libyan army equipped With heaVy tankS.', 'J et Ski iS the brand name Of a perSOnaI WaterCrat Or PWC manufaCtured by KaWaSakiJ a J apaneSe COmpany. The term iS Oten uSed generiCaIIy tO refer tO any ype Of perSOnaI WaterCrat uSed mainIy fOr reCreatiOnJ and it iS aISO uSed aS a Verb tO deSCribe the uSe Of any ype Of PWC.', 'A COyOte iS a perSOn WhO SmuggIeS immigranb aCrOSS the MeXiCO and United StateS bOrder. The term iS a IOanWOrd frOm MeXiCan SpaniShJ Where it iS uSed tO refer tO a SpeCieS Of NOth AmeriCan WiId dOg. M igranb pay COyOteS a fee tO guide them aCrOSS the bOrder. The US.. CuStOmS and BOrder P rOteCtiOn Or CBP haS run ad CampaignS tO Warn migranb abOut the dangerS Of CrOSSing the bOrder With SmuggIerSJ WhO are knOWn aS COyOteS. The adS highIight that SmuggIerS Iie tO Iure migranb intO dangerOuS jOurneyS that Oten end in death Or remOVaI.', 'The raCCOOnJ aISO SpeIIed raCOOn and SOmetimeS CaIIed the COmmOn raCCOOn Or nOrthern raCCOOn tO diStinguiSh it frOm the Other SpeCieSJ iS a mammaI natiVe tO NOth AmeriCa. It iS the IargeSt Of the prOCyOnid famiIyJ haVing a bOdy Iength Of AO tO TO CmJ and a bOdy Weight Of D tO Zb kg. Ib grayiSh COat mOStIy COnSiSb Of denSe undefurJ WhiCh inSuIateS it againSt COId Weather. The mOSt diStinCtiVe featureS inCIude ib eXtremeIy deXterOuS frOnt paWSJ ib faCiaI maSkJ and itS ringed taiIJ WhiCh are COmmOn themeS in the mythOIOgieS Of the IndigenOuS peOpIeS Of the AmeriCaS SurrOunding the SpeCieS. The raCCOOn iS nOted fOr ib inteIIigenCeJ and StudieS ShOW that it iS abIe tO remember the SOIutiOn tO taSkS fOr at IeaSt three yearS. It iS uSuaIIy nOCturnaI and OmniVOrOuS.', 'The United StateS Air FOrCe Or USAF iS the air SerViCe branCh Of the United StateS Armed FOrCeSJ and iS One Of the eight unifOrmed SerViCeS Of the United StateS. OriginaIIy Created On l AuguSt lgOT. aS a pat Of the United StateS Army SignaI J COrpSJ the USAF WaS eStabIiShed aS a Separate branCh Of the United StateS Armed FOrCeS in lgAT With the enaCtment Of the NatiOnaI SeCuriy ACt Of lgAT It iS the u SeCOnd yOungeSt branCh Ofthe United StateS Armed FOrCeS and the fOuth in Order Of preCedenCe. The U nited StateS Air FOrCe atiCuIateS ib COre miSSiOnS aS air SupremaCyJ gIObaI integrated inteIIigenCeJ SuNeiIIanCe and reCOnnaiSSanCeJ rapid gIObaI mObiIiyJ gIObaI StrikeJ and COmmand and COntrOI.', 'The GOId COaSt raiIWay Iine iS an interurban raiIWay Iine Operated by QueenSIand RaiI in QueenSIandJ AuStraIiaJ COnneCting BriSbane With the GOId COaSt. The Iine haS lT StatiOnS. In ZOZlJ a jOurney frOm CentraI StatiOn tO the terminuS Of thiS Iine WaS SCheduIed tO take l hOur ZB minuteS. There are pIanS fOr SeVeraI neW StatiOnS aIOng the eXiSting IineJ aS WeII aS an eXtenSiOn SOuth. The Iine ran tO TWeed HeadS in the earIy lgOOS untiI the lgbOS. A neW GOId COaSt raiIWay Opened in lggb With an eXtenSiOn tO VarSiy LakeS Opened in ZOOT In DeCember ZOlT the GIink Iight raiI u SeNiCeS COnneCted tO the Iine at HeIenSVaIe StatiOn. DupIiCatiOn Of the Iine prOgreSSed in StageS.', 'OptimuS P rimeJ aISO knOWn in J apan aS COnVOyJ iS a fiCtiOnaI CharaCter and the main prOtagOniSt Of the TranSfOrmerS franChiSe. GeneraIIy depiCted aS a braVe and nObIe IeaderJ OptimuS P rime iS the Supreme COmmander Of the AutObOb in their fight againSt the DeCeptiCOnS. The TranSfOrmerS CharaCterS Were deVeIOped fOr the AmeriCan market ater HaSbrO repreSentatiVeS ViSited the lgBB TOkyO TOy ShOW. The CharaCterS Were mOdified and the COIOring WaS Changed. NOtabIyJ OptimuS P rime WaS COIOred redJ ChrOmeJ and dark bIue. The pOpuIariy Of the TranSfOrmerS tOyS reSuIted in COmiCSJ mOVieSJ and a TV SerieS.', 'The fiCtiOnaI rObOt Cat WaS bOrn in the future in ZllZJ making him minuS gO yearS OId. DOraemOn firSt arriVed in Our time in lgTO aS a CharaCter in a manga and anime SerieS Created by FujikO F FujiOJ the pen name Of HirOShi FujimOtO and MOtOO AbikO.', 'AS IitIe aS lO tO lD g may be fataI in ChiIdren. SymptOmS Of intOXiCatiOn by ingeStiOn Of gaSOIine Can range frOm VOmitingJ VetigOJ drOWSineSS and COnfuSiOn tO IOSS Of COnSCiOuSneSSJ COnVuISiOnSJ hemOrrhaging Of the IungS and internaI OrganSJ and death due tO CirCuIatOry faiIure.']\n",
      "7.6\n",
      "8.333333333333332\n",
      "10.227272727272728\n",
      "7.758620689655173\n",
      "12.637362637362637\n",
      "9.02061855670103\n",
      "10.7981220657277\n",
      "10.37037037037037\n",
      "12.22707423580786\n",
      "8.403361344537815\n",
      "7.317073170731707\n",
      "6.365159128978225\n",
      "5.701754385964912\n",
      "5.15695067264574\n",
      "8.398133748055987\n",
      "8.70307167235495\n",
      "12.655971479500892\n",
      "5.6640625\n",
      "6.9306930693069315\n",
      "9.243697478991598\n"
     ]
    }
   ],
   "source": [
    "print(predicted_texts)\n",
    "# import compute_CER from CER.py located in helperFunctions/\n",
    "from helperFunctions.computeCER import compute_CER\n",
    "\n",
    "# Load the text file\n",
    "ground_truth_file = \"helperFunctions/groundTruth.txt\"\n",
    "with open(ground_truth_file, 'r', encoding='utf-8') as file:\n",
    "    lines = file.readlines()\n",
    "\n",
    "for idx, line in enumerate(lines):\n",
    "    if line.strip():  # Ensure the line is not empty\n",
    "        ground_truth = line.strip()\n",
    "        if idx < len(predicted_texts):\n",
    "            predicted_text = predicted_texts[idx]\n",
    "            print(compute_CER(predicted_text, ground_truth))\n",
    "        else:\n",
    "            print(f\"No predicted text for line {idx + 1}\")"
   ]
  }
 ],
 "metadata": {
  "kernelspec": {
   "display_name": "Python 3",
   "language": "python",
   "name": "python3"
  },
  "language_info": {
   "codemirror_mode": {
    "name": "ipython",
    "version": 3
   },
   "file_extension": ".py",
   "mimetype": "text/x-python",
   "name": "python",
   "nbconvert_exporter": "python",
   "pygments_lexer": "ipython3",
   "version": "3.10.12"
  }
 },
 "nbformat": 4,
 "nbformat_minor": 2
}
